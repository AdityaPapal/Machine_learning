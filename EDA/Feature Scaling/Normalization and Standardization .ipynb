{
 "cells": [
  {
   "cell_type": "code",
   "execution_count": 1,
   "id": "8b8e9f66",
   "metadata": {},
   "outputs": [],
   "source": [
    "import pandas as pd\n",
    "import numpy as np\n",
    "import seaborn as sns\n",
    "import matplotlib.pyplot as plt\n",
    "%matplotlib inline"
   ]
  },
  {
   "cell_type": "code",
   "execution_count": 2,
   "id": "6a79a37b",
   "metadata": {},
   "outputs": [
    {
     "data": {
      "text/html": [
       "<div>\n",
       "<style scoped>\n",
       "    .dataframe tbody tr th:only-of-type {\n",
       "        vertical-align: middle;\n",
       "    }\n",
       "\n",
       "    .dataframe tbody tr th {\n",
       "        vertical-align: top;\n",
       "    }\n",
       "\n",
       "    .dataframe thead th {\n",
       "        text-align: right;\n",
       "    }\n",
       "</style>\n",
       "<table border=\"1\" class=\"dataframe\">\n",
       "  <thead>\n",
       "    <tr style=\"text-align: right;\">\n",
       "      <th></th>\n",
       "      <th>Survived</th>\n",
       "      <th>Pclass</th>\n",
       "      <th>Age</th>\n",
       "      <th>Fare</th>\n",
       "    </tr>\n",
       "  </thead>\n",
       "  <tbody>\n",
       "    <tr>\n",
       "      <th>0</th>\n",
       "      <td>0</td>\n",
       "      <td>3</td>\n",
       "      <td>22.0</td>\n",
       "      <td>7.2500</td>\n",
       "    </tr>\n",
       "    <tr>\n",
       "      <th>1</th>\n",
       "      <td>1</td>\n",
       "      <td>1</td>\n",
       "      <td>38.0</td>\n",
       "      <td>71.2833</td>\n",
       "    </tr>\n",
       "    <tr>\n",
       "      <th>2</th>\n",
       "      <td>1</td>\n",
       "      <td>3</td>\n",
       "      <td>26.0</td>\n",
       "      <td>7.9250</td>\n",
       "    </tr>\n",
       "    <tr>\n",
       "      <th>3</th>\n",
       "      <td>1</td>\n",
       "      <td>1</td>\n",
       "      <td>35.0</td>\n",
       "      <td>53.1000</td>\n",
       "    </tr>\n",
       "    <tr>\n",
       "      <th>4</th>\n",
       "      <td>0</td>\n",
       "      <td>3</td>\n",
       "      <td>35.0</td>\n",
       "      <td>8.0500</td>\n",
       "    </tr>\n",
       "  </tbody>\n",
       "</table>\n",
       "</div>"
      ],
      "text/plain": [
       "   Survived  Pclass   Age     Fare\n",
       "0         0       3  22.0   7.2500\n",
       "1         1       1  38.0  71.2833\n",
       "2         1       3  26.0   7.9250\n",
       "3         1       1  35.0  53.1000\n",
       "4         0       3  35.0   8.0500"
      ]
     },
     "execution_count": 2,
     "metadata": {},
     "output_type": "execute_result"
    }
   ],
   "source": [
    "df=pd.read_csv('Datasets/titanic.csv', usecols=['Pclass','Age','Fare','Survived'])\n",
    "df.head()"
   ]
  },
  {
   "cell_type": "code",
   "execution_count": 3,
   "id": "47122cdc",
   "metadata": {},
   "outputs": [
    {
     "data": {
      "text/plain": [
       "177"
      ]
     },
     "execution_count": 3,
     "metadata": {},
     "output_type": "execute_result"
    }
   ],
   "source": [
    "df['Age'].isnull().sum()"
   ]
  },
  {
   "cell_type": "code",
   "execution_count": 4,
   "id": "8bb12f63",
   "metadata": {},
   "outputs": [],
   "source": [
    "df['Age'].fillna(df.Age.median(),inplace=True)"
   ]
  },
  {
   "cell_type": "code",
   "execution_count": 5,
   "id": "7cc746cb",
   "metadata": {},
   "outputs": [
    {
     "data": {
      "text/plain": [
       "0      22.0\n",
       "1      38.0\n",
       "2      26.0\n",
       "3      35.0\n",
       "4      35.0\n",
       "       ... \n",
       "886    27.0\n",
       "887    19.0\n",
       "888    28.0\n",
       "889    26.0\n",
       "890    32.0\n",
       "Name: Age, Length: 891, dtype: float64"
      ]
     },
     "execution_count": 5,
     "metadata": {},
     "output_type": "execute_result"
    }
   ],
   "source": [
    "df['Age']"
   ]
  },
  {
   "cell_type": "code",
   "execution_count": 6,
   "id": "aea79cdc",
   "metadata": {},
   "outputs": [
    {
     "data": {
      "text/html": [
       "<div>\n",
       "<style scoped>\n",
       "    .dataframe tbody tr th:only-of-type {\n",
       "        vertical-align: middle;\n",
       "    }\n",
       "\n",
       "    .dataframe tbody tr th {\n",
       "        vertical-align: top;\n",
       "    }\n",
       "\n",
       "    .dataframe thead th {\n",
       "        text-align: right;\n",
       "    }\n",
       "</style>\n",
       "<table border=\"1\" class=\"dataframe\">\n",
       "  <thead>\n",
       "    <tr style=\"text-align: right;\">\n",
       "      <th></th>\n",
       "      <th>Survived</th>\n",
       "      <th>Pclass</th>\n",
       "      <th>Age</th>\n",
       "      <th>Fare</th>\n",
       "    </tr>\n",
       "  </thead>\n",
       "  <tbody>\n",
       "    <tr>\n",
       "      <th>0</th>\n",
       "      <td>0</td>\n",
       "      <td>3</td>\n",
       "      <td>22.0</td>\n",
       "      <td>7.2500</td>\n",
       "    </tr>\n",
       "    <tr>\n",
       "      <th>1</th>\n",
       "      <td>1</td>\n",
       "      <td>1</td>\n",
       "      <td>38.0</td>\n",
       "      <td>71.2833</td>\n",
       "    </tr>\n",
       "    <tr>\n",
       "      <th>2</th>\n",
       "      <td>1</td>\n",
       "      <td>3</td>\n",
       "      <td>26.0</td>\n",
       "      <td>7.9250</td>\n",
       "    </tr>\n",
       "    <tr>\n",
       "      <th>3</th>\n",
       "      <td>1</td>\n",
       "      <td>1</td>\n",
       "      <td>35.0</td>\n",
       "      <td>53.1000</td>\n",
       "    </tr>\n",
       "    <tr>\n",
       "      <th>4</th>\n",
       "      <td>0</td>\n",
       "      <td>3</td>\n",
       "      <td>35.0</td>\n",
       "      <td>8.0500</td>\n",
       "    </tr>\n",
       "  </tbody>\n",
       "</table>\n",
       "</div>"
      ],
      "text/plain": [
       "   Survived  Pclass   Age     Fare\n",
       "0         0       3  22.0   7.2500\n",
       "1         1       1  38.0  71.2833\n",
       "2         1       3  26.0   7.9250\n",
       "3         1       1  35.0  53.1000\n",
       "4         0       3  35.0   8.0500"
      ]
     },
     "execution_count": 6,
     "metadata": {},
     "output_type": "execute_result"
    }
   ],
   "source": [
    "df.head()"
   ]
  },
  {
   "cell_type": "code",
   "execution_count": 7,
   "id": "a00ad237",
   "metadata": {},
   "outputs": [],
   "source": [
    "#### standarisation: We use the Standardscaler from sklearn library\n",
    "from sklearn.preprocessing import StandardScaler"
   ]
  },
  {
   "cell_type": "code",
   "execution_count": 8,
   "id": "2129305a",
   "metadata": {},
   "outputs": [],
   "source": [
    "scaler=StandardScaler()\n",
    "### fit vs fit_transform\n",
    "df_scaled=scaler.fit_transform(df)"
   ]
  },
  {
   "cell_type": "code",
   "execution_count": 10,
   "id": "701685e1",
   "metadata": {},
   "outputs": [
    {
     "data": {
      "text/plain": [
       "array([[-0.78927234,  0.82737724, -0.56573646, -0.50244517],\n",
       "       [ 1.2669898 , -1.56610693,  0.66386103,  0.78684529],\n",
       "       [ 1.2669898 ,  0.82737724, -0.25833709, -0.48885426],\n",
       "       ...,\n",
       "       [-0.78927234,  0.82737724, -0.1046374 , -0.17626324],\n",
       "       [ 1.2669898 , -1.56610693, -0.25833709, -0.04438104],\n",
       "       [-0.78927234,  0.82737724,  0.20276197, -0.49237783]])"
      ]
     },
     "execution_count": 10,
     "metadata": {},
     "output_type": "execute_result"
    }
   ],
   "source": [
    "df_scaled[:]"
   ]
  },
  {
   "cell_type": "code",
   "execution_count": 12,
   "id": "cb71e9a3",
   "metadata": {},
   "outputs": [],
   "source": [
    "df2 = pd.DataFrame(df_scaled)"
   ]
  },
  {
   "cell_type": "code",
   "execution_count": 13,
   "id": "2105940f",
   "metadata": {},
   "outputs": [
    {
     "data": {
      "text/html": [
       "<div>\n",
       "<style scoped>\n",
       "    .dataframe tbody tr th:only-of-type {\n",
       "        vertical-align: middle;\n",
       "    }\n",
       "\n",
       "    .dataframe tbody tr th {\n",
       "        vertical-align: top;\n",
       "    }\n",
       "\n",
       "    .dataframe thead th {\n",
       "        text-align: right;\n",
       "    }\n",
       "</style>\n",
       "<table border=\"1\" class=\"dataframe\">\n",
       "  <thead>\n",
       "    <tr style=\"text-align: right;\">\n",
       "      <th></th>\n",
       "      <th>0</th>\n",
       "      <th>1</th>\n",
       "      <th>2</th>\n",
       "      <th>3</th>\n",
       "    </tr>\n",
       "  </thead>\n",
       "  <tbody>\n",
       "    <tr>\n",
       "      <th>0</th>\n",
       "      <td>-0.789272</td>\n",
       "      <td>0.827377</td>\n",
       "      <td>-0.565736</td>\n",
       "      <td>-0.502445</td>\n",
       "    </tr>\n",
       "    <tr>\n",
       "      <th>1</th>\n",
       "      <td>1.266990</td>\n",
       "      <td>-1.566107</td>\n",
       "      <td>0.663861</td>\n",
       "      <td>0.786845</td>\n",
       "    </tr>\n",
       "    <tr>\n",
       "      <th>2</th>\n",
       "      <td>1.266990</td>\n",
       "      <td>0.827377</td>\n",
       "      <td>-0.258337</td>\n",
       "      <td>-0.488854</td>\n",
       "    </tr>\n",
       "    <tr>\n",
       "      <th>3</th>\n",
       "      <td>1.266990</td>\n",
       "      <td>-1.566107</td>\n",
       "      <td>0.433312</td>\n",
       "      <td>0.420730</td>\n",
       "    </tr>\n",
       "    <tr>\n",
       "      <th>4</th>\n",
       "      <td>-0.789272</td>\n",
       "      <td>0.827377</td>\n",
       "      <td>0.433312</td>\n",
       "      <td>-0.486337</td>\n",
       "    </tr>\n",
       "    <tr>\n",
       "      <th>...</th>\n",
       "      <td>...</td>\n",
       "      <td>...</td>\n",
       "      <td>...</td>\n",
       "      <td>...</td>\n",
       "    </tr>\n",
       "    <tr>\n",
       "      <th>886</th>\n",
       "      <td>-0.789272</td>\n",
       "      <td>-0.369365</td>\n",
       "      <td>-0.181487</td>\n",
       "      <td>-0.386671</td>\n",
       "    </tr>\n",
       "    <tr>\n",
       "      <th>887</th>\n",
       "      <td>1.266990</td>\n",
       "      <td>-1.566107</td>\n",
       "      <td>-0.796286</td>\n",
       "      <td>-0.044381</td>\n",
       "    </tr>\n",
       "    <tr>\n",
       "      <th>888</th>\n",
       "      <td>-0.789272</td>\n",
       "      <td>0.827377</td>\n",
       "      <td>-0.104637</td>\n",
       "      <td>-0.176263</td>\n",
       "    </tr>\n",
       "    <tr>\n",
       "      <th>889</th>\n",
       "      <td>1.266990</td>\n",
       "      <td>-1.566107</td>\n",
       "      <td>-0.258337</td>\n",
       "      <td>-0.044381</td>\n",
       "    </tr>\n",
       "    <tr>\n",
       "      <th>890</th>\n",
       "      <td>-0.789272</td>\n",
       "      <td>0.827377</td>\n",
       "      <td>0.202762</td>\n",
       "      <td>-0.492378</td>\n",
       "    </tr>\n",
       "  </tbody>\n",
       "</table>\n",
       "<p>891 rows × 4 columns</p>\n",
       "</div>"
      ],
      "text/plain": [
       "            0         1         2         3\n",
       "0   -0.789272  0.827377 -0.565736 -0.502445\n",
       "1    1.266990 -1.566107  0.663861  0.786845\n",
       "2    1.266990  0.827377 -0.258337 -0.488854\n",
       "3    1.266990 -1.566107  0.433312  0.420730\n",
       "4   -0.789272  0.827377  0.433312 -0.486337\n",
       "..        ...       ...       ...       ...\n",
       "886 -0.789272 -0.369365 -0.181487 -0.386671\n",
       "887  1.266990 -1.566107 -0.796286 -0.044381\n",
       "888 -0.789272  0.827377 -0.104637 -0.176263\n",
       "889  1.266990 -1.566107 -0.258337 -0.044381\n",
       "890 -0.789272  0.827377  0.202762 -0.492378\n",
       "\n",
       "[891 rows x 4 columns]"
      ]
     },
     "execution_count": 13,
     "metadata": {},
     "output_type": "execute_result"
    }
   ],
   "source": [
    "df2"
   ]
  },
  {
   "cell_type": "code",
   "execution_count": 14,
   "id": "60458d66",
   "metadata": {},
   "outputs": [
    {
     "data": {
      "text/plain": [
       "array([[-0.78927234,  0.82737724, -0.56573646, -0.50244517],\n",
       "       [ 1.2669898 , -1.56610693,  0.66386103,  0.78684529],\n",
       "       [ 1.2669898 ,  0.82737724, -0.25833709, -0.48885426],\n",
       "       ...,\n",
       "       [-0.78927234,  0.82737724, -0.1046374 , -0.17626324],\n",
       "       [ 1.2669898 , -1.56610693, -0.25833709, -0.04438104],\n",
       "       [-0.78927234,  0.82737724,  0.20276197, -0.49237783]])"
      ]
     },
     "execution_count": 14,
     "metadata": {},
     "output_type": "execute_result"
    }
   ],
   "source": [
    "df_scaled[:]"
   ]
  },
  {
   "cell_type": "code",
   "execution_count": 15,
   "id": "30aa4c95",
   "metadata": {
    "scrolled": false
   },
   "outputs": [
    {
     "data": {
      "text/plain": [
       "array([-0.56573646,  0.66386103, -0.25833709,  0.4333115 ,  0.4333115 ,\n",
       "       -0.1046374 ,  1.89345853, -2.10273333, -0.18148724, -1.18053521,\n",
       "       -1.94903364,  2.2008579 , -0.71943615,  0.74071088, -1.18053521,\n",
       "        1.97030837, -2.10273333, -0.1046374 ,  0.12591213, -0.1046374 ,\n",
       "        0.4333115 ,  0.35646166, -1.10368536, -0.1046374 , -1.64163427,\n",
       "        0.66386103, -0.1046374 , -0.79628599, -0.1046374 , -0.1046374 ,\n",
       "        0.81756072, -0.1046374 , -0.1046374 ,  2.81565665, -0.1046374 ,\n",
       "        0.97126041, -0.1046374 , -0.6425863 , -0.87313583, -1.18053521,\n",
       "        0.81756072, -0.18148724, -0.1046374 , -2.02588348, -0.79628599,\n",
       "       -0.1046374 , -0.1046374 , -0.1046374 , -0.1046374 , -0.87313583,\n",
       "       -1.71848411, -0.6425863 ,  1.50920931, -0.02778756,  2.7388068 ,\n",
       "       -0.1046374 , -0.6425863 , -0.06621248, -1.8721838 , -1.41108474,\n",
       "       -0.56573646,  0.66386103,  1.20180994, -1.94903364, -0.1046374 ,\n",
       "       -0.1046374 , -0.02778756, -0.79628599, -0.94998568, -0.25833709,\n",
       "        0.20276197, -1.02683552, -0.6425863 , -0.25833709,  0.20276197,\n",
       "       -0.33518693, -0.1046374 , -0.1046374 , -2.19264764,  0.04906229,\n",
       "       -0.56573646, -0.02778756, -0.1046374 , -0.1046374 , -0.94998568,\n",
       "        0.27961182, -1.02683552, -0.1046374 , -0.48888662, -0.41203677,\n",
       "       -0.02778756, -0.71943615,  1.27865978, -0.25833709,  2.27770774,\n",
       "       -0.1046374 ,  3.19990586, -0.48888662,  0.35646166,  0.35646166,\n",
       "       -0.1046374 , -0.1046374 , -0.6425863 ,  0.27961182,  0.58701119,\n",
       "       -0.1046374 , -0.6425863 , -0.1046374 ,  0.66386103, -0.1046374 ,\n",
       "        1.35550962, -1.14211029, -0.56573646, -0.71943615, -0.94998568,\n",
       "       -0.6425863 ,  3.16148094, -0.02778756, -0.41203677, -2.10273333,\n",
       "       -0.6425863 , -0.1046374 ,  0.24118689,  0.24118689,  1.89345853,\n",
       "       -1.33423489, -0.1046374 , -0.41203677, -0.1046374 ,  1.20180994,\n",
       "        0.27961182, -0.71943615,  1.35550962, -0.02778756, -0.33518693,\n",
       "       -0.48888662, -0.79628599,  0.58701119, -1.02683552, -0.41203677,\n",
       "       -0.1046374 , -0.56573646, -0.41203677, -0.79628599, -0.87313583,\n",
       "       -0.79628599, -0.18148724, -1.56478442,  0.54858627,  0.97126041,\n",
       "        1.662909  , -0.56573646,  2.00873329,  0.85598564, -0.1046374 ,\n",
       "        1.662909  , -1.02683552,  0.04906229, -0.1046374 , -0.1046374 ,\n",
       "        1.12496009,  0.81756072, -0.25833709, -0.94998568, -2.17958317,\n",
       "       -1.56478442, -0.1046374 ,  1.20180994, -0.1046374 , -0.1046374 ,\n",
       "        2.43140743, -1.94903364, -2.17958317, -0.6425863 ,  2.04715821,\n",
       "       -0.87313583, -0.1046374 ,  1.58605915,  0.04906229,  0.51016135,\n",
       "       -0.1046374 , -0.1046374 , -1.56478442, -2.17958317, -1.94903364,\n",
       "       -0.1046374 , -0.1046374 ,  1.20180994,  0.81756072,  0.51016135,\n",
       "        0.20276197, -0.79628599, -0.79628599, -2.02588348,  1.12496009,\n",
       "        2.2008579 , -0.1046374 ,  0.97126041, -0.1046374 , -0.41203677,\n",
       "       -0.1046374 , -0.1046374 ,  0.35646166,  1.24023486, -0.87313583,\n",
       "       -2.10273333,  0.20276197, -0.25833709, -1.02683552,  0.81756072,\n",
       "       -0.41203677,  0.4333115 , -0.56573646,  0.04906229, -0.1046374 ,\n",
       "        0.12591213, -0.18148724,  0.97126041,  0.20276197,  0.04906229,\n",
       "       -1.02683552, -0.18148724,  1.662909  , -0.1046374 ,  0.66386103,\n",
       "       -0.56573646, -0.79628599, -0.68101123, -0.87313583, -0.1046374 ,\n",
       "        0.4333115 , -0.02778756,  2.27770774, -1.8721838 , -0.41203677,\n",
       "       -0.1046374 ,  1.12496009, -1.64163427, -0.79628599,  0.27961182,\n",
       "       -0.1046374 , -0.1046374 , -0.02778756, -0.56573646,  0.04906229,\n",
       "        1.12496009, -0.33518693, -0.41203677,  0.58701119,  1.89345853,\n",
       "       -0.1046374 , -0.02778756,  2.50825727,  0.04906229,  0.89441056,\n",
       "       -0.02778756, -0.1046374 ,  0.04906229,  0.4333115 ,  1.58605915,\n",
       "       -0.1046374 , -2.02588348,  1.73975884,  0.81756072, -0.1046374 ,\n",
       "        0.51016135, -1.02683552, -0.33518693,  2.2008579 ,  0.4333115 ,\n",
       "       -0.1046374 , -0.33518693,  0.89441056,  0.58701119, -0.1046374 ,\n",
       "        2.58510712,  1.20180994, -0.1046374 , -1.71848411,  0.4333115 ,\n",
       "        2.7388068 , -0.1046374 , -1.02683552, -0.79628599, -0.1046374 ,\n",
       "        0.27961182,  0.04906229, -0.56573646,  0.97126041, -0.56573646,\n",
       "       -0.25833709, -0.79628599,  0.51016135, -0.41203677, -0.41203677,\n",
       "       -0.1046374 , -0.4504617 , -2.10273333, -0.1046374 ,  1.58605915,\n",
       "       -0.1046374 , -0.1046374 , -0.79628599, -0.1046374 , -0.1046374 ,\n",
       "       -2.18573116, -0.1046374 , -0.94998568,  0.04906229,  0.04906229,\n",
       "       -0.41203677, -0.87313583, -0.25833709, -0.1046374 ,  1.04811025,\n",
       "       -0.25833709, -0.41203677,  1.89345853,  0.12591213,  0.81756072,\n",
       "       -0.56573646, -0.18148724,  0.04906229, -0.56573646, -0.1046374 ,\n",
       "        0.51016135,  2.43140743,  0.51016135,  0.12591213, -1.02683552,\n",
       "       -0.1046374 ,  1.24023486,  0.66386103, -1.02683552, -0.1046374 ,\n",
       "       -0.1046374 , -0.02778756,  0.89441056,  1.20180994,  1.20180994,\n",
       "       -2.10273333, -0.41203677, -0.1046374 , -0.33518693,  0.51016135,\n",
       "       -0.41203677,  0.81756072, -0.1046374 , -2.02588348,  0.97126041,\n",
       "       -0.48888662, -0.1046374 , -1.10368536, -0.33518693, -0.1046374 ,\n",
       "       -0.1046374 , -0.56573646,  0.66386103, -0.1046374 , -0.1046374 ,\n",
       "        0.81756072, -0.02778756,  1.20180994,  0.4333115 , -0.1046374 ,\n",
       "        0.04906229,  2.35455759, -0.1046374 , -0.1046374 , -0.41203677,\n",
       "       -0.33518693, -0.87313583, -0.79628599, -0.56573646, -2.02588348,\n",
       "       -0.1046374 , -0.56573646, -0.18148724, -0.71943615, -0.79628599,\n",
       "        0.97126041, -2.17958317,  0.20276197,  0.4333115 , -0.1046374 ,\n",
       "       -0.87313583, -2.17958317,  0.51016135, -0.1046374 , -0.94998568,\n",
       "        0.51016135, -0.6425863 , -0.1046374 , -0.48888662, -0.41203677,\n",
       "       -0.56573646,  0.12591213,  1.27865978, -0.48888662, -0.1046374 ,\n",
       "        0.74071088, -0.25833709, -0.6425863 , -0.1046374 , -0.71943615,\n",
       "        0.35646166,  1.662909  , -2.02588348, -0.6425863 , -0.1046374 ,\n",
       "       -0.1046374 , -0.1046374 ,  0.27961182, -0.1046374 ,  1.12496009,\n",
       "       -0.1046374 ,  0.35646166, -0.87313583,  0.04906229, -1.48793458,\n",
       "       -0.1046374 , -0.6425863 , -0.02778756, -0.1046374 , -0.87313583,\n",
       "       -0.1046374 , -0.1046374 , -0.79628599, -0.1046374 ,  0.20276197,\n",
       "       -0.1046374 , -0.1046374 ,  0.97126041, -0.94998568,  1.58605915,\n",
       "       -1.18053521, -0.6425863 , -0.41203677,  2.66195696,  0.12591213,\n",
       "        1.20180994, -0.71943615, -0.33518693, -0.1046374 , -0.1046374 ,\n",
       "       -1.94903364, -1.25738505,  0.35646166, -1.8721838 ,  1.73975884,\n",
       "        0.51016135, -0.1046374 ,  0.04906229,  1.50920931, -0.1046374 ,\n",
       "       -0.02778756,  2.7388068 , -0.1046374 ,  1.58605915, -0.1046374 ,\n",
       "        1.43235947,  0.35646166,  1.35550962,  1.43235947, -0.1046374 ,\n",
       "        0.66386103, -0.1046374 ,  2.04715821, -0.1046374 , -2.19879563,\n",
       "       -0.1046374 ,  0.66386103,  0.27961182, -0.48888662, -0.56573646,\n",
       "       -0.1046374 ,  0.35646166, -0.02778756, -0.56573646, -2.10273333,\n",
       "       -1.56478442, -0.1046374 ,  1.58605915,  2.58510712, -0.33518693,\n",
       "       -0.1046374 ,  0.4333115 ,  2.2008579 ,  0.04906229, -1.56478442,\n",
       "       -0.1046374 , -0.6425863 ,  1.97030837,  3.19990586, -0.6425863 ,\n",
       "       -0.1046374 ,  1.89345853, -0.1046374 , -0.33518693, -0.41203677,\n",
       "       -0.94998568, -0.6425863 , -0.1046374 ,  0.58701119, -1.02683552,\n",
       "       -0.87313583,  0.27961182, -0.1046374 , -0.1046374 , -0.25833709,\n",
       "       -0.02778756, -0.1046374 ,  0.51016135,  1.89345853, -0.41203677,\n",
       "        1.35550962,  0.35646166, -0.1046374 ,  0.51016135,  0.20276197,\n",
       "        0.04906229, -0.56573646, -0.1046374 ,  1.12496009, -0.1046374 ,\n",
       "        0.85598564,  1.58605915, -0.1046374 ,  0.74071088, -0.48888662,\n",
       "       -2.10273333, -0.1046374 , -0.94998568, -0.1046374 ,  0.04906229,\n",
       "       -1.71848411,  1.20180994,  0.04906229, -0.1046374 , -0.56573646,\n",
       "        0.51016135, -1.56478442, -1.41108474,  0.20276197,  1.58605915,\n",
       "        2.66195696, -0.79628599, -0.1046374 ,  0.27961182, -1.64163427,\n",
       "       -0.94998568, -0.18148724, -0.1046374 , -0.56573646, -0.56573646,\n",
       "        2.50825727,  1.43235947, -0.1046374 ,  0.74071088,  0.51016135,\n",
       "       -0.1046374 ,  0.81756072, -0.1046374 , -0.1046374 , -0.1046374 ,\n",
       "       -0.41203677, -0.79628599, -0.02778756, -0.1046374 ,  0.20276197,\n",
       "        2.50825727,  1.81660868,  0.51016135, -0.1046374 , -1.02683552,\n",
       "       -0.79628599,  0.35646166,  0.74071088, -0.1046374 ,  0.20276197,\n",
       "       -0.33518693,  0.74071088,  1.89345853,  0.51016135, -0.1046374 ,\n",
       "       -0.87313583,  1.35550962,  2.35455759, -0.56573646, -0.1046374 ,\n",
       "        0.4333115 ,  1.73975884,  1.35550962, -0.1046374 ,  0.58701119,\n",
       "        0.51016135, -0.1046374 ,  1.50920931, -0.1046374 ,  1.50920931,\n",
       "       -0.41203677, -0.1046374 , -0.1046374 ,  1.12496009,  0.4333115 ,\n",
       "        0.51016135,  0.04906229, -0.18148724, -0.56573646,  0.81756072,\n",
       "        0.74071088, -0.1046374 , -0.1046374 , -0.1046374 ,  0.4333115 ,\n",
       "       -0.41203677,  0.35646166, -0.25833709, -1.94903364, -0.25833709,\n",
       "       -0.18148724,  0.97126041, -0.71943615, -0.6425863 , -0.6425863 ,\n",
       "        2.43140743,  2.12400806, -0.6425863 , -0.25833709, -0.1046374 ,\n",
       "        3.89155445,  1.662909  ,  0.20276197, -0.1046374 , -1.56478442,\n",
       "       -0.1046374 ,  0.20276197,  0.12591213,  0.89441056, -0.1046374 ,\n",
       "       -0.71943615, -0.41203677, -2.10273333, -0.1046374 , -2.19879563,\n",
       "        1.43235947, -0.79628599,  2.04715821, -0.1046374 , -0.48888662,\n",
       "       -0.1046374 , -0.87313583, -0.6425863 , -0.1046374 , -0.87313583,\n",
       "       -0.41203677, -0.1046374 ,  0.20276197, -0.48888662,  2.2008579 ,\n",
       "        1.58605915,  0.81756072,  1.35550962,  0.51016135, -0.71943615,\n",
       "        0.20276197, -0.33518693, -0.1046374 ,  1.04811025, -0.1046374 ,\n",
       "        0.81756072,  0.12591213,  3.12305602,  0.12591213, -0.1046374 ,\n",
       "       -0.87313583, -0.37361185, -0.87313583,  1.04811025,  0.51016135,\n",
       "       -0.1046374 , -0.18148724, -0.71943615, -1.18053521,  2.35455759,\n",
       "       -0.33518693, -1.18053521, -0.79628599, -0.87313583, -1.10368536,\n",
       "        0.12591213, -1.94903364, -0.1046374 , -0.33518693,  2.35455759,\n",
       "        1.73975884,  1.12496009, -0.1046374 ,  1.50920931,  0.97126041,\n",
       "       -0.87313583,  0.4333115 , -0.87313583, -0.33518693, -0.25833709,\n",
       "        0.74071088,  1.20180994,  0.97126041, -0.56573646, -0.1046374 ,\n",
       "       -0.41203677, -0.1046374 ,  1.43235947, -0.02778756,  1.73975884,\n",
       "       -0.79628599,  0.66386103, -0.18148724, -0.1046374 ,  0.27961182,\n",
       "       -1.79533395, -0.94998568,  0.35646166,  1.58605915, -0.18148724,\n",
       "       -0.71943615,  0.04906229, -0.1046374 , -0.33518693, -0.33518693,\n",
       "       -0.02778756, -1.41108474, -0.1046374 , -0.48888662, -0.48888662,\n",
       "       -0.06621248,  1.43235947,  0.4333115 , -0.1046374 , -0.1046374 ,\n",
       "       -0.1046374 ,  0.51016135, -0.6425863 , -0.41203677,  0.12591213,\n",
       "        3.12305602, -1.02683552,  0.04906229, -0.79628599,  0.12591213,\n",
       "       -1.94903364, -1.79533395,  0.27961182, -0.48888662,  1.43235947,\n",
       "       -2.20494362, -0.1046374 , -0.87313583,  0.35646166,  0.27961182,\n",
       "       -0.1046374 ,  0.89441056, -0.71943615,  0.51016135, -1.02683552,\n",
       "        1.662909  , -0.1046374 ,  0.08748721, -0.1046374 ,  0.20276197,\n",
       "       -0.41203677,  1.43235947,  2.12400806, -0.1046374 ,  1.89345853,\n",
       "       -0.87313583, -0.1046374 , -1.8721838 , -0.1046374 ,  1.04811025,\n",
       "       -1.25738505, -0.94998568, -0.02778756, -0.1046374 , -0.33518693,\n",
       "       -0.33518693, -0.87313583, -1.64163427, -2.17958317,  1.27865978,\n",
       "       -0.1046374 , -1.02683552, -0.1046374 , -0.1046374 , -0.33518693,\n",
       "        0.74071088,  1.50920931,  0.12591213,  0.04906229,  0.04906229,\n",
       "        0.35646166,  0.12591213, -1.41108474, -2.22415608, -0.18148724,\n",
       "        0.12591213,  0.74071088, -0.87313583,  0.74071088,  0.27961182,\n",
       "       -0.25833709,  0.74071088,  0.4333115 , -1.79533395,  0.08748721,\n",
       "       -0.1046374 , -0.48888662,  0.12591213,  1.04811025, -1.48793458,\n",
       "        1.73975884, -0.18148724,  0.66386103, -0.18148724, -2.10273333,\n",
       "       -0.1046374 , -0.1046374 , -2.17958317, -0.1046374 ,  2.50825727,\n",
       "       -1.10368536, -2.19264764, -0.1046374 , -0.48888662, -0.87313583,\n",
       "        0.74071088, -0.6425863 , -0.1046374 ,  0.20276197, -0.1046374 ,\n",
       "       -0.71943615, -1.02683552,  0.04906229,  0.39488658, -0.94998568,\n",
       "        0.97126041, -0.1046374 ,  0.4333115 , -0.1046374 , -0.1046374 ,\n",
       "       -1.94903364,  3.43045539, -1.56478442, -1.02683552,  1.12496009,\n",
       "       -0.87313583,  1.20180994,  1.662909  , -0.41203677, -0.1046374 ,\n",
       "        0.89441056, -0.6425863 ,  1.43235947, -0.1046374 , -0.41203677,\n",
       "        0.97126041, -0.18148724,  0.12591213, -0.1046374 , -1.94903364,\n",
       "       -0.25833709,  1.35550962,  0.27961182,  1.35550962, -0.1046374 ,\n",
       "       -1.10368536, -0.71943615, -0.79628599, -0.1046374 ,  2.04715821,\n",
       "       -0.33518693,  0.27961182, -0.56573646, -0.1046374 , -0.33518693,\n",
       "        0.74071088, -0.18148724, -0.79628599, -0.1046374 , -0.25833709,\n",
       "        0.20276197])"
      ]
     },
     "execution_count": 15,
     "metadata": {},
     "output_type": "execute_result"
    }
   ],
   "source": [
    "df_scaled[:,2]"
   ]
  },
  {
   "cell_type": "code",
   "execution_count": 17,
   "id": "52a08a0f",
   "metadata": {},
   "outputs": [
    {
     "data": {
      "text/plain": [
       "(array([216.,   0.,   0.,   0.,   0.,   0.,   0.,   0.,   0.,   0., 184.,\n",
       "          0.,   0.,   0.,   0.,   0.,   0.,   0.,   0., 491.]),\n",
       " array([-1.56610693, -1.44643272, -1.32675851, -1.2070843 , -1.08741009,\n",
       "        -0.96773588, -0.84806167, -0.72838747, -0.60871326, -0.48903905,\n",
       "        -0.36936484, -0.24969063, -0.13001642, -0.01034222,  0.10933199,\n",
       "         0.2290062 ,  0.34868041,  0.46835462,  0.58802883,  0.70770304,\n",
       "         0.82737724]),\n",
       " <BarContainer object of 20 artists>)"
      ]
     },
     "execution_count": 17,
     "metadata": {},
     "output_type": "execute_result"
    },
    {
     "data": {
      "image/png": "[encoded data removed]",
      "text/plain": [
       "<Figure size 640x480 with 1 Axes>"
      ]
     },
     "metadata": {},
     "output_type": "display_data"
    }
   ],
   "source": [
    "plt.hist(df_scaled[:,1],bins=20)"
   ]
  },
  {
   "cell_type": "code",
   "execution_count": 18,
   "id": "73532a19",
   "metadata": {},
   "outputs": [
    {
     "data": {
      "text/plain": [
       "(array([ 40.,  14.,  15.,  31.,  79.,  98., 262.,  84.,  73.,  45.,  35.,\n",
       "         35.,  29.,  16.,  13.,  11.,   4.,   5.,   1.,   1.]),\n",
       " array([-2.22415608, -1.91837055, -1.61258503, -1.3067995 , -1.00101397,\n",
       "        -0.69522845, -0.38944292, -0.08365739,  0.22212813,  0.52791366,\n",
       "         0.83369919,  1.13948471,  1.44527024,  1.75105577,  2.05684129,\n",
       "         2.36262682,  2.66841235,  2.97419787,  3.2799834 ,  3.58576892,\n",
       "         3.89155445]),\n",
       " <BarContainer object of 20 artists>)"
      ]
     },
     "execution_count": 18,
     "metadata": {},
     "output_type": "execute_result"
    },
    {
     "data": {
      "image/png": "[encoded data removed]",
      "text/plain": [
       "<Figure size 640x480 with 1 Axes>"
      ]
     },
     "metadata": {},
     "output_type": "display_data"
    }
   ],
   "source": [
    "plt.hist(df_scaled[:,2],bins=20)"
   ]
  },
  {
   "cell_type": "code",
   "execution_count": 19,
   "id": "92bea6d4",
   "metadata": {},
   "outputs": [
    {
     "data": {
      "text/plain": [
       "(array([ 40.,  14.,  15.,  31.,  79.,  98., 262.,  84.,  73.,  45.,  35.,\n",
       "         35.,  29.,  16.,  13.,  11.,   4.,   5.,   1.,   1.]),\n",
       " array([-2.22415608, -1.91837055, -1.61258503, -1.3067995 , -1.00101397,\n",
       "        -0.69522845, -0.38944292, -0.08365739,  0.22212813,  0.52791366,\n",
       "         0.83369919,  1.13948471,  1.44527024,  1.75105577,  2.05684129,\n",
       "         2.36262682,  2.66841235,  2.97419787,  3.2799834 ,  3.58576892,\n",
       "         3.89155445]),\n",
       " <BarContainer object of 20 artists>)"
      ]
     },
     "execution_count": 19,
     "metadata": {},
     "output_type": "execute_result"
    },
    {
     "data": {
      "image/png": "[encoded data removed]",
      "text/plain": [
       "<Figure size 640x480 with 1 Axes>"
      ]
     },
     "metadata": {},
     "output_type": "display_data"
    }
   ],
   "source": [
    "plt.hist(df_scaled[:,2],bins=20)"
   ]
  },
  {
   "cell_type": "code",
   "execution_count": 20,
   "id": "639e857d",
   "metadata": {},
   "outputs": [
    {
     "data": {
      "text/plain": [
       "(array([562., 170.,  67.,  39.,  15.,  16.,   2.,   0.,   9.,   2.,   6.,\n",
       "          0.,   0.,   0.,   0.,   0.,   0.,   0.,   0.,   3.]),\n",
       " array([-0.64842165, -0.13264224,  0.38313716,  0.89891657,  1.41469598,\n",
       "         1.93047539,  2.4462548 ,  2.96203421,  3.47781362,  3.99359303,\n",
       "         4.50937244,  5.02515184,  5.54093125,  6.05671066,  6.57249007,\n",
       "         7.08826948,  7.60404889,  8.1198283 ,  8.63560771,  9.15138712,\n",
       "         9.66716653]),\n",
       " <BarContainer object of 20 artists>)"
      ]
     },
     "execution_count": 20,
     "metadata": {},
     "output_type": "execute_result"
    },
    {
     "data": {
      "image/png": "[encoded data removed]",
      "text/plain": [
       "<Figure size 640x480 with 1 Axes>"
      ]
     },
     "metadata": {},
     "output_type": "display_data"
    }
   ],
   "source": [
    "plt.hist(df_scaled[:,3],bins=20)"
   ]
  },
  {
   "cell_type": "code",
   "execution_count": 21,
   "id": "8c5cca88",
   "metadata": {},
   "outputs": [
    {
     "data": {
      "text/plain": [
       "{'whiskers': [<matplotlib.lines.Line2D at 0x1fee5b63d50>,\n",
       "  <matplotlib.lines.Line2D at 0x1fee5b973d0>],\n",
       " 'caps': [<matplotlib.lines.Line2D at 0x1fee5b99050>,\n",
       "  <matplotlib.lines.Line2D at 0x1fee5b99410>],\n",
       " 'boxes': [<matplotlib.lines.Line2D at 0x1fee5818910>],\n",
       " 'medians': [<matplotlib.lines.Line2D at 0x1fee5ba6290>],\n",
       " 'fliers': [<matplotlib.lines.Line2D at 0x1fee5ba66d0>],\n",
       " 'means': []}"
      ]
     },
     "execution_count": 21,
     "metadata": {},
     "output_type": "execute_result"
    },
    {
     "data": {
      "image/png": "[encoded data removed]",
      "text/plain": [
       "<Figure size 640x480 with 1 Axes>"
      ]
     },
     "metadata": {},
     "output_type": "display_data"
    }
   ],
   "source": [
    "plt.boxplot(df_scaled[:,3])"
   ]
  },
  {
   "cell_type": "code",
   "execution_count": null,
   "id": "c5e29f47",
   "metadata": {},
   "outputs": [],
   "source": []
  }
 ],
 "metadata": {
  "kernelspec": {
   "display_name": "Python 3 (ipykernel)",
   "language": "python",
   "name": "python3"
  },
  "language_info": {
   "codemirror_mode": {
    "name": "ipython",
    "version": 3
   },
   "file_extension": ".py",
   "mimetype": "text/x-python",
   "name": "python",
   "nbconvert_exporter": "python",
   "pygments_lexer": "ipython3",
   "version": "3.11.5"
  }
 },
 "nbformat": 4,
 "nbformat_minor": 5
}
