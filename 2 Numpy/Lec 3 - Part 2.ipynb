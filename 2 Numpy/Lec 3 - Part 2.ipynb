{
 "cells": [
  {
   "cell_type": "code",
   "execution_count": 2,
   "id": "744fb3e7",
   "metadata": {},
   "outputs": [],
   "source": [
    "import numpy as np\n",
    "from numpy import *"
   ]
  },
  {
   "cell_type": "code",
   "execution_count": 3,
   "id": "7951f78c",
   "metadata": {},
   "outputs": [
    {
     "name": "stdout",
     "output_type": "stream",
     "text": [
      "1D array is [10 20 30 40]\n",
      "2D array is: \n",
      " [[1 2 3 4]\n",
      " [5 6 7 8]]\n"
     ]
    }
   ],
   "source": [
    "arr_1 = np.array([10,20,30,40])\n",
    "arr_2 = np.array([[1,2,3,4],[5,6,7,8]])\n",
    "print(f\"1D array is {arr_1}\")\n",
    "print(f\"2D array is: \\n {arr_2}\")"
   ]
  },
  {
   "cell_type": "code",
   "execution_count": 4,
   "id": "1d79734b",
   "metadata": {},
   "outputs": [
    {
     "name": "stdout",
     "output_type": "stream",
     "text": [
      "For array 1 diamension is : 1\n",
      "For array 2 diamension is : 2\n"
     ]
    }
   ],
   "source": [
    "print(f\"For array 1 diamension is : {arr_1.ndim}\")\n",
    "print(f\"For array 2 diamension is : {arr_2.ndim}\")"
   ]
  },
  {
   "cell_type": "code",
   "execution_count": 5,
   "id": "018852da",
   "metadata": {},
   "outputs": [
    {
     "name": "stdout",
     "output_type": "stream",
     "text": [
      "For array 1 size is : 4\n",
      "For array 2 size is : 8\n"
     ]
    }
   ],
   "source": [
    "print(f\"For array 1 size is : {arr_1.size}\")\n",
    "print(f\"For array 2 size is : {arr_2.size}\")"
   ]
  },
  {
   "cell_type": "code",
   "execution_count": 6,
   "id": "675fb37c",
   "metadata": {},
   "outputs": [
    {
     "name": "stdout",
     "output_type": "stream",
     "text": [
      "For array 1 shape is: (4,)\n",
      "For array 2 shape is: (2, 4)\n"
     ]
    }
   ],
   "source": [
    "print(f\"For array 1 shape is: {arr_1.shape}\")\n",
    "print(f\"For array 2 shape is: {arr_2.shape}\")"
   ]
  },
  {
   "cell_type": "code",
   "execution_count": 7,
   "id": "8d0d4ee6",
   "metadata": {},
   "outputs": [
    {
     "name": "stdout",
     "output_type": "stream",
     "text": [
      "For array 1 data type is: int32\n",
      "For array 2 data type is: int32\n"
     ]
    }
   ],
   "source": [
    "print(f\"For array 1 data type is: {arr_1.dtype}\")\n",
    "print(f\"For array 2 data type is: {arr_2.dtype}\")"
   ]
  },
  {
   "cell_type": "code",
   "execution_count": null,
   "id": "5b96b43e",
   "metadata": {},
   "outputs": [],
   "source": []
  }
 ],
 "metadata": {
  "kernelspec": {
   "display_name": "Python 3 (ipykernel)",
   "language": "python",
   "name": "python3"
  },
  "language_info": {
   "codemirror_mode": {
    "name": "ipython",
    "version": 3
   },
   "file_extension": ".py",
   "mimetype": "text/x-python",
   "name": "python",
   "nbconvert_exporter": "python",
   "pygments_lexer": "ipython3",
   "version": "3.11.4"
  }
 },
 "nbformat": 4,
 "nbformat_minor": 5
}
