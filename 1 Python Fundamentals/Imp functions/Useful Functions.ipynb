{
 "cells": [
  {
   "cell_type": "code",
   "execution_count": 1,
   "id": "274604a5",
   "metadata": {},
   "outputs": [
    {
     "data": {
      "text/plain": [
       "'\\nIterator and generator\\nzip\\nReduces\\n'"
      ]
     },
     "execution_count": 1,
     "metadata": {},
     "output_type": "execute_result"
    }
   ],
   "source": [
    "'''\n",
    "Iterator and generator\n",
    "zip\n",
    "Reduces\n",
    "'''"
   ]
  },
  {
   "cell_type": "code",
   "execution_count": 2,
   "id": "77a57785",
   "metadata": {},
   "outputs": [],
   "source": [
    "# Zip function"
   ]
  },
  {
   "cell_type": "code",
   "execution_count": 3,
   "id": "67376cc8",
   "metadata": {},
   "outputs": [],
   "source": [
    "mylist1 = ['a','b','c','d','e']\n",
    "mylist2 = [1,2,3,4,5]"
   ]
  },
  {
   "cell_type": "code",
   "execution_count": 4,
   "id": "366bcbaa",
   "metadata": {},
   "outputs": [
    {
     "name": "stdout",
     "output_type": "stream",
     "text": [
      "('a', 1)\n",
      "('b', 2)\n",
      "('c', 3)\n",
      "('d', 4)\n",
      "('e', 5)\n"
     ]
    }
   ],
   "source": [
    "for i in zip(mylist1,mylist2):\n",
    "    print(i)"
   ]
  },
  {
   "cell_type": "code",
   "execution_count": 5,
   "id": "5f2215fc",
   "metadata": {},
   "outputs": [],
   "source": [
    "check = zip(mylist1,mylist2)"
   ]
  },
  {
   "cell_type": "code",
   "execution_count": 6,
   "id": "bdff37dd",
   "metadata": {},
   "outputs": [
    {
     "data": {
      "text/plain": [
       "<zip at 0x184b3580940>"
      ]
     },
     "execution_count": 6,
     "metadata": {},
     "output_type": "execute_result"
    }
   ],
   "source": [
    "check"
   ]
  },
  {
   "cell_type": "code",
   "execution_count": 7,
   "id": "0869f362",
   "metadata": {},
   "outputs": [],
   "source": [
    "dic = {}\n",
    "for i,j in zip(mylist1,mylist2):\n",
    "    dic[i] = j"
   ]
  },
  {
   "cell_type": "code",
   "execution_count": 8,
   "id": "4a0a264d",
   "metadata": {},
   "outputs": [
    {
     "data": {
      "text/plain": [
       "{'a': 1, 'b': 2, 'c': 3, 'd': 4, 'e': 5}"
      ]
     },
     "execution_count": 8,
     "metadata": {},
     "output_type": "execute_result"
    }
   ],
   "source": [
    "dic"
   ]
  },
  {
   "cell_type": "code",
   "execution_count": 9,
   "id": "26e6b733",
   "metadata": {},
   "outputs": [],
   "source": [
    "# Reduces"
   ]
  },
  {
   "cell_type": "code",
   "execution_count": 10,
   "id": "cddec664",
   "metadata": {},
   "outputs": [],
   "source": [
    "# for reduces function we have to import functool\n",
    "# reduce takiung reduce(function,sequence)\n",
    "# Reduce providing us a singal values"
   ]
  },
  {
   "cell_type": "code",
   "execution_count": 11,
   "id": "ac24fceb",
   "metadata": {},
   "outputs": [],
   "source": [
    "import functools as ft"
   ]
  },
  {
   "cell_type": "code",
   "execution_count": 12,
   "id": "233112e4",
   "metadata": {},
   "outputs": [
    {
     "data": {
      "text/plain": [
       "55"
      ]
     },
     "execution_count": 12,
     "metadata": {},
     "output_type": "execute_result"
    }
   ],
   "source": [
    "list1 = [1,2,3,4,5,6,7,8,9,10]\n",
    "ft.reduce(lambda a,b:a+b,list1)"
   ]
  },
  {
   "cell_type": "code",
   "execution_count": 13,
   "id": "256577a7",
   "metadata": {},
   "outputs": [],
   "source": [
    "list2 = [2,1,3,6,7,3,7,8,3,34,56,23]\n",
    "max_value = ft.reduce(lambda a,b:a if a>b else b,list2)"
   ]
  },
  {
   "cell_type": "code",
   "execution_count": 14,
   "id": "d2fef6ff",
   "metadata": {},
   "outputs": [
    {
     "data": {
      "text/plain": [
       "56"
      ]
     },
     "execution_count": 14,
     "metadata": {},
     "output_type": "execute_result"
    }
   ],
   "source": [
    "max_value"
   ]
  },
  {
   "cell_type": "code",
   "execution_count": 15,
   "id": "9ad6e9f2",
   "metadata": {},
   "outputs": [],
   "source": [
    "list3 = [1,2,3,4,5]\n",
    "mul_values = ft.reduce(lambda a,b:a*b,list3)"
   ]
  },
  {
   "cell_type": "code",
   "execution_count": 16,
   "id": "4279c99d",
   "metadata": {},
   "outputs": [
    {
     "data": {
      "text/plain": [
       "120"
      ]
     },
     "execution_count": 16,
     "metadata": {},
     "output_type": "execute_result"
    }
   ],
   "source": [
    "mul_values"
   ]
  },
  {
   "cell_type": "code",
   "execution_count": 17,
   "id": "e1a8698f",
   "metadata": {},
   "outputs": [],
   "source": [
    "#Genrator\n",
    "# when data size is very high and memory is very low then genrator can be managed this data\n",
    "# Genrator acutally giving us only one values on that perticular time after give me that value it goining to vanish that value \n",
    "# from memory and new values will be allocate it not going to store every value inside the memory.    "
   ]
  },
  {
   "cell_type": "code",
   "execution_count": 18,
   "id": "f6ec8d85",
   "metadata": {},
   "outputs": [],
   "source": [
    "# Example"
   ]
  },
  {
   "cell_type": "code",
   "execution_count": 19,
   "id": "736a5c41",
   "metadata": {},
   "outputs": [],
   "source": [
    "def demo(n):\n",
    "    for i in range(n):\n",
    "        print(i,\" \",id(i))"
   ]
  },
  {
   "cell_type": "code",
   "execution_count": 85,
   "id": "936a3c45",
   "metadata": {},
   "outputs": [
    {
     "name": "stdout",
     "output_type": "stream",
     "text": [
      "0   140712890635016\n",
      "1   140712890635048\n",
      "2   140712890635080\n",
      "3   140712890635112\n",
      "4   140712890635144\n",
      "5   140712890635176\n",
      "6   140712890635208\n",
      "7   140712890635240\n",
      "8   140712890635272\n",
      "9   140712890635304\n"
     ]
    }
   ],
   "source": [
    "demo(10)"
   ]
  },
  {
   "cell_type": "code",
   "execution_count": 109,
   "id": "c0c8fbab",
   "metadata": {},
   "outputs": [],
   "source": [
    "def gen(n):\n",
    "    for i in range(n):\n",
    "        yield i"
   ]
  },
  {
   "cell_type": "code",
   "execution_count": 110,
   "id": "9dbd9440",
   "metadata": {},
   "outputs": [],
   "source": [
    "X=gen(10)"
   ]
  },
  {
   "cell_type": "code",
   "execution_count": 111,
   "id": "2028f65b",
   "metadata": {},
   "outputs": [
    {
     "name": "stdout",
     "output_type": "stream",
     "text": [
      "140712890635016\n"
     ]
    }
   ],
   "source": [
    "print(id(next(X)))"
   ]
  },
  {
   "cell_type": "code",
   "execution_count": 102,
   "id": "6b2cfa89",
   "metadata": {},
   "outputs": [],
   "source": [
    "# for i in demo_gen(10):\n",
    "#     print(i,\" \",id(i))"
   ]
  },
  {
   "cell_type": "code",
   "execution_count": null,
   "id": "f3159612",
   "metadata": {},
   "outputs": [],
   "source": []
  },
  {
   "cell_type": "code",
   "execution_count": null,
   "id": "c74ca682",
   "metadata": {},
   "outputs": [],
   "source": []
  }
 ],
 "metadata": {
  "kernelspec": {
   "display_name": "Python 3 (ipykernel)",
   "language": "python",
   "name": "python3"
  },
  "language_info": {
   "codemirror_mode": {
    "name": "ipython",
    "version": 3
   },
   "file_extension": ".py",
   "mimetype": "text/x-python",
   "name": "python",
   "nbconvert_exporter": "python",
   "pygments_lexer": "ipython3",
   "version": "3.11.3"
  }
 },
 "nbformat": 4,
 "nbformat_minor": 5
}
