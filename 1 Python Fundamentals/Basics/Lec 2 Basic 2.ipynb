{
 "cells": [
  {
   "cell_type": "markdown",
   "id": "20e61eed",
   "metadata": {},
   "source": [
    "# List function\n",
    "# List Methods"
   ]
  },
  {
   "cell_type": "markdown",
   "id": "84d18845",
   "metadata": {},
   "source": [
    "## # Difference Between function and methods(after function and oops)"
   ]
  },
  {
   "cell_type": "markdown",
   "id": "4a316527",
   "metadata": {},
   "source": [
    "# List Funtiction"
   ]
  },
  {
   "cell_type": "code",
   "execution_count": 1,
   "id": "8b4e3ead",
   "metadata": {},
   "outputs": [
    {
     "data": {
      "text/plain": [
       "' \\n1. len()\\n2. max()\\n3. min()\\n4. sum()\\n5. sorted()\\n6. any()\\n7. all()\\n8. list()\\n'"
      ]
     },
     "execution_count": 1,
     "metadata": {},
     "output_type": "execute_result"
    }
   ],
   "source": [
    "''' \n",
    "1. len()\n",
    "2. max()\n",
    "3. min()\n",
    "4. sum()\n",
    "5. sorted()\n",
    "6. any()\n",
    "7. all()\n",
    "8. list()\n",
    "'''"
   ]
  },
  {
   "cell_type": "markdown",
   "id": "c7b7e20a",
   "metadata": {},
   "source": [
    "## # List methods"
   ]
  },
  {
   "cell_type": "code",
   "execution_count": 2,
   "id": "d9de02cf",
   "metadata": {},
   "outputs": [
    {
     "data": {
      "text/plain": [
       "'\\n1. appned()\\n2. extend()\\n3. insert()\\n4. index()\\n5. count()\\n6. remove()\\n7. pop()\\n8. clear()\\n9. reverse()\\n10. sort()\\n'"
      ]
     },
     "execution_count": 2,
     "metadata": {},
     "output_type": "execute_result"
    }
   ],
   "source": [
    "'''\n",
    "1. appned()\n",
    "2. extend()\n",
    "3. insert()\n",
    "4. index()\n",
    "5. count()\n",
    "6. remove()\n",
    "7. pop()\n",
    "8. clear()\n",
    "9. reverse()\n",
    "10. sort()\n",
    "'''"
   ]
  },
  {
   "cell_type": "markdown",
   "id": "339f0e7c",
   "metadata": {},
   "source": [
    "# List comprehension"
   ]
  },
  {
   "cell_type": "code",
   "execution_count": 3,
   "id": "66666791",
   "metadata": {},
   "outputs": [],
   "source": [
    "# syntax\n",
    "# list_comp = [x for x in iterable <test_condition>] "
   ]
  },
  {
   "cell_type": "code",
   "execution_count": 4,
   "id": "de75df41",
   "metadata": {},
   "outputs": [
    {
     "data": {
      "text/plain": [
       "'\\nIterable : \\nlist \\ndic\\ntuple\\nset \\nstring\\n\\n'"
      ]
     },
     "execution_count": 4,
     "metadata": {},
     "output_type": "execute_result"
    }
   ],
   "source": [
    "'''\n",
    "Iterable : \n",
    "list \n",
    "dic\n",
    "tuple\n",
    "set \n",
    "string\n",
    "\n",
    "'''"
   ]
  },
  {
   "cell_type": "code",
   "execution_count": 5,
   "id": "553c8174",
   "metadata": {},
   "outputs": [],
   "source": [
    "my_string = \"aditya papal\"\n",
    "my_list=[]"
   ]
  },
  {
   "cell_type": "code",
   "execution_count": 6,
   "id": "d3f03674",
   "metadata": {},
   "outputs": [],
   "source": [
    "for i in my_string:\n",
    "    my_list.append(i)"
   ]
  },
  {
   "cell_type": "code",
   "execution_count": 7,
   "id": "e67de1c1",
   "metadata": {},
   "outputs": [
    {
     "data": {
      "text/plain": [
       "['a', 'd', 'i', 't', 'y', 'a', ' ', 'p', 'a', 'p', 'a', 'l']"
      ]
     },
     "execution_count": 7,
     "metadata": {},
     "output_type": "execute_result"
    }
   ],
   "source": [
    "my_list"
   ]
  },
  {
   "cell_type": "code",
   "execution_count": 8,
   "id": "8b2b5e5d",
   "metadata": {},
   "outputs": [],
   "source": [
    "x = [i for i in my_string]"
   ]
  },
  {
   "cell_type": "code",
   "execution_count": 9,
   "id": "41f47fa3",
   "metadata": {},
   "outputs": [
    {
     "data": {
      "text/plain": [
       "['a', 'd', 'i', 't', 'y', 'a', ' ', 'p', 'a', 'p', 'a', 'l']"
      ]
     },
     "execution_count": 9,
     "metadata": {},
     "output_type": "execute_result"
    }
   ],
   "source": [
    "x"
   ]
  },
  {
   "cell_type": "markdown",
   "id": "d6fe79f9",
   "metadata": {},
   "source": [
    "## WAP to produce a square of num form 1 to 5, store in a list and print the list "
   ]
  },
  {
   "cell_type": "code",
   "execution_count": 10,
   "id": "e734861d",
   "metadata": {},
   "outputs": [],
   "source": [
    "# using loop "
   ]
  },
  {
   "cell_type": "code",
   "execution_count": 11,
   "id": "7adad338",
   "metadata": {},
   "outputs": [
    {
     "data": {
      "text/plain": [
       "[1, 4, 9, 16, 25]"
      ]
     },
     "execution_count": 11,
     "metadata": {},
     "output_type": "execute_result"
    }
   ],
   "source": [
    "mylist = []\n",
    "for i in range(1,6):\n",
    "    mylist.append(i**2)\n",
    "mylist "
   ]
  },
  {
   "cell_type": "code",
   "execution_count": 12,
   "id": "e7d101d2",
   "metadata": {},
   "outputs": [],
   "source": [
    "# Using comprehension"
   ]
  },
  {
   "cell_type": "code",
   "execution_count": 13,
   "id": "3b2cf176",
   "metadata": {},
   "outputs": [
    {
     "data": {
      "text/plain": [
       "[1, 4, 9, 16, 25]"
      ]
     },
     "execution_count": 13,
     "metadata": {},
     "output_type": "execute_result"
    }
   ],
   "source": [
    "mylist = [i**2 for i in range(1,6)]\n",
    "mylist"
   ]
  },
  {
   "cell_type": "markdown",
   "id": "852ccfdf",
   "metadata": {},
   "source": [
    "## WAp to get string form user and convert each word of it in uppercase and strore in list "
   ]
  },
  {
   "cell_type": "code",
   "execution_count": 14,
   "id": "6e93a5ca",
   "metadata": {},
   "outputs": [
    {
     "name": "stdout",
     "output_type": "stream",
     "text": [
      "Enter the string: aditya papal\n"
     ]
    }
   ],
   "source": [
    "mystring = input(\"Enter the string: \")"
   ]
  },
  {
   "cell_type": "code",
   "execution_count": 15,
   "id": "455452b5",
   "metadata": {},
   "outputs": [],
   "source": [
    "# using loop "
   ]
  },
  {
   "cell_type": "code",
   "execution_count": 16,
   "id": "b57051de",
   "metadata": {},
   "outputs": [],
   "source": [
    "mylist = []\n",
    "for i in mystring:\n",
    "    mylist.append(i.upper())"
   ]
  },
  {
   "cell_type": "code",
   "execution_count": 17,
   "id": "178d88db",
   "metadata": {},
   "outputs": [
    {
     "data": {
      "text/plain": [
       "['A', 'D', 'I', 'T', 'Y', 'A', ' ', 'P', 'A', 'P', 'A', 'L']"
      ]
     },
     "execution_count": 17,
     "metadata": {},
     "output_type": "execute_result"
    }
   ],
   "source": [
    "mylist"
   ]
  },
  {
   "cell_type": "code",
   "execution_count": 18,
   "id": "7a7da147",
   "metadata": {},
   "outputs": [],
   "source": [
    "# Using Comprehension\n",
    "mylist = [i.upper() for i in mystring]"
   ]
  },
  {
   "cell_type": "code",
   "execution_count": 19,
   "id": "b2a25545",
   "metadata": {},
   "outputs": [
    {
     "data": {
      "text/plain": [
       "['A', 'D', 'I', 'T', 'Y', 'A', ' ', 'P', 'A', 'P', 'A', 'L']"
      ]
     },
     "execution_count": 19,
     "metadata": {},
     "output_type": "execute_result"
    }
   ],
   "source": [
    "mylist"
   ]
  },
  {
   "cell_type": "code",
   "execution_count": 20,
   "id": "95d529b3",
   "metadata": {},
   "outputs": [],
   "source": [
    "# whole string in upper"
   ]
  },
  {
   "cell_type": "code",
   "execution_count": 21,
   "id": "da9b2de8",
   "metadata": {},
   "outputs": [],
   "source": [
    "mylist = [x.upper() for x in mystring.split()]"
   ]
  },
  {
   "cell_type": "code",
   "execution_count": 22,
   "id": "65347260",
   "metadata": {},
   "outputs": [
    {
     "data": {
      "text/plain": [
       "['ADITYA', 'PAPAL']"
      ]
     },
     "execution_count": 22,
     "metadata": {},
     "output_type": "execute_result"
    }
   ],
   "source": [
    "mylist"
   ]
  },
  {
   "cell_type": "markdown",
   "id": "4554ba2e",
   "metadata": {},
   "source": [
    "## WAP to accept the 5 int from user and store them in  list, also find all sum and element in list"
   ]
  },
  {
   "cell_type": "code",
   "execution_count": 24,
   "id": "4cd05715",
   "metadata": {},
   "outputs": [
    {
     "name": "stdout",
     "output_type": "stream",
     "text": [
      "Eneter the 5 integers: 1 2 3 4 5 \n"
     ]
    }
   ],
   "source": [
    "number = input(\"Eneter the 5 integers: \")"
   ]
  },
  {
   "cell_type": "code",
   "execution_count": 29,
   "id": "42f7dacd",
   "metadata": {},
   "outputs": [
    {
     "data": {
      "text/plain": [
       "([1, 2, 3, 4, 5], 15)"
      ]
     },
     "execution_count": 29,
     "metadata": {},
     "output_type": "execute_result"
    }
   ],
   "source": [
    "# using list\n",
    "mylist = []\n",
    "for i in number.split():\n",
    "    mylist.append(int(i))\n",
    "mylist,sum(mylist)"
   ]
  },
  {
   "cell_type": "code",
   "execution_count": 31,
   "id": "75f657c8",
   "metadata": {},
   "outputs": [],
   "source": [
    "# Using Comprehension\n",
    "mylist = [int(i) for i in number.split()]"
   ]
  },
  {
   "cell_type": "code",
   "execution_count": 35,
   "id": "e9d377da",
   "metadata": {},
   "outputs": [
    {
     "data": {
      "text/plain": [
       "15"
      ]
     },
     "execution_count": 35,
     "metadata": {},
     "output_type": "execute_result"
    }
   ],
   "source": [
    "sum(mylist)"
   ]
  },
  {
   "cell_type": "code",
   "execution_count": 36,
   "id": "054ddcdc",
   "metadata": {},
   "outputs": [
    {
     "data": {
      "text/plain": [
       "[1, 2, 3, 4, 5]"
      ]
     },
     "execution_count": 36,
     "metadata": {},
     "output_type": "execute_result"
    }
   ],
   "source": [
    "mylist"
   ]
  },
  {
   "cell_type": "code",
   "execution_count": 37,
   "id": "bca7f2e4",
   "metadata": {},
   "outputs": [],
   "source": [
    "# WAP to produces square of only odd number from 1 to 50, sotre then in  a list and print it"
   ]
  },
  {
   "cell_type": "code",
   "execution_count": 39,
   "id": "c8ef171b",
   "metadata": {},
   "outputs": [
    {
     "data": {
      "text/plain": [
       "[1,\n",
       " 3,\n",
       " 5,\n",
       " 7,\n",
       " 9,\n",
       " 11,\n",
       " 13,\n",
       " 15,\n",
       " 17,\n",
       " 19,\n",
       " 21,\n",
       " 23,\n",
       " 25,\n",
       " 27,\n",
       " 29,\n",
       " 31,\n",
       " 33,\n",
       " 35,\n",
       " 37,\n",
       " 39,\n",
       " 41,\n",
       " 43,\n",
       " 45,\n",
       " 47,\n",
       " 49]"
      ]
     },
     "execution_count": 39,
     "metadata": {},
     "output_type": "execute_result"
    }
   ],
   "source": [
    "# using loop \n",
    "mylist = []\n",
    "for i in range(1,51):\n",
    "    if i % 2 != 0:\n",
    "        mylist.append(i**2)\n",
    "        \n",
    "mylist"
   ]
  },
  {
   "cell_type": "code",
   "execution_count": 40,
   "id": "a0f8ee5c",
   "metadata": {},
   "outputs": [],
   "source": [
    "# using Comprehension"
   ]
  },
  {
   "cell_type": "code",
   "execution_count": 42,
   "id": "7511b622",
   "metadata": {},
   "outputs": [],
   "source": [
    "mylist = [i**2 for i in range(1,51) if i % 2 !=0 ]"
   ]
  },
  {
   "cell_type": "code",
   "execution_count": 43,
   "id": "f427984e",
   "metadata": {},
   "outputs": [
    {
     "data": {
      "text/plain": [
       "[1,\n",
       " 3,\n",
       " 5,\n",
       " 7,\n",
       " 9,\n",
       " 11,\n",
       " 13,\n",
       " 15,\n",
       " 17,\n",
       " 19,\n",
       " 21,\n",
       " 23,\n",
       " 25,\n",
       " 27,\n",
       " 29,\n",
       " 31,\n",
       " 33,\n",
       " 35,\n",
       " 37,\n",
       " 39,\n",
       " 41,\n",
       " 43,\n",
       " 45,\n",
       " 47,\n",
       " 49]"
      ]
     },
     "execution_count": 43,
     "metadata": {},
     "output_type": "execute_result"
    }
   ],
   "source": [
    "mylist"
   ]
  },
  {
   "cell_type": "markdown",
   "id": "cc5b6cd7",
   "metadata": {},
   "source": [
    "# Tuples "
   ]
  },
  {
   "cell_type": "code",
   "execution_count": 45,
   "id": "03eecf63",
   "metadata": {},
   "outputs": [
    {
     "data": {
      "text/plain": [
       "'\\nFunction in Tuples \\n1. int()\\n2. max()\\n3. min()\\n4. sum()\\n5. sorted()\\n6. any()\\n7. all()\\n8. tuples()\\n'"
      ]
     },
     "execution_count": 45,
     "metadata": {},
     "output_type": "execute_result"
    }
   ],
   "source": [
    "'''\n",
    "Function in Tuples \n",
    "1. int()\n",
    "2. max()\n",
    "3. min()\n",
    "4. sum()\n",
    "5. sorted()\n",
    "6. any() # at least one element should be true\n",
    "7. all() # all element should be true\n",
    "8. tuples()\n",
    "'''"
   ]
  },
  {
   "cell_type": "code",
   "execution_count": 50,
   "id": "ebbb0ff0",
   "metadata": {},
   "outputs": [
    {
     "data": {
      "text/plain": [
       "'\\nMethod in Tuple\\n1. insert()\\n2. count()\\n'"
      ]
     },
     "execution_count": 50,
     "metadata": {},
     "output_type": "execute_result"
    }
   ],
   "source": [
    "'''\n",
    "Method in Tuple\n",
    "1. insert()\n",
    "2. count()\n",
    "'''"
   ]
  },
  {
   "cell_type": "code",
   "execution_count": 48,
   "id": "12455472",
   "metadata": {},
   "outputs": [],
   "source": [
    "mytuple =(1,2,3,4,5,6,7,8,9,10)"
   ]
  },
  {
   "cell_type": "code",
   "execution_count": 49,
   "id": "b62fee47",
   "metadata": {},
   "outputs": [
    {
     "data": {
      "text/plain": [
       "(1, 2, 3, 4, 5, 6, 7, 8, 9, 10)"
      ]
     },
     "execution_count": 49,
     "metadata": {},
     "output_type": "execute_result"
    }
   ],
   "source": [
    "mytuple"
   ]
  },
  {
   "cell_type": "code",
   "execution_count": 52,
   "id": "f46ff748",
   "metadata": {},
   "outputs": [],
   "source": [
    "#mytuple."
   ]
  },
  {
   "cell_type": "markdown",
   "id": "cd156638",
   "metadata": {},
   "source": [
    "# function in string"
   ]
  },
  {
   "cell_type": "code",
   "execution_count": 53,
   "id": "0dd7bc92",
   "metadata": {},
   "outputs": [],
   "source": [
    "# len()\n",
    "# max()\n",
    "# min()\n",
    "# chr()\n",
    "# ord()"
   ]
  },
  {
   "cell_type": "markdown",
   "id": "52d13cce",
   "metadata": {},
   "source": [
    "# function for the dict"
   ]
  },
  {
   "cell_type": "code",
   "execution_count": 55,
   "id": "7a8028ce",
   "metadata": {},
   "outputs": [
    {
     "data": {
      "text/plain": [
       "'\\nfunction for the dict\\n\\nlen()\\nmax()\\nmin()\\nany()\\nall()\\nsorted()\\ndict()\\n\\n'"
      ]
     },
     "execution_count": 55,
     "metadata": {},
     "output_type": "execute_result"
    }
   ],
   "source": [
    "'''\n",
    "function for the dict\n",
    "\n",
    "len()\n",
    "max()\n",
    "min()\n",
    "any()\n",
    "all()\n",
    "sorted()\n",
    "dict()\n",
    "\n",
    "'''"
   ]
  },
  {
   "cell_type": "markdown",
   "id": "6dfa427c",
   "metadata": {},
   "source": [
    "# Method in dic"
   ]
  },
  {
   "cell_type": "code",
   "execution_count": 56,
   "id": "15be12a9",
   "metadata": {},
   "outputs": [
    {
     "data": {
      "text/plain": [
       "'\\nclear()\\ncopy()\\nsetdefault()\\nget()\\nkeys()\\nvalues()\\nitems() \\nupdated() \\npop()\\npopitem()\\n'"
      ]
     },
     "execution_count": 56,
     "metadata": {},
     "output_type": "execute_result"
    }
   ],
   "source": [
    "# methods in dictionary\n",
    "'''\n",
    "clear()\n",
    "copy()\n",
    "setdefault()\n",
    "get()\n",
    "keys()\n",
    "values()\n",
    "items() \n",
    "updated() \n",
    "pop()\n",
    "popitem()\n",
    "'''"
   ]
  },
  {
   "cell_type": "code",
   "execution_count": null,
   "id": "44a8a63a",
   "metadata": {},
   "outputs": [],
   "source": []
  }
 ],
 "metadata": {
  "kernelspec": {
   "display_name": "Python 3 (ipykernel)",
   "language": "python",
   "name": "python3"
  },
  "language_info": {
   "codemirror_mode": {
    "name": "ipython",
    "version": 3
   },
   "file_extension": ".py",
   "mimetype": "text/x-python",
   "name": "python",
   "nbconvert_exporter": "python",
   "pygments_lexer": "ipython3",
   "version": "3.9.13"
  }
 },
 "nbformat": 4,
 "nbformat_minor": 5
}
