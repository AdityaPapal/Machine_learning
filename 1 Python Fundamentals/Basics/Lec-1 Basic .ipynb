{
 "cells": [
  {
   "cell_type": "markdown",
   "id": "6344238f",
   "metadata": {},
   "source": [
    "# Sets "
   ]
  },
  {
   "cell_type": "code",
   "execution_count": 1,
   "id": "760690ec",
   "metadata": {},
   "outputs": [
    {
     "data": {
      "text/plain": [
       "{'Papal', 'aditya'}"
      ]
     },
     "execution_count": 1,
     "metadata": {},
     "output_type": "execute_result"
    }
   ],
   "source": [
    "st = {\"aditya\",\"Papal\"}\n",
    "st"
   ]
  },
  {
   "cell_type": "code",
   "execution_count": 2,
   "id": "10da8431",
   "metadata": {},
   "outputs": [],
   "source": [
    "l = [i for i in st]"
   ]
  },
  {
   "cell_type": "code",
   "execution_count": 3,
   "id": "3c190487",
   "metadata": {},
   "outputs": [
    {
     "name": "stdout",
     "output_type": "stream",
     "text": [
      "['aditya', 'Papal']\n"
     ]
    }
   ],
   "source": [
    "print(l)"
   ]
  },
  {
   "cell_type": "markdown",
   "id": "a3a8891f",
   "metadata": {},
   "source": [
    "# Dictionary"
   ]
  },
  {
   "cell_type": "code",
   "execution_count": 4,
   "id": "f3c7b18e",
   "metadata": {},
   "outputs": [],
   "source": [
    "dic ={1:'aditya',2:\"Papal\"}"
   ]
  },
  {
   "cell_type": "code",
   "execution_count": 5,
   "id": "76bc3961",
   "metadata": {},
   "outputs": [
    {
     "data": {
      "text/plain": [
       "{1: 'aditya', 2: 'Papal'}"
      ]
     },
     "execution_count": 5,
     "metadata": {},
     "output_type": "execute_result"
    }
   ],
   "source": [
    "dic"
   ]
  },
  {
   "cell_type": "code",
   "execution_count": 6,
   "id": "82f3beec",
   "metadata": {},
   "outputs": [
    {
     "data": {
      "text/plain": [
       "'aditya'"
      ]
     },
     "execution_count": 6,
     "metadata": {},
     "output_type": "execute_result"
    }
   ],
   "source": [
    "dic[1]"
   ]
  },
  {
   "cell_type": "code",
   "execution_count": 7,
   "id": "2ea641da",
   "metadata": {},
   "outputs": [
    {
     "data": {
      "text/plain": [
       "'Papal'"
      ]
     },
     "execution_count": 7,
     "metadata": {},
     "output_type": "execute_result"
    }
   ],
   "source": [
    "dic[2]"
   ]
  },
  {
   "cell_type": "code",
   "execution_count": 8,
   "id": "2d05b93f",
   "metadata": {},
   "outputs": [
    {
     "data": {
      "text/plain": [
       "dict_items([(1, 'aditya'), (2, 'Papal')])"
      ]
     },
     "execution_count": 8,
     "metadata": {},
     "output_type": "execute_result"
    }
   ],
   "source": [
    "dic.items()"
   ]
  },
  {
   "cell_type": "code",
   "execution_count": 9,
   "id": "1e6a3c22",
   "metadata": {},
   "outputs": [],
   "source": [
    "l = [i for i in dic]"
   ]
  },
  {
   "cell_type": "code",
   "execution_count": 10,
   "id": "f5ff4437",
   "metadata": {},
   "outputs": [
    {
     "data": {
      "text/plain": [
       "[1, 2]"
      ]
     },
     "execution_count": 10,
     "metadata": {},
     "output_type": "execute_result"
    }
   ],
   "source": [
    "l"
   ]
  },
  {
   "cell_type": "markdown",
   "id": "42f90586",
   "metadata": {},
   "source": [
    "# Slicing\n"
   ]
  },
  {
   "cell_type": "code",
   "execution_count": 11,
   "id": "b649d070",
   "metadata": {},
   "outputs": [],
   "source": [
    "a = \"Aditya\""
   ]
  },
  {
   "cell_type": "code",
   "execution_count": 12,
   "id": "dca542dc",
   "metadata": {},
   "outputs": [
    {
     "data": {
      "text/plain": [
       "'Aditya'"
      ]
     },
     "execution_count": 12,
     "metadata": {},
     "output_type": "execute_result"
    }
   ],
   "source": [
    "a"
   ]
  },
  {
   "cell_type": "code",
   "execution_count": 13,
   "id": "aea641d1",
   "metadata": {},
   "outputs": [
    {
     "data": {
      "text/plain": [
       "'dit'"
      ]
     },
     "execution_count": 13,
     "metadata": {},
     "output_type": "execute_result"
    }
   ],
   "source": [
    "a[1:4]"
   ]
  },
  {
   "cell_type": "code",
   "execution_count": 14,
   "id": "8b25761d",
   "metadata": {},
   "outputs": [
    {
     "data": {
      "text/plain": [
       "'dit'"
      ]
     },
     "execution_count": 14,
     "metadata": {},
     "output_type": "execute_result"
    }
   ],
   "source": [
    "a[-5:-2]"
   ]
  },
  {
   "cell_type": "code",
   "execution_count": 15,
   "id": "671bd84a",
   "metadata": {},
   "outputs": [],
   "source": [
    "# resever the string "
   ]
  },
  {
   "cell_type": "code",
   "execution_count": 16,
   "id": "8d1b686d",
   "metadata": {},
   "outputs": [
    {
     "data": {
      "text/plain": [
       "('Aditya', 'aytidA')"
      ]
     },
     "execution_count": 16,
     "metadata": {},
     "output_type": "execute_result"
    }
   ],
   "source": [
    "a[:],a[::-1]"
   ]
  },
  {
   "cell_type": "code",
   "execution_count": 17,
   "id": "83ac79fb",
   "metadata": {},
   "outputs": [
    {
     "data": {
      "text/plain": [
       "'Aditya'"
      ]
     },
     "execution_count": 17,
     "metadata": {},
     "output_type": "execute_result"
    }
   ],
   "source": [
    "a[::]"
   ]
  },
  {
   "cell_type": "code",
   "execution_count": 18,
   "id": "f38ac9a9",
   "metadata": {},
   "outputs": [
    {
     "data": {
      "text/plain": [
       "('Aiy', 'At')"
      ]
     },
     "execution_count": 18,
     "metadata": {},
     "output_type": "execute_result"
    }
   ],
   "source": [
    "# start-end-step value \n",
    "a[::2],a[::3]"
   ]
  },
  {
   "cell_type": "code",
   "execution_count": 19,
   "id": "03141404",
   "metadata": {},
   "outputs": [
    {
     "data": {
      "text/plain": [
       "6"
      ]
     },
     "execution_count": 19,
     "metadata": {},
     "output_type": "execute_result"
    }
   ],
   "source": [
    "#find length \n",
    "len(a)"
   ]
  },
  {
   "cell_type": "code",
   "execution_count": 20,
   "id": "5da7dd7d",
   "metadata": {},
   "outputs": [
    {
     "data": {
      "text/plain": [
       "'adityaaditya'"
      ]
     },
     "execution_count": 20,
     "metadata": {},
     "output_type": "execute_result"
    }
   ],
   "source": [
    "str = \"adityaaditya\"\n",
    "str"
   ]
  },
  {
   "cell_type": "code",
   "execution_count": 21,
   "id": "580fcab4",
   "metadata": {},
   "outputs": [
    {
     "data": {
      "text/plain": [
       "'adityaaditya'"
      ]
     },
     "execution_count": 21,
     "metadata": {},
     "output_type": "execute_result"
    }
   ],
   "source": [
    "str[::]"
   ]
  },
  {
   "cell_type": "code",
   "execution_count": 22,
   "id": "bf6f4b9b",
   "metadata": {},
   "outputs": [
    {
     "data": {
      "text/plain": [
       "12"
      ]
     },
     "execution_count": 22,
     "metadata": {},
     "output_type": "execute_result"
    }
   ],
   "source": [
    "len(str)"
   ]
  },
  {
   "cell_type": "code",
   "execution_count": 23,
   "id": "3c469633",
   "metadata": {},
   "outputs": [
    {
     "data": {
      "text/plain": [
       "'adityaaditya'"
      ]
     },
     "execution_count": 23,
     "metadata": {},
     "output_type": "execute_result"
    }
   ],
   "source": [
    "str"
   ]
  },
  {
   "cell_type": "code",
   "execution_count": 24,
   "id": "ca317925",
   "metadata": {},
   "outputs": [
    {
     "data": {
      "text/plain": [
       "'aytidaaytida'"
      ]
     },
     "execution_count": 24,
     "metadata": {},
     "output_type": "execute_result"
    }
   ],
   "source": [
    "str[::-1]"
   ]
  },
  {
   "cell_type": "markdown",
   "id": "ec2dc844",
   "metadata": {},
   "source": [
    "# Check string is Palindrome"
   ]
  },
  {
   "cell_type": "code",
   "execution_count": 25,
   "id": "a253aba6",
   "metadata": {},
   "outputs": [],
   "source": [
    "# take input of string "
   ]
  },
  {
   "cell_type": "code",
   "execution_count": null,
   "id": "e3172aba",
   "metadata": {},
   "outputs": [],
   "source": [
    "str1 = input(\"Enter the first string: \")\n",
    "\n",
    "str1_rev = str1[::-1]\n",
    "#str2_rev = str2[::-1]\n",
    "\n",
    "str1_rev #str2_rev\n",
    "\n",
    "if(str1==str1_rev):\n",
    "    print(\"yes\")\n",
    "else:\n",
    "    print(\"No\")"
   ]
  },
  {
   "cell_type": "markdown",
   "id": "7e52256d",
   "metadata": {},
   "source": [
    "# Operator"
   ]
  },
  {
   "cell_type": "code",
   "execution_count": null,
   "id": "9a721a81",
   "metadata": {},
   "outputs": [],
   "source": [
    "x = 15\n",
    "y = 12"
   ]
  },
  {
   "cell_type": "code",
   "execution_count": null,
   "id": "31de0276",
   "metadata": {},
   "outputs": [],
   "source": [
    "x % y # reminder "
   ]
  },
  {
   "cell_type": "code",
   "execution_count": null,
   "id": "f8eb9216",
   "metadata": {},
   "outputs": [],
   "source": [
    "x/y "
   ]
  },
  {
   "cell_type": "code",
   "execution_count": null,
   "id": "4875553e",
   "metadata": {},
   "outputs": [],
   "source": [
    "x//y # floor divsion"
   ]
  },
  {
   "cell_type": "code",
   "execution_count": null,
   "id": "86af7b6e",
   "metadata": {},
   "outputs": [],
   "source": [
    "x*y "
   ]
  },
  {
   "cell_type": "code",
   "execution_count": null,
   "id": "255a13a8",
   "metadata": {},
   "outputs": [],
   "source": [
    "x = 2 \n",
    "y = 3"
   ]
  },
  {
   "cell_type": "code",
   "execution_count": null,
   "id": "7c6cdc98",
   "metadata": {},
   "outputs": [],
   "source": [
    "x * y # simple multiplication"
   ]
  },
  {
   "cell_type": "code",
   "execution_count": null,
   "id": "12b2bd85",
   "metadata": {},
   "outputs": [],
   "source": [
    "x ** y #it gives pow(x,y)"
   ]
  },
  {
   "cell_type": "code",
   "execution_count": null,
   "id": "4fcb077d",
   "metadata": {},
   "outputs": [],
   "source": [
    "print(\"Enter the numbers : \")\n",
    "\n",
    "x,y = map(int,input().split())\n",
    "\n",
    "print(f\"The number is {x} {y}\")"
   ]
  },
  {
   "cell_type": "markdown",
   "id": "15f97a30",
   "metadata": {},
   "source": [
    "## Split Function"
   ]
  },
  {
   "cell_type": "code",
   "execution_count": null,
   "id": "949eb9a1",
   "metadata": {},
   "outputs": [],
   "source": [
    "txt = \"My name is aditya\"\n",
    "a = list(txt.split())"
   ]
  },
  {
   "cell_type": "code",
   "execution_count": null,
   "id": "68b1e666",
   "metadata": {},
   "outputs": [],
   "source": [
    "a"
   ]
  },
  {
   "cell_type": "code",
   "execution_count": null,
   "id": "81735546",
   "metadata": {},
   "outputs": [],
   "source": [
    "# spit take 2 parameter \n",
    "# split(sperator,maxsplit)"
   ]
  },
  {
   "cell_type": "code",
   "execution_count": null,
   "id": "66bedb66",
   "metadata": {},
   "outputs": [],
   "source": [
    "a =input(\"Enter the sentance: \")"
   ]
  },
  {
   "cell_type": "code",
   "execution_count": null,
   "id": "1bd56ca6",
   "metadata": {},
   "outputs": [],
   "source": [
    "x,y,z =a.split()\n",
    "# number of vairaibles on left of assignment operator and number of values \n",
    "# generated by split function must be same "
   ]
  },
  {
   "cell_type": "code",
   "execution_count": null,
   "id": "44449e98",
   "metadata": {},
   "outputs": [],
   "source": [
    "x,y,z"
   ]
  },
  {
   "cell_type": "code",
   "execution_count": null,
   "id": "0cd53a3b",
   "metadata": {},
   "outputs": [],
   "source": [
    "str = 'A B C D E F G H'\n",
    "print(str.split(\" \",3))"
   ]
  },
  {
   "cell_type": "code",
   "execution_count": null,
   "id": "4ee7a707",
   "metadata": {},
   "outputs": [],
   "source": [
    "str1 = 'one#two#three'\n",
    "print(str1.split('#',3))"
   ]
  },
  {
   "cell_type": "code",
   "execution_count": null,
   "id": "3b57b3d0",
   "metadata": {},
   "outputs": [],
   "source": []
  }
 ],
 "metadata": {
  "kernelspec": {
   "display_name": "Python 3 (ipykernel)",
   "language": "python",
   "name": "python3"
  },
  "language_info": {
   "codemirror_mode": {
    "name": "ipython",
    "version": 3
   },
   "file_extension": ".py",
   "mimetype": "text/x-python",
   "name": "python",
   "nbconvert_exporter": "python",
   "pygments_lexer": "ipython3",
   "version": "3.9.13"
  }
 },
 "nbformat": 4,
 "nbformat_minor": 5
}
