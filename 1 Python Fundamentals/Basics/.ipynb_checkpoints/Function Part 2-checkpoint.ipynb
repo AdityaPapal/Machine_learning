{
 "cells": [
  {
   "cell_type": "markdown",
   "id": "0e810fe2",
   "metadata": {},
   "source": [
    "# Global and Local vairiable"
   ]
  },
  {
   "cell_type": "markdown",
   "id": "9521e8f5",
   "metadata": {},
   "source": [
    "local variable: it is a variable which we are defining in the function and the scope will be in the function only\n",
    "\n",
    "global variable: global variable is a variable which we are defining outside of the funciton and the scope will be global"
   ]
  },
  {
   "cell_type": "markdown",
   "id": "c9ff9d7d",
   "metadata": {},
   "source": [
    "#### Lamda function "
   ]
  },
  {
   "cell_type": "code",
   "execution_count": 3,
   "id": "832f7950",
   "metadata": {},
   "outputs": [
    {
     "data": {
      "text/plain": [
       "<function __main__.<lambda>(a, b)>"
      ]
     },
     "execution_count": 3,
     "metadata": {},
     "output_type": "execute_result"
    }
   ],
   "source": [
    "# define \n",
    "lambda a,b:a+b"
   ]
  },
  {
   "cell_type": "code",
   "execution_count": 4,
   "id": "f21fffbf",
   "metadata": {},
   "outputs": [
    {
     "name": "stdout",
     "output_type": "stream",
     "text": [
      "3\n"
     ]
    }
   ],
   "source": [
    "# there is two method of printing this function\n",
    "# method 1 :\n",
    "print((lambda a,b:a+b)(1,2))"
   ]
  },
  {
   "cell_type": "code",
   "execution_count": 6,
   "id": "fd001186",
   "metadata": {},
   "outputs": [
    {
     "data": {
      "text/plain": [
       "3"
      ]
     },
     "execution_count": 6,
     "metadata": {},
     "output_type": "execute_result"
    }
   ],
   "source": [
    "# mehtod 2 :\n",
    "add = lambda a,b:a+b\n",
    "add(1,2)"
   ]
  },
  {
   "cell_type": "code",
   "execution_count": 13,
   "id": "8d85ac97",
   "metadata": {},
   "outputs": [
    {
     "name": "stdout",
     "output_type": "stream",
     "text": [
      "Enter the fisrt number: 2\n",
      "Enter the second number: 4\n",
      "(4, 16)\n"
     ]
    }
   ],
   "source": [
    "\n",
    "a = int(input(\"Enter the fisrt number: \"))\n",
    "b =int(input(\"Enter the second number: \"))\n",
    "result = lambda a,b:(a**2,b**2)\n",
    "print(result(a,b))"
   ]
  },
  {
   "cell_type": "code",
   "execution_count": 14,
   "id": "52efb4db",
   "metadata": {},
   "outputs": [
    {
     "name": "stdout",
     "output_type": "stream",
     "text": [
      "Enter the string: aditya\n",
      "a\n"
     ]
    }
   ],
   "source": [
    "\n",
    "string = input(\"Enter the string: \")\n",
    "result = lambda a:a[0]\n",
    "print(result(string))"
   ]
  },
  {
   "cell_type": "code",
   "execution_count": null,
   "id": "3ba785df",
   "metadata": {},
   "outputs": [],
   "source": []
  }
 ],
 "metadata": {
  "kernelspec": {
   "display_name": "Python 3 (ipykernel)",
   "language": "python",
   "name": "python3"
  },
  "language_info": {
   "codemirror_mode": {
    "name": "ipython",
    "version": 3
   },
   "file_extension": ".py",
   "mimetype": "text/x-python",
   "name": "python",
   "nbconvert_exporter": "python",
   "pygments_lexer": "ipython3",
   "version": "3.11.3"
  }
 },
 "nbformat": 4,
 "nbformat_minor": 5
}
