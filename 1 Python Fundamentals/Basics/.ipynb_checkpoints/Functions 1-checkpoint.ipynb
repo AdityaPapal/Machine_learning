{
 "cells": [
  {
   "cell_type": "markdown",
   "id": "25282b55",
   "metadata": {},
   "source": [
    "### Write a function called absolute( ) to accept an integer as argument and return it’s absolute value. Finally call it to get the absolute value of -7 and 9\n"
   ]
  },
  {
   "cell_type": "code",
   "execution_count": 1,
   "id": "660c7d47",
   "metadata": {},
   "outputs": [],
   "source": [
    "def absulte(num):\n",
    "    if num > 0:\n",
    "        return (-num)\n",
    "    else:\n",
    "        return (num)"
   ]
  },
  {
   "cell_type": "code",
   "execution_count": 2,
   "id": "ab9d4b8f",
   "metadata": {},
   "outputs": [
    {
     "name": "stdout",
     "output_type": "stream",
     "text": [
      "Enter the number: 12\n",
      "The absulte value of number 12 is 12.\n"
     ]
    }
   ],
   "source": [
    "num = int(input(\"Enter the number: \"))\n",
    "result = (-absulte(num))\n",
    "print(f\"The absulte value of number {num} is {result}.\")"
   ]
  },
  {
   "cell_type": "code",
   "execution_count": null,
   "id": "47c6e94c",
   "metadata": {},
   "outputs": [],
   "source": []
  },
  {
   "cell_type": "code",
   "execution_count": 3,
   "id": "e046c750",
   "metadata": {},
   "outputs": [
    {
     "name": "stdout",
     "output_type": "stream",
     "text": [
      "value of a is 1000,value of b is 2000, value of c is 3000 \n"
     ]
    }
   ],
   "source": [
    "# addition of two numbers \n",
    "def addition():\n",
    "    a = 1000\n",
    "    b = 2000\n",
    "    return a,b,(a+b)\n",
    "a,b,c = addition()\n",
    "print(f\"value of a is {a},value of b is {b}, value of c is {c} \")"
   ]
  },
  {
   "cell_type": "code",
   "execution_count": 4,
   "id": "e1b311a5",
   "metadata": {},
   "outputs": [
    {
     "name": "stdout",
     "output_type": "stream",
     "text": [
      "Enter the number: 5\n",
      "Factorial of 5 is 120\n"
     ]
    }
   ],
   "source": [
    "# factorial of number\n",
    "def factorial(num):\n",
    "    fact = 1\n",
    "    while num > 1:\n",
    "        fact = fact * num\n",
    "        num-=1\n",
    "    return fact\n",
    "num = int(input(\"Enter the number: \"))\n",
    "print(f\"Factorial of {num} is {factorial(num)}\")"
   ]
  },
  {
   "cell_type": "code",
   "execution_count": 5,
   "id": "41d6300c",
   "metadata": {},
   "outputs": [
    {
     "data": {
      "text/plain": [
       "'\\npython does not support function overloading\\nit will always take recent defination\\n'"
      ]
     },
     "execution_count": 5,
     "metadata": {},
     "output_type": "execute_result"
    }
   ],
   "source": [
    "'''\n",
    "Python does not support function overloading\n",
    "it will always take recent defination\n",
    "'''"
   ]
  },
  {
   "cell_type": "markdown",
   "id": "6c7b1b5d",
   "metadata": {},
   "source": [
    "### Write a function called find_largest( ) which accepts multiple strings as argument and returns the length of the largest string"
   ]
  },
  {
   "cell_type": "code",
   "execution_count": 6,
   "id": "71181de1",
   "metadata": {},
   "outputs": [
    {
     "name": "stdout",
     "output_type": "stream",
     "text": [
      "Enter the string with spaces: aditya papal\n",
      "Max length is 6\n"
     ]
    }
   ],
   "source": [
    "def largest_str(string):\n",
    "    maxi = [len(i) for i in string]\n",
    "    return max(maxi)\n",
    "string = input(\"Enter the string with spaces: \").split(\" \")\n",
    "print(f\"Max length is {largest_str(string)}\")"
   ]
  },
  {
   "cell_type": "markdown",
   "id": "6e944329",
   "metadata": {},
   "source": [
    "# Variable length Argument (Non-Keyword Arguments)"
   ]
  },
  {
   "cell_type": "code",
   "execution_count": 7,
   "id": "13534ae0",
   "metadata": {},
   "outputs": [
    {
     "data": {
      "text/plain": [
       "(1, 2, 3, 45, 6, 7, 78, 8)"
      ]
     },
     "execution_count": 7,
     "metadata": {},
     "output_type": "execute_result"
    }
   ],
   "source": [
    "def check(*a):\n",
    "    return a \n",
    "check(1,2,3,45,6,7,78,8)"
   ]
  },
  {
   "cell_type": "code",
   "execution_count": 8,
   "id": "29602993",
   "metadata": {},
   "outputs": [
    {
     "name": "stdout",
     "output_type": "stream",
     "text": [
      "Sum of 55\n"
     ]
    }
   ],
   "source": [
    "# additionm using non keyword argument \n",
    "def sumof(*num):\n",
    "    add = [i for i in num]\n",
    "    return sum(add)\n",
    "num = sumof(1,2,3,4,5,6,7,8,9,10)\n",
    "print(f\"Sum of {num}\")"
   ]
  },
  {
   "cell_type": "code",
   "execution_count": 9,
   "id": "52235801",
   "metadata": {},
   "outputs": [
    {
     "name": "stdout",
     "output_type": "stream",
     "text": [
      "Argument in arg1 is: aditya\n",
      "Arguments in *argu is: abc\n",
      "Arguments in *argu is: xyz\n",
      "Arguments in *argu is: papal\n"
     ]
    }
   ],
   "source": [
    "def demo(arg1,*argu):\n",
    "    print(f\"Argument in arg1 is: {arg1}\")\n",
    "    for i in argu:\n",
    "        print(f\"Arguments in *argu is: {i}\")\n",
    "demo('aditya','abc','xyz','papal')"
   ]
  },
  {
   "cell_type": "markdown",
   "id": "f2f796f5",
   "metadata": {},
   "source": [
    "# Keyword Arguments"
   ]
  },
  {
   "cell_type": "code",
   "execution_count": 10,
   "id": "119464b8",
   "metadata": {},
   "outputs": [
    {
     "data": {
      "text/plain": [
       "'\\nWe use the name kwargs with the double star. The reason is that the double star \\nallows us to pass through keyword arguments (and any number of them).\\n\\nA keyword argument is where you provide a name to the variable as you pass it into the function.\\n'"
      ]
     },
     "execution_count": 10,
     "metadata": {},
     "output_type": "execute_result"
    }
   ],
   "source": [
    "'''\n",
    "We use the name kwargs with the double star. The reason is that the double star \n",
    "allows us to pass through keyword arguments (and any number of them).\n",
    "\n",
    "A keyword argument is where you provide a name to the variable as you pass it into the function.\n",
    "'''"
   ]
  },
  {
   "cell_type": "code",
   "execution_count": 11,
   "id": "2e2248df",
   "metadata": {},
   "outputs": [
    {
     "name": "stdout",
     "output_type": "stream",
     "text": [
      "first == aditya\n",
      "middle == vitthal\n",
      "last == Papal\n"
     ]
    }
   ],
   "source": [
    "def check(**demo):\n",
    "    for key,value in demo.items():\n",
    "        print(f\"{key} == {value}\")\n",
    "check(first = \"aditya\",middle = \"vitthal\",last = \"Papal\")"
   ]
  },
  {
   "cell_type": "code",
   "execution_count": 13,
   "id": "59d9ac16",
   "metadata": {},
   "outputs": [
    {
     "name": "stdout",
     "output_type": "stream",
     "text": [
      "Elements form argu is : 1\n",
      "Elements form argu is : 2\n",
      "Elements form argu is : 3\n",
      "Elements form argu is : 4\n",
      "Elements form argu is : 5\n",
      "Elements form argu is : 6\n",
      "Elements form argu is : 7\n",
      "Elements form argu is : 8\n",
      "Elements form argu is : 9\n",
      "Elements from kwargu is first == aditya\n",
      "Elements from kwargu is middle == vitthal\n",
      "Elements from kwargu is last == Papal\n"
     ]
    }
   ],
   "source": [
    "# mixed keyword and nonkeyword arguments in function\n",
    "def trying(*argu,**kwargu):\n",
    "    for i in argu:\n",
    "        print(f\"Elements form argu is : {i}\")\n",
    "    for i ,j in kwargu.items():\n",
    "        print(f\"Elements from kwargu is {i} == {j}\")\n",
    "trying(1,2,3,4,5,6,7,8,9,first = \"aditya\",middle = \"vitthal\",last = \"Papal\")"
   ]
  },
  {
   "cell_type": "code",
   "execution_count": null,
   "id": "9429aec6",
   "metadata": {},
   "outputs": [],
   "source": []
  }
 ],
 "metadata": {
  "kernelspec": {
   "display_name": "Python 3 (ipykernel)",
   "language": "python",
   "name": "python3"
  },
  "language_info": {
   "codemirror_mode": {
    "name": "ipython",
    "version": 3
   },
   "file_extension": ".py",
   "mimetype": "text/x-python",
   "name": "python",
   "nbconvert_exporter": "python",
   "pygments_lexer": "ipython3",
   "version": "3.11.3"
  }
 },
 "nbformat": 4,
 "nbformat_minor": 5
}
