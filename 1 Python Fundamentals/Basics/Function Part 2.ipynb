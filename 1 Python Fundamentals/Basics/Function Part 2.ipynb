{
 "cells": [
  {
   "cell_type": "markdown",
   "id": "0e810fe2",
   "metadata": {},
   "source": [
    "# Global and Local vairiable"
   ]
  },
  {
   "cell_type": "markdown",
   "id": "9521e8f5",
   "metadata": {},
   "source": [
    "local variable: it is a variable which we are defining in the function and the scope will be in the function only\n",
    "\n",
    "global variable: global variable is a variable which we are defining outside of the funciton and the scope will be global"
   ]
  },
  {
   "cell_type": "markdown",
   "id": "c9ff9d7d",
   "metadata": {},
   "source": [
    "#### Lamda function "
   ]
  },
  {
   "cell_type": "code",
   "execution_count": 1,
   "id": "832f7950",
   "metadata": {},
   "outputs": [
    {
     "data": {
      "text/plain": [
       "<function __main__.<lambda>(a, b)>"
      ]
     },
     "execution_count": 1,
     "metadata": {},
     "output_type": "execute_result"
    }
   ],
   "source": [
    "# define \n",
    "lambda a,b:a+b"
   ]
  },
  {
   "cell_type": "code",
   "execution_count": 2,
   "id": "f21fffbf",
   "metadata": {},
   "outputs": [
    {
     "name": "stdout",
     "output_type": "stream",
     "text": [
      "3\n"
     ]
    }
   ],
   "source": [
    "# there is two method of printing this function\n",
    "# method 1 :\n",
    "print((lambda a,b:a+b)(1,2))"
   ]
  },
  {
   "cell_type": "code",
   "execution_count": 3,
   "id": "fd001186",
   "metadata": {},
   "outputs": [
    {
     "data": {
      "text/plain": [
       "3"
      ]
     },
     "execution_count": 3,
     "metadata": {},
     "output_type": "execute_result"
    }
   ],
   "source": [
    "# mehtod 2 :\n",
    "add = lambda a,b:a+b\n",
    "add(1,2)"
   ]
  },
  {
   "cell_type": "code",
   "execution_count": 4,
   "id": "8d85ac97",
   "metadata": {},
   "outputs": [
    {
     "name": "stdout",
     "output_type": "stream",
     "text": [
      "Enter the fisrt number: 1\n",
      "Enter the second number: 1\n",
      "(1, 1)\n"
     ]
    }
   ],
   "source": [
    "\n",
    "a = int(input(\"Enter the fisrt number: \"))\n",
    "b =int(input(\"Enter the second number: \"))\n",
    "result = lambda a,b:(a**2,b**2)\n",
    "print(result(a,b))"
   ]
  },
  {
   "cell_type": "code",
   "execution_count": 5,
   "id": "52efb4db",
   "metadata": {},
   "outputs": [
    {
     "name": "stdout",
     "output_type": "stream",
     "text": [
      "Enter the string: 1\n",
      "1\n"
     ]
    }
   ],
   "source": [
    "\n",
    "string = input(\"Enter the string: \")\n",
    "result = lambda a:a[0]\n",
    "print(result(string))"
   ]
  },
  {
   "cell_type": "code",
   "execution_count": 6,
   "id": "3ba785df",
   "metadata": {},
   "outputs": [],
   "source": [
    "# Local and global vaireable"
   ]
  },
  {
   "cell_type": "code",
   "execution_count": 7,
   "id": "f858d2d5",
   "metadata": {},
   "outputs": [
    {
     "name": "stdout",
     "output_type": "stream",
     "text": [
      "aditya\n"
     ]
    }
   ],
   "source": [
    "def a():\n",
    "    print(y)\n",
    "y = \"aditya\"\n",
    "a()"
   ]
  },
  {
   "cell_type": "code",
   "execution_count": 8,
   "id": "1e26c3f9",
   "metadata": {},
   "outputs": [
    {
     "name": "stdout",
     "output_type": "stream",
     "text": [
      "aditya\n"
     ]
    }
   ],
   "source": [
    "z = \"aditya\"\n",
    "def b():\n",
    "    print(z)\n",
    "b()"
   ]
  },
  {
   "cell_type": "code",
   "execution_count": 9,
   "id": "5243dfa8",
   "metadata": {},
   "outputs": [
    {
     "ename": "NameError",
     "evalue": "name 'x' is not defined",
     "output_type": "error",
     "traceback": [
      "\u001b[1;31m---------------------------------------------------------------------------\u001b[0m",
      "\u001b[1;31mNameError\u001b[0m                                 Traceback (most recent call last)",
      "Cell \u001b[1;32mIn[9], line 3\u001b[0m\n\u001b[0;32m      1\u001b[0m \u001b[38;5;28;01mdef\u001b[39;00m \u001b[38;5;21mc\u001b[39m():\n\u001b[0;32m      2\u001b[0m     \u001b[38;5;28mprint\u001b[39m(x)\n\u001b[1;32m----> 3\u001b[0m c()\n\u001b[0;32m      4\u001b[0m x \u001b[38;5;241m=\u001b[39m \u001b[38;5;124m\"\u001b[39m\u001b[38;5;124maditya\u001b[39m\u001b[38;5;124m\"\u001b[39m\n",
      "Cell \u001b[1;32mIn[9], line 2\u001b[0m, in \u001b[0;36mc\u001b[1;34m()\u001b[0m\n\u001b[0;32m      1\u001b[0m \u001b[38;5;28;01mdef\u001b[39;00m \u001b[38;5;21mc\u001b[39m():\n\u001b[1;32m----> 2\u001b[0m     \u001b[38;5;28mprint\u001b[39m(x)\n",
      "\u001b[1;31mNameError\u001b[0m: name 'x' is not defined"
     ]
    }
   ],
   "source": [
    "def c():\n",
    "    print(x)\n",
    "c()\n",
    "x = \"aditya\""
   ]
  },
  {
   "cell_type": "code",
   "execution_count": null,
   "id": "963b1c9a",
   "metadata": {},
   "outputs": [],
   "source": [
    "# lambda function"
   ]
  },
  {
   "cell_type": "code",
   "execution_count": null,
   "id": "f9e84768",
   "metadata": {},
   "outputs": [],
   "source": [
    "print((lambda a,b:a+b)(2,4))"
   ]
  },
  {
   "cell_type": "code",
   "execution_count": null,
   "id": "7e3286ce",
   "metadata": {},
   "outputs": [],
   "source": [
    "ab = lambda a,b:a*b (3,5)"
   ]
  },
  {
   "cell_type": "code",
   "execution_count": null,
   "id": "f9e7f79d",
   "metadata": {},
   "outputs": [],
   "source": [
    "ab"
   ]
  },
  {
   "cell_type": "code",
   "execution_count": null,
   "id": "3bff4a53",
   "metadata": {},
   "outputs": [],
   "source": [
    "# Value from users and find its squre use lambda function"
   ]
  },
  {
   "cell_type": "code",
   "execution_count": null,
   "id": "7aa48f50",
   "metadata": {},
   "outputs": [],
   "source": [
    "a = int(input(\"Enter the first number: \"))\n",
    "b = int(input(\"Enter the second number: \"))\n",
    "sqr = lambda a,b : (a**2,b**2)\n",
    "sqr(a,b)"
   ]
  },
  {
   "cell_type": "code",
   "execution_count": null,
   "id": "6619f738",
   "metadata": {},
   "outputs": [],
   "source": [
    "a = input(\"enter the string \")\n",
    "print((lambda string:string[0])(a))"
   ]
  },
  {
   "cell_type": "code",
   "execution_count": null,
   "id": "08f40415",
   "metadata": {},
   "outputs": [],
   "source": [
    "n = int(input(\"Enter the number: \"))\n",
    "ans = lambda x : \"Even\" if x % 2 == 0 else \"Odd\"\n",
    "ans(n)"
   ]
  },
  {
   "cell_type": "code",
   "execution_count": null,
   "id": "44ab4b76",
   "metadata": {},
   "outputs": [],
   "source": [
    "a = int(input(\"enter the number: \"))\n",
    "b = int(input(\"enter the number: \"))\n",
    "ans = lambda x,y : print(max(x,y))\n",
    "ans(a,b)"
   ]
  },
  {
   "cell_type": "markdown",
   "id": "aad74dc2",
   "metadata": {},
   "source": [
    "## Map Function"
   ]
  },
  {
   "cell_type": "code",
   "execution_count": null,
   "id": "c801f23c",
   "metadata": {},
   "outputs": [],
   "source": [
    "# syntax map(func,iterable) "
   ]
  },
  {
   "cell_type": "code",
   "execution_count": null,
   "id": "c6a007cd",
   "metadata": {},
   "outputs": [],
   "source": [
    "# square of number"
   ]
  },
  {
   "cell_type": "code",
   "execution_count": null,
   "id": "ab9c0a6e",
   "metadata": {},
   "outputs": [],
   "source": [
    "def sqr(n):\n",
    "    return n**2\n",
    "mylist = [1,2,3,4,5]\n",
    "for i in mylist:\n",
    "    print(sqr(i))"
   ]
  },
  {
   "cell_type": "code",
   "execution_count": null,
   "id": "030ab1be",
   "metadata": {},
   "outputs": [],
   "source": [
    "# using map fun"
   ]
  },
  {
   "cell_type": "code",
   "execution_count": 10,
   "id": "54c47bed",
   "metadata": {},
   "outputs": [],
   "source": [
    "def squar(n):\n",
    "    return n**2\n",
    "mylist = [1,2,3,4,5]"
   ]
  },
  {
   "cell_type": "code",
   "execution_count": 11,
   "id": "a0ce400d",
   "metadata": {},
   "outputs": [],
   "source": [
    "newlist = list(map(lambda x:x**2,mylist))"
   ]
  },
  {
   "cell_type": "code",
   "execution_count": 13,
   "id": "c9a58755",
   "metadata": {},
   "outputs": [
    {
     "name": "stdout",
     "output_type": "stream",
     "text": [
      "[1, 4, 9, 16, 25]\n"
     ]
    }
   ],
   "source": [
    "print(newlist)"
   ]
  },
  {
   "cell_type": "code",
   "execution_count": null,
   "id": "c4397599",
   "metadata": {},
   "outputs": [],
   "source": []
  },
  {
   "cell_type": "code",
   "execution_count": 21,
   "id": "857bc98d",
   "metadata": {},
   "outputs": [],
   "source": [
    "def inspect(st):\n",
    "    if len(st) % 2 == 0:\n",
    "        return \"even\"\n",
    "    else:\n",
    "        return \"Odd\"\n",
    "mylist = [\"january\",'February','March']\n",
    "newlist = list(map(lambda x:\"Even\" if len(x) % 2 == 0 else \"Odd\",mylist))"
   ]
  },
  {
   "cell_type": "code",
   "execution_count": 22,
   "id": "bd34ff2b",
   "metadata": {},
   "outputs": [
    {
     "data": {
      "text/plain": [
       "['Odd', 'Even', 'Odd']"
      ]
     },
     "execution_count": 22,
     "metadata": {},
     "output_type": "execute_result"
    }
   ],
   "source": [
    "newlist"
   ]
  },
  {
   "cell_type": "code",
   "execution_count": null,
   "id": "c1ecac46",
   "metadata": {},
   "outputs": [],
   "source": []
  },
  {
   "cell_type": "markdown",
   "id": "fb6005df",
   "metadata": {},
   "source": [
    "## Filter Function"
   ]
  },
  {
   "cell_type": "code",
   "execution_count": 29,
   "id": "2a7bcbe4",
   "metadata": {},
   "outputs": [],
   "source": [
    "# it filter out the values "
   ]
  },
  {
   "cell_type": "code",
   "execution_count": 30,
   "id": "ced6e3cd",
   "metadata": {},
   "outputs": [],
   "source": [
    "# filter the even numbers only"
   ]
  },
  {
   "cell_type": "code",
   "execution_count": 32,
   "id": "b0435e2d",
   "metadata": {},
   "outputs": [
    {
     "name": "stdout",
     "output_type": "stream",
     "text": [
      "2\n",
      "4\n",
      "6\n",
      "8\n",
      "10\n"
     ]
    }
   ],
   "source": [
    "mylist = [1,2,3,4,5,6,7,8,9,10]\n",
    "def check_even(n):\n",
    "    return n%2==0\n",
    "for i in mylist:\n",
    "    if check_even(i):\n",
    "        print(i)"
   ]
  },
  {
   "cell_type": "code",
   "execution_count": 28,
   "id": "ff1cf062",
   "metadata": {},
   "outputs": [],
   "source": [
    "mylist = [1,2,3,4,5,6,7,8,9,10]\n",
    "newlist = list(filter(lambda x:x%2==0,mylist))"
   ]
  },
  {
   "cell_type": "code",
   "execution_count": 27,
   "id": "86ba80c4",
   "metadata": {},
   "outputs": [
    {
     "data": {
      "text/plain": [
       "[2, 4, 6, 8, 10]"
      ]
     },
     "execution_count": 27,
     "metadata": {},
     "output_type": "execute_result"
    }
   ],
   "source": [
    "newlist"
   ]
  },
  {
   "cell_type": "code",
   "execution_count": 33,
   "id": "a2f97890",
   "metadata": {},
   "outputs": [],
   "source": [
    "# use map for all the values \n",
    "newlist = list(map(lambda x:x%2==0,mylist))"
   ]
  },
  {
   "cell_type": "code",
   "execution_count": 34,
   "id": "395e3bbe",
   "metadata": {},
   "outputs": [
    {
     "data": {
      "text/plain": [
       "[False, True, False, True, False, True, False, True, False, True]"
      ]
     },
     "execution_count": 34,
     "metadata": {},
     "output_type": "execute_result"
    }
   ],
   "source": [
    "newlist"
   ]
  },
  {
   "cell_type": "markdown",
   "id": "655a6c80",
   "metadata": {},
   "source": [
    "#### Write a lambda expression that accepts a string as argument and returns it’s first character\n",
    "#### Now use this lambda expression in map( ) function to work on for first 3 month names"
   ]
  },
  {
   "cell_type": "code",
   "execution_count": 36,
   "id": "134288ae",
   "metadata": {},
   "outputs": [
    {
     "data": {
      "text/plain": [
       "['ODD', 'ODD', 'ODD', 'EVEN', 'EVEN']"
      ]
     },
     "execution_count": 36,
     "metadata": {},
     "output_type": "execute_result"
    }
   ],
   "source": [
    "list(map(lambda string: \"EVEN\" if len(string)%2==0 else \"ODD\",[\"januray\",\"febuary\",\"march\",\"june\",\"november\"]))"
   ]
  },
  {
   "cell_type": "code",
   "execution_count": 37,
   "id": "87a61ffd",
   "metadata": {},
   "outputs": [],
   "source": [
    "# Write a lambda expression that accepts a character as argument and returns True if it is a vowel otherwise False\n",
    "\n",
    "# Now ask the user to input his/her name and display only the vowels in the name . \n",
    "#In case the name does not contain any vowel display the message No vowels in your name\n"
   ]
  },
  {
   "cell_type": "code",
   "execution_count": 41,
   "id": "3e2c4f40",
   "metadata": {},
   "outputs": [
    {
     "name": "stdout",
     "output_type": "stream",
     "text": [
      "Enter the nameaditya\n"
     ]
    },
    {
     "data": {
      "text/plain": [
       "['a', 'i', 'a']"
      ]
     },
     "execution_count": 41,
     "metadata": {},
     "output_type": "execute_result"
    }
   ],
   "source": [
    "mystring  = input(\"Enter the name\")\n",
    "vowles = list(filter(lambda ch : ch in \"aeiou\",mystring))\n",
    "vowles"
   ]
  },
  {
   "cell_type": "code",
   "execution_count": 42,
   "id": "d6adacc9",
   "metadata": {},
   "outputs": [
    {
     "name": "stdout",
     "output_type": "stream",
     "text": [
      "there is a vowles in your name ['a', 'i', 'a']\n"
     ]
    }
   ],
   "source": [
    "mylist=list(vowles)\n",
    "if len(mylist)==0:\n",
    "    print(\"there is no vowels in your name\")\n",
    "else:\n",
    "    print(\"there is a vowles in your name\",mylist)"
   ]
  },
  {
   "cell_type": "code",
   "execution_count": null,
   "id": "8c6c8b18",
   "metadata": {},
   "outputs": [],
   "source": []
  }
 ],
 "metadata": {
  "kernelspec": {
   "display_name": "Python 3 (ipykernel)",
   "language": "python",
   "name": "python3"
  },
  "language_info": {
   "codemirror_mode": {
    "name": "ipython",
    "version": 3
   },
   "file_extension": ".py",
   "mimetype": "text/x-python",
   "name": "python",
   "nbconvert_exporter": "python",
   "pygments_lexer": "ipython3",
   "version": "3.11.3"
  }
 },
 "nbformat": 4,
 "nbformat_minor": 5
}
