{
 "cells": [
  {
   "cell_type": "markdown",
   "id": "707e209c",
   "metadata": {},
   "source": [
    "# Object Oriented Programming"
   ]
  },
  {
   "cell_type": "code",
   "execution_count": 1,
   "id": "c009dc3d",
   "metadata": {},
   "outputs": [
    {
     "data": {
      "text/plain": [
       "'\\n\\n\\n'"
      ]
     },
     "execution_count": 1,
     "metadata": {},
     "output_type": "execute_result"
    }
   ],
   "source": [
    "'''\n",
    "\n",
    "\n",
    "'''"
   ]
  },
  {
   "cell_type": "markdown",
   "id": "be70a47f",
   "metadata": {},
   "source": [
    "### I Encapulation"
   ]
  },
  {
   "cell_type": "code",
   "execution_count": 2,
   "id": "4f739158",
   "metadata": {},
   "outputs": [],
   "source": [
    "# without Encapulation\n",
    "class demo:\n",
    "    def __init__(self):\n",
    "        self.name = \"Aditya\"\n",
    "        self.age = 20\n",
    "        self.sal = 20000000\n",
    "    def display():\n",
    "        print(f\"Name is {self.name}\")\n",
    "        print(f\"Age is {self.age}\")\n",
    "        print(f\"Salary is {self.sal}\")"
   ]
  },
  {
   "cell_type": "code",
   "execution_count": 3,
   "id": "5cd8fee5",
   "metadata": {},
   "outputs": [],
   "source": [
    "obj = demo()"
   ]
  },
  {
   "cell_type": "code",
   "execution_count": 4,
   "id": "beb88699",
   "metadata": {},
   "outputs": [
    {
     "name": "stdout",
     "output_type": "stream",
     "text": [
      "Aditya 20 20000000\n"
     ]
    }
   ],
   "source": [
    "print(obj.name,obj.age,obj.sal) # here we can direct access the private data from init method "
   ]
  },
  {
   "cell_type": "code",
   "execution_count": null,
   "id": "4027d2e9",
   "metadata": {},
   "outputs": [],
   "source": []
  },
  {
   "cell_type": "code",
   "execution_count": 5,
   "id": "28ef1a03",
   "metadata": {},
   "outputs": [],
   "source": [
    "# with Encapulation we can make private variable\n",
    "class demo:\n",
    "    def __init__(self):\n",
    "        self.__name = \"Aditya\"\n",
    "        self.__age = 20\n",
    "        self.__sal = 20000000\n",
    "    def display(self):\n",
    "        print(f\"Name is {self.__name}\")\n",
    "        print(f\"Age is {self.__age}\")\n",
    "        print(f\"Salary is {self.__sal}\")"
   ]
  },
  {
   "cell_type": "code",
   "execution_count": 6,
   "id": "d057eb5b",
   "metadata": {},
   "outputs": [],
   "source": [
    "obj = demo()"
   ]
  },
  {
   "cell_type": "code",
   "execution_count": 7,
   "id": "c9878bd0",
   "metadata": {},
   "outputs": [
    {
     "ename": "AttributeError",
     "evalue": "'demo' object has no attribute '__name'",
     "output_type": "error",
     "traceback": [
      "\u001b[1;31m---------------------------------------------------------------------------\u001b[0m",
      "\u001b[1;31mAttributeError\u001b[0m                            Traceback (most recent call last)",
      "Cell \u001b[1;32mIn[7], line 1\u001b[0m\n\u001b[1;32m----> 1\u001b[0m \u001b[38;5;28mprint\u001b[39m(obj\u001b[38;5;241m.\u001b[39m__name)\n",
      "\u001b[1;31mAttributeError\u001b[0m: 'demo' object has no attribute '__name'"
     ]
    }
   ],
   "source": [
    "print(obj.__name) # here wew can make data as private with (__) sign so we achive encapulation"
   ]
  },
  {
   "cell_type": "code",
   "execution_count": null,
   "id": "e2fb2b5a",
   "metadata": {
    "scrolled": true
   },
   "outputs": [],
   "source": [
    "obj.display()"
   ]
  },
  {
   "cell_type": "code",
   "execution_count": null,
   "id": "42e38dae",
   "metadata": {},
   "outputs": [],
   "source": []
  },
  {
   "cell_type": "code",
   "execution_count": null,
   "id": "aa8d4ca4",
   "metadata": {},
   "outputs": [],
   "source": [
    "# with Encapulation we can make private method\n",
    "class demo:\n",
    "    def __init__(self):\n",
    "        self.__name = \"Aditya\"\n",
    "        self.__age = 20\n",
    "        self.__sal = 20000000\n",
    "    def __display(self):\n",
    "        print(f\"Name is {self.__name}\")\n",
    "        print(f\"Age is {self.__age}\")\n",
    "        print(f\"Salary is {self.__sal}\")\n",
    "    def show(self):\n",
    "        self.__display()"
   ]
  },
  {
   "cell_type": "code",
   "execution_count": null,
   "id": "9c53aeba",
   "metadata": {},
   "outputs": [],
   "source": [
    "obj = demo()"
   ]
  },
  {
   "cell_type": "code",
   "execution_count": null,
   "id": "e25822ca",
   "metadata": {},
   "outputs": [],
   "source": [
    "obj.__display()"
   ]
  },
  {
   "cell_type": "code",
   "execution_count": null,
   "id": "59147ae8",
   "metadata": {},
   "outputs": [],
   "source": [
    "obj.show()"
   ]
  },
  {
   "cell_type": "markdown",
   "id": "691e4f9e",
   "metadata": {},
   "source": [
    "### II Inheritance"
   ]
  },
  {
   "cell_type": "code",
   "execution_count": null,
   "id": "b641e290",
   "metadata": {},
   "outputs": [],
   "source": [
    "'''\n",
    "1) simple Inheritance\n",
    "2) Multi level Inheritance\n",
    "3) Multiple Inhertiance\n",
    "4) hirachical Inheritance\n",
    "5) Hybrid Inheritance\n",
    "'''"
   ]
  },
  {
   "cell_type": "code",
   "execution_count": null,
   "id": "bd3a409d",
   "metadata": {},
   "outputs": [],
   "source": [
    "# Simple Inheritance \n",
    "class A:\n",
    "    pass\n",
    "class B:\n",
    "    pass\n",
    "class C:\n",
    "    pass"
   ]
  },
  {
   "cell_type": "code",
   "execution_count": null,
   "id": "fd6828be",
   "metadata": {},
   "outputs": [],
   "source": [
    "# Multi level Inheritance\n",
    "class A:\n",
    "    pass\n",
    "class B(A):\n",
    "    pass\n",
    "class C(B):\n",
    "    pass"
   ]
  },
  {
   "cell_type": "code",
   "execution_count": null,
   "id": "333502d6",
   "metadata": {},
   "outputs": [],
   "source": [
    "# Multiple Inheritance\n",
    "class A:\n",
    "    pass\n",
    "class B:\n",
    "    pass\n",
    "class C(A,B):\n",
    "    pass"
   ]
  },
  {
   "cell_type": "code",
   "execution_count": null,
   "id": "2804d8cb",
   "metadata": {},
   "outputs": [],
   "source": [
    "# Hirachical Inheritance"
   ]
  },
  {
   "cell_type": "code",
   "execution_count": null,
   "id": "75021df7",
   "metadata": {},
   "outputs": [],
   "source": [
    "class A:\n",
    "    pass\n",
    "class B(A):\n",
    "    pass\n",
    "class C(A):\n",
    "    pass"
   ]
  },
  {
   "cell_type": "code",
   "execution_count": null,
   "id": "5d7e0f6d",
   "metadata": {},
   "outputs": [],
   "source": [
    "# Hybrid inheritance \n",
    "class A:\n",
    "    pass\n",
    "class B:\n",
    "    pass\n",
    "class C(B):\n",
    "    pass\n",
    "class D(A,C):\n",
    "    pass"
   ]
  },
  {
   "cell_type": "code",
   "execution_count": null,
   "id": "322c2a9d",
   "metadata": {},
   "outputs": [],
   "source": [
    "# Multilevel inheritance "
   ]
  },
  {
   "cell_type": "code",
   "execution_count": 19,
   "id": "d52d0636",
   "metadata": {},
   "outputs": [
    {
     "name": "stdout",
     "output_type": "stream",
     "text": [
      "Printing msg from class A\n",
      "Printing msg from class B\n",
      "Printing msg from class C\n"
     ]
    }
   ],
   "source": [
    "class A:\n",
    "    def __info1(self):\n",
    "        print(\"Printing msg from class A\")\n",
    "    def showInfo1(self):\n",
    "        self.__info1();\n",
    "class B(A):\n",
    "    def __info2(self):\n",
    "        print(\"Printing msg from class B\")\n",
    "    def showInfo2(self):\n",
    "        self.__info2();\n",
    "class C(B):\n",
    "    def __info2(self):\n",
    "        print(\"Printing msg from class C\")\n",
    "    def showInfo3(self):\n",
    "        self.__info2();\n",
    "        \n",
    "obj1 = A()\n",
    "obj2 = B() \n",
    "obj3 = C()\n",
    "\n",
    "obj3.showInfo1()\n",
    "obj3.showInfo2()\n",
    "obj3.showInfo3()"
   ]
  },
  {
   "cell_type": "code",
   "execution_count": 20,
   "id": "aa628d66",
   "metadata": {},
   "outputs": [],
   "source": [
    "# Hirachical inheritance "
   ]
  },
  {
   "cell_type": "code",
   "execution_count": 29,
   "id": "a2b1ad5f",
   "metadata": {},
   "outputs": [
    {
     "name": "stdout",
     "output_type": "stream",
     "text": [
      "Printing msg from class A\n",
      "Calling from Class A\n",
      "\n",
      "Printing msg from class C\n",
      "Calling from Class C\n",
      "\n",
      "Printing msg from class A\n",
      "Calling from Class A\n",
      "\n"
     ]
    }
   ],
   "source": [
    "class A:\n",
    "    def __info1(self):\n",
    "        print(\"Printing msg from class A\")\n",
    "    def showInfo1(self):\n",
    "        self.__info1();\n",
    "        print(\"Calling from Class A\\n\")\n",
    "class B(A):\n",
    "    def __info2(self):\n",
    "        print(\"Printing msg from class B\")\n",
    "    def showInfo2(self):\n",
    "        self.__info2();\n",
    "        print(\"Calling from Class B\\n\")\n",
    "class C(A):\n",
    "    def __info2(self):\n",
    "        print(\"Printing msg from class C\")\n",
    "    def showInfo3(self):\n",
    "        self.__info2();\n",
    "        print(\"Calling from Class C\\n\")\n",
    "        \n",
    "obj1 = A()\n",
    "obj2 = B() \n",
    "obj3 = C()\n",
    "\n",
    "obj3.showInfo1()\n",
    "obj3.showInfo3()\n",
    "obj2.showInfo1()"
   ]
  },
  {
   "cell_type": "code",
   "execution_count": 27,
   "id": "98382210",
   "metadata": {},
   "outputs": [],
   "source": [
    "# Multiple inheritance"
   ]
  },
  {
   "cell_type": "code",
   "execution_count": 24,
   "id": "e42e5087",
   "metadata": {},
   "outputs": [
    {
     "name": "stdout",
     "output_type": "stream",
     "text": [
      "Printing msg from class A\n",
      "Printing msg from class B\n",
      "Printing msg from class C\n"
     ]
    }
   ],
   "source": [
    "class A:\n",
    "    def __info1(self):\n",
    "        print(\"Printing msg from class A\")\n",
    "    def showInfo1(self):\n",
    "        self.__info1();\n",
    "class B:\n",
    "    def __info2(self):\n",
    "        print(\"Printing msg from class B\")\n",
    "    def showInfo2(self):\n",
    "        self.__info2();\n",
    "class C(B,A):\n",
    "    def __info2(self):\n",
    "        print(\"Printing msg from class C\")\n",
    "    def showInfo3(self):\n",
    "        self.__info2();\n",
    "        \n",
    "obj1 = A()\n",
    "obj2 = B() \n",
    "obj3 = C()\n",
    "\n",
    "obj3.showInfo1()\n",
    "obj3.showInfo2()\n",
    "obj3.showInfo3()"
   ]
  },
  {
   "cell_type": "code",
   "execution_count": 31,
   "id": "f3d00e52",
   "metadata": {},
   "outputs": [],
   "source": [
    "# Hybrid inheritance "
   ]
  },
  {
   "cell_type": "code",
   "execution_count": 32,
   "id": "13da1de3",
   "metadata": {},
   "outputs": [],
   "source": [
    "class A:\n",
    "    def __info1(self):\n",
    "        print(\"Printing msg from class A\")\n",
    "    def showInfo1(self):\n",
    "        self.__info1();\n",
    "class B(A):\n",
    "    def __info2(self):\n",
    "        print(\"Printing msg from class B\")\n",
    "    def showInfo2(self):\n",
    "        self.__info2();\n",
    "class C(B,A):\n",
    "    def __info2(self):\n",
    "        print(\"Printing msg from class C\")\n",
    "    def showInfo3(self):\n",
    "        self.__info2()\n",
    "obj1 = A()\n",
    "obj2 = B() \n",
    "obj3 = C() "
   ]
  },
  {
   "cell_type": "code",
   "execution_count": 33,
   "id": "973d153d",
   "metadata": {},
   "outputs": [
    {
     "name": "stdout",
     "output_type": "stream",
     "text": [
      "Printing msg from class A\n"
     ]
    }
   ],
   "source": [
    "obj2.showInfo1()"
   ]
  },
  {
   "cell_type": "code",
   "execution_count": 36,
   "id": "1c9eb87a",
   "metadata": {},
   "outputs": [
    {
     "name": "stdout",
     "output_type": "stream",
     "text": [
      "Printing msg from class A\n",
      "Printing msg from class B\n",
      "Printing msg from class C\n"
     ]
    }
   ],
   "source": [
    "obj3.showInfo1()\n",
    "obj3.showInfo2()\n",
    "obj3.showInfo3()"
   ]
  },
  {
   "cell_type": "code",
   "execution_count": null,
   "id": "ac4f0429",
   "metadata": {},
   "outputs": [],
   "source": []
  }
 ],
 "metadata": {
  "kernelspec": {
   "display_name": "Python 3 (ipykernel)",
   "language": "python",
   "name": "python3"
  },
  "language_info": {
   "codemirror_mode": {
    "name": "ipython",
    "version": 3
   },
   "file_extension": ".py",
   "mimetype": "text/x-python",
   "name": "python",
   "nbconvert_exporter": "python",
   "pygments_lexer": "ipython3",
   "version": "3.11.3"
  }
 },
 "nbformat": 4,
 "nbformat_minor": 5
}
