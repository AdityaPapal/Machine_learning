{
 "cells": [
  {
   "cell_type": "markdown",
   "id": "707e209c",
   "metadata": {},
   "source": [
    "# Object Oriented Programming"
   ]
  },
  {
   "cell_type": "code",
   "execution_count": 1,
   "id": "c009dc3d",
   "metadata": {},
   "outputs": [],
   "source": [
    "'''\n",
    "\n",
    "\n",
    "'''"
   ]
  },
  {
   "cell_type": "markdown",
   "id": "be70a47f",
   "metadata": {},
   "source": [
    "### I Encapulation"
   ]
  },
  {
   "cell_type": "code",
   "execution_count": 2,
   "id": "4f739158",
   "metadata": {},
   "outputs": [],
   "source": [
    "# without Encapulation\n",
    "class demo:\n",
    "    def __init__(self):\n",
    "        self.name = \"Aditya\"\n",
    "        self.age = 20\n",
    "        self.sal = 20000000\n",
    "    def display():\n",
    "        print(f\"Name is {self.name}\")\n",
    "        print(f\"Age is {self.age}\")\n",
    "        print(f\"Salary is {self.sal}\")"
   ]
  },
  {
   "cell_type": "code",
   "execution_count": 3,
   "id": "5cd8fee5",
   "metadata": {},
   "outputs": [],
   "source": [
    "obj = demo()"
   ]
  },
  {
   "cell_type": "code",
   "execution_count": 4,
   "id": "beb88699",
   "metadata": {},
   "outputs": [
    {
     "name": "stdout",
     "output_type": "stream",
     "text": [
      "Aditya 20 20000000\n"
     ]
    }
   ],
   "source": [
    "print(obj.name,obj.age,obj.sal) # here we can direct access the private data from init method "
   ]
  },
  {
   "cell_type": "code",
   "execution_count": null,
   "id": "4027d2e9",
   "metadata": {},
   "outputs": [],
   "source": []
  },
  {
   "cell_type": "code",
   "execution_count": 5,
   "id": "28ef1a03",
   "metadata": {},
   "outputs": [],
   "source": [
    "# with Encapulation we can make private variable\n",
    "class demo:\n",
    "    def __init__(self):\n",
    "        self.__name = \"Aditya\"\n",
    "        self.__age = 20\n",
    "        self.__sal = 20000000\n",
    "    def display(self):\n",
    "        print(f\"Name is {self.__name}\")\n",
    "        print(f\"Age is {self.__age}\")\n",
    "        print(f\"Salary is {self.__sal}\")"
   ]
  },
  {
   "cell_type": "code",
   "execution_count": 6,
   "id": "d057eb5b",
   "metadata": {},
   "outputs": [],
   "source": [
    "obj = demo()"
   ]
  },
  {
   "cell_type": "code",
   "execution_count": 7,
   "id": "c9878bd0",
   "metadata": {},
   "outputs": [
    {
     "ename": "AttributeError",
     "evalue": "'demo' object has no attribute '__name'",
     "output_type": "error",
     "traceback": [
      "\u001b[1;31m---------------------------------------------------------------------------\u001b[0m",
      "\u001b[1;31mAttributeError\u001b[0m                            Traceback (most recent call last)",
      "Cell \u001b[1;32mIn[7], line 1\u001b[0m\n\u001b[1;32m----> 1\u001b[0m \u001b[38;5;28mprint\u001b[39m(obj\u001b[38;5;241m.\u001b[39m__name)\n",
      "\u001b[1;31mAttributeError\u001b[0m: 'demo' object has no attribute '__name'"
     ]
    }
   ],
   "source": [
    "print(obj.__name) # here wew can make data as private with (__) sign so we achive encapulation"
   ]
  },
  {
   "cell_type": "code",
   "execution_count": null,
   "id": "e2fb2b5a",
   "metadata": {
    "scrolled": true
   },
   "outputs": [],
   "source": [
    "obj.display()"
   ]
  },
  {
   "cell_type": "code",
   "execution_count": null,
   "id": "42e38dae",
   "metadata": {},
   "outputs": [],
   "source": []
  },
  {
   "cell_type": "code",
   "execution_count": null,
   "id": "aa8d4ca4",
   "metadata": {},
   "outputs": [],
   "source": [
    "# with Encapulation we can make private method\n",
    "class demo:\n",
    "    def __init__(self):\n",
    "        self.__name = \"Aditya\"\n",
    "        self.__age = 20\n",
    "        self.__sal = 20000000\n",
    "    def __display(self):\n",
    "        print(f\"Name is {self.__name}\")\n",
    "        print(f\"Age is {self.__age}\")\n",
    "        print(f\"Salary is {self.__sal}\")\n",
    "    def show(self):\n",
    "        self.__display()"
   ]
  },
  {
   "cell_type": "code",
   "execution_count": 8,
   "id": "9c53aeba",
   "metadata": {},
   "outputs": [],
   "source": [
    "obj = demo()"
   ]
  },
  {
   "cell_type": "code",
   "execution_count": 9,
   "id": "e25822ca",
   "metadata": {},
   "outputs": [
    {
     "ename": "AttributeError",
     "evalue": "'demo' object has no attribute '__display'",
     "output_type": "error",
     "traceback": [
      "\u001b[1;31m---------------------------------------------------------------------------\u001b[0m",
      "\u001b[1;31mAttributeError\u001b[0m                            Traceback (most recent call last)",
      "Cell \u001b[1;32mIn[9], line 1\u001b[0m\n\u001b[1;32m----> 1\u001b[0m obj\u001b[38;5;241m.\u001b[39m__display()\n",
      "\u001b[1;31mAttributeError\u001b[0m: 'demo' object has no attribute '__display'"
     ]
    }
   ],
   "source": [
    "obj.__display()"
   ]
  },
  {
   "cell_type": "code",
   "execution_count": 10,
   "id": "59147ae8",
   "metadata": {},
   "outputs": [
    {
     "ename": "AttributeError",
     "evalue": "'demo' object has no attribute 'show'",
     "output_type": "error",
     "traceback": [
      "\u001b[1;31m---------------------------------------------------------------------------\u001b[0m",
      "\u001b[1;31mAttributeError\u001b[0m                            Traceback (most recent call last)",
      "Cell \u001b[1;32mIn[10], line 1\u001b[0m\n\u001b[1;32m----> 1\u001b[0m obj\u001b[38;5;241m.\u001b[39mshow()\n",
      "\u001b[1;31mAttributeError\u001b[0m: 'demo' object has no attribute 'show'"
     ]
    }
   ],
   "source": [
    "obj.show()"
   ]
  },
  {
   "cell_type": "markdown",
   "id": "691e4f9e",
   "metadata": {},
   "source": [
    "### II Inheritance"
   ]
  },
  {
   "cell_type": "code",
   "execution_count": 11,
   "id": "b641e290",
   "metadata": {},
   "outputs": [
    {
     "data": {
      "text/plain": [
       "'\\n1) simple Inheritance\\n2) Multi level Inheritance\\n3) Multiple Inhertiance\\n4) hirachical Inheritance\\n5) Hybrid Inheritance\\n'"
      ]
     },
     "execution_count": 11,
     "metadata": {},
     "output_type": "execute_result"
    }
   ],
   "source": [
    "'''\n",
    "1) simple Inheritance\n",
    "2) Multi level Inheritance\n",
    "3) Multiple Inhertiance\n",
    "4) hirachical Inheritance\n",
    "5) Hybrid Inheritance\n",
    "'''"
   ]
  },
  {
   "cell_type": "code",
   "execution_count": 12,
   "id": "bd3a409d",
   "metadata": {},
   "outputs": [],
   "source": [
    "# Simple Inheritance \n",
    "class A:\n",
    "    pass\n",
    "class B:\n",
    "    pass\n",
    "class C:\n",
    "    pass"
   ]
  },
  {
   "cell_type": "code",
   "execution_count": 13,
   "id": "fd6828be",
   "metadata": {},
   "outputs": [],
   "source": [
    "# Multi level Inheritance\n",
    "class A:\n",
    "    pass\n",
    "class B(A):\n",
    "    pass\n",
    "class C(B):\n",
    "    pass"
   ]
  },
  {
   "cell_type": "code",
   "execution_count": 14,
   "id": "333502d6",
   "metadata": {},
   "outputs": [],
   "source": [
    "# Multiple Inheritance\n",
    "class A:\n",
    "    pass\n",
    "class B:\n",
    "    pass\n",
    "class C(A,B):\n",
    "    pass"
   ]
  },
  {
   "cell_type": "code",
   "execution_count": 15,
   "id": "2804d8cb",
   "metadata": {},
   "outputs": [],
   "source": [
    "# Hirachical Inheritance"
   ]
  },
  {
   "cell_type": "code",
   "execution_count": 16,
   "id": "75021df7",
   "metadata": {},
   "outputs": [],
   "source": [
    "class A:\n",
    "    pass\n",
    "class B(A):\n",
    "    pass\n",
    "class C(A):\n",
    "    pass"
   ]
  },
  {
   "cell_type": "code",
   "execution_count": 17,
   "id": "5d7e0f6d",
   "metadata": {},
   "outputs": [],
   "source": [
    "# Hybrid inheritance \n",
    "class A:\n",
    "    pass\n",
    "class B:\n",
    "    pass\n",
    "class C(B):\n",
    "    pass\n",
    "class D(A,C):\n",
    "    pass"
   ]
  },
  {
   "cell_type": "code",
   "execution_count": 18,
   "id": "322c2a9d",
   "metadata": {},
   "outputs": [],
   "source": [
    "# simple inheritance "
   ]
  },
  {
   "cell_type": "code",
   "execution_count": 19,
   "id": "d52d0636",
   "metadata": {},
   "outputs": [
    {
     "name": "stdout",
     "output_type": "stream",
     "text": [
      "Buddy is a Dog of breed Golden Retriever. It says: Woof!\n",
      "Whiskers is a Cat of breed Siamese. It says: Meow!\n"
     ]
    }
   ],
   "source": [
    "# Parent class\n",
    "class Animal:\n",
    "    def __init__(self, name, species):\n",
    "        self.name = name\n",
    "        self.species = species\n",
    "\n",
    "    def make_sound(self):\n",
    "        pass  # This will be implemented in the subclasses\n",
    "\n",
    "# Child class inheriting from Animal\n",
    "class Dog(Animal):\n",
    "    def __init__(self, name, breed):\n",
    "        # Calling the __init__ method of the parent class (Animal) using super()\n",
    "        super().__init__(name, species=\"Dog\")\n",
    "        self.breed = breed\n",
    "\n",
    "    def make_sound(self):\n",
    "        return \"Woof!\"\n",
    "\n",
    "# Child class inheriting from Animal\n",
    "class Cat(Animal):\n",
    "    def __init__(self, name, breed):\n",
    "        # Calling the __init__ method of the parent class (Animal) using super()\n",
    "        super().__init__(name, species=\"Cat\")\n",
    "        self.breed = breed\n",
    "\n",
    "    def make_sound(self):\n",
    "        return \"Meow!\"\n",
    "\n",
    "# Creating instances of the subclasses\n",
    "dog = Dog(\"Buddy\", \"Golden Retriever\")\n",
    "cat = Cat(\"Whiskers\", \"Siamese\")\n",
    "\n",
    "# Accessing attributes and methods of the subclasses\n",
    "print(f\"{dog.name} is a {dog.species} of breed {dog.breed}. It says: {dog.make_sound()}\")\n",
    "print(f\"{cat.name} is a {cat.species} of breed {cat.breed}. It says: {cat.make_sound()}\")\n"
   ]
  },
  {
   "cell_type": "code",
   "execution_count": null,
   "id": "aa628d66",
   "metadata": {},
   "outputs": [],
   "source": []
  }
 ],
 "metadata": {
  "kernelspec": {
   "display_name": "Python 3 (ipykernel)",
   "language": "python",
   "name": "python3"
  },
  "language_info": {
   "codemirror_mode": {
    "name": "ipython",
    "version": 3
   },
   "file_extension": ".py",
   "mimetype": "text/x-python",
   "name": "python",
   "nbconvert_exporter": "python",
   "pygments_lexer": "ipython3",
   "version": "3.11.3"
  }
 },
 "nbformat": 4,
 "nbformat_minor": 5
}
