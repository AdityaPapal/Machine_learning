{
 "cells": [
  {
   "cell_type": "markdown",
   "id": "78e64463",
   "metadata": {},
   "source": [
    "# Object Oriented programing "
   ]
  },
  {
   "cell_type": "code",
   "execution_count": 1,
   "id": "5b58a699",
   "metadata": {},
   "outputs": [
    {
     "data": {
      "text/plain": [
       "'\\nque\\nWrite a program to create a class called Circle , having an instance member called radius. Provide following instance methods in your class:\\n__init___() : This method should initialize radius with the parameter passed\\n    \\ncal_area(): This method should calculate and print the radius of the Circle\\n    \\ncal_circumference(): This method should calculate and print the circumference of the Circle\\n    \\nFinally , in the main script , create a Circle object , initialize radius with user input and calculate\\nand display it’s area and circumference\\n\\n\\n'"
      ]
     },
     "execution_count": 1,
     "metadata": {},
     "output_type": "execute_result"
    }
   ],
   "source": [
    "# revision \n",
    "'''\n",
    "que\n",
    "Write a program to create a class called Circle , having an instance member called radius. Provide following instance methods in your class:\n",
    "__init___() : This method should initialize radius with the parameter passed\n",
    "    \n",
    "cal_area(): This method should calculate and print the radius of the Circle\n",
    "    \n",
    "cal_circumference(): This method should calculate and print the circumference of the Circle\n",
    "    \n",
    "Finally , in the main script , create a Circle object , initialize radius with user input and calculate\n",
    "and display it’s area and circumference\n",
    "\n",
    "\n",
    "'''"
   ]
  },
  {
   "cell_type": "code",
   "execution_count": 2,
   "id": "36450f4f",
   "metadata": {},
   "outputs": [],
   "source": [
    "import math\n",
    "class circle:\n",
    "    def __init__(self,r):\n",
    "        self.radius = r\n",
    "    def cal_area(self):\n",
    "        self.area = math.pi*(self.radius ** 2)\n",
    "    def cal_circumference(self):\n",
    "        self.cc = 2*math.pi*self.radius\n",
    "    def display(self):\n",
    "        print(f\"area is {self.area}\")\n",
    "        print(f\"Ccircumference of circle is {self.cc}\")"
   ]
  },
  {
   "cell_type": "code",
   "execution_count": 3,
   "id": "81bd7edf",
   "metadata": {},
   "outputs": [
    {
     "name": "stdout",
     "output_type": "stream",
     "text": [
      "Enter the radius for the circle: 4\n"
     ]
    }
   ],
   "source": [
    "r = int(input(\"Enter the radius for the circle: \"))\n",
    "obj = circle(r)"
   ]
  },
  {
   "cell_type": "code",
   "execution_count": 4,
   "id": "f9d78ba2",
   "metadata": {},
   "outputs": [],
   "source": [
    "obj.cal_area()"
   ]
  },
  {
   "cell_type": "code",
   "execution_count": 5,
   "id": "4bd003a7",
   "metadata": {},
   "outputs": [],
   "source": [
    "obj.cal_circumference()"
   ]
  },
  {
   "cell_type": "code",
   "execution_count": 6,
   "id": "e21ea498",
   "metadata": {},
   "outputs": [
    {
     "name": "stdout",
     "output_type": "stream",
     "text": [
      "area is 50.26548245743669\n",
      "Ccircumference of circle is 25.132741228718345\n"
     ]
    }
   ],
   "source": [
    "obj.display()"
   ]
  },
  {
   "cell_type": "code",
   "execution_count": 7,
   "id": "86af1ebc",
   "metadata": {},
   "outputs": [],
   "source": [
    "# Class Vairable"
   ]
  },
  {
   "cell_type": "code",
   "execution_count": 8,
   "id": "24dd09f8",
   "metadata": {},
   "outputs": [],
   "source": [
    "import math\n",
    "class circle:\n",
    "    pi = math.pi\n",
    "    def __init__(self,r):\n",
    "        self.radius = r\n",
    "    def cal_area(self):\n",
    "        self.area = circle.pi*(self.radius ** 2)\n",
    "    def cal_circumference(self):\n",
    "        self.cc = 2*circle.pi*self.radius\n",
    "    def display(self):\n",
    "        print(f\"area is {self.area}\")\n",
    "        print(f\"Ccircumference of circle is {self.cc}\")\n",
    "    def show(self):\n",
    "        print(id(self))"
   ]
  },
  {
   "cell_type": "code",
   "execution_count": 9,
   "id": "12087d97",
   "metadata": {},
   "outputs": [
    {
     "name": "stdout",
     "output_type": "stream",
     "text": [
      "Enter the radius for the circle: 4\n"
     ]
    }
   ],
   "source": [
    "r = int(input(\"Enter the radius for the circle: \"))\n",
    "obj = circle(r)"
   ]
  },
  {
   "cell_type": "code",
   "execution_count": 10,
   "id": "0ce8bedf",
   "metadata": {},
   "outputs": [],
   "source": [
    "obj.cal_area()"
   ]
  },
  {
   "cell_type": "code",
   "execution_count": 11,
   "id": "ac23208a",
   "metadata": {},
   "outputs": [],
   "source": [
    "obj.cal_circumference()"
   ]
  },
  {
   "cell_type": "code",
   "execution_count": 12,
   "id": "bcc3b5a0",
   "metadata": {},
   "outputs": [
    {
     "name": "stdout",
     "output_type": "stream",
     "text": [
      "area is 50.26548245743669\n",
      "Ccircumference of circle is 25.132741228718345\n"
     ]
    }
   ],
   "source": [
    "obj.display()"
   ]
  },
  {
   "cell_type": "code",
   "execution_count": 13,
   "id": "36eec444",
   "metadata": {},
   "outputs": [
    {
     "name": "stdout",
     "output_type": "stream",
     "text": [
      "1994406818384\n"
     ]
    }
   ],
   "source": [
    "obj.show()"
   ]
  },
  {
   "cell_type": "code",
   "execution_count": 14,
   "id": "290a941b",
   "metadata": {},
   "outputs": [
    {
     "name": "stdout",
     "output_type": "stream",
     "text": [
      "1994406818384\n"
     ]
    }
   ],
   "source": [
    "print(id(obj))"
   ]
  },
  {
   "cell_type": "code",
   "execution_count": 15,
   "id": "99f58bd9",
   "metadata": {},
   "outputs": [
    {
     "data": {
      "text/plain": [
       "'\\nWrite a program to create a class called Emp , having an instance members called name , age and sal . \\nAlso declare a class variable called raise_amount to store the increment percentage of sal and set \\nit the value given by the user\\n\\nNow provide following methods in your class\\n__init___() : This method should initialize instance members  with the parameter passed\\n\\nincrease_sal(): This method should calculate the increment in sal and add it to the instance member sal\\n\\ndisplay(): This method should display name , age and sal of the employee\\n\\nFinally , in the main script , create 2 Emp objects , initialize them and increase their salary . Finally display the data\\n\\n'"
      ]
     },
     "execution_count": 15,
     "metadata": {},
     "output_type": "execute_result"
    }
   ],
   "source": [
    "'''\n",
    "Write a program to create a class called Emp , having an instance members called name , age and sal . \n",
    "Also declare a class variable called raise_amount to store the increment percentage of sal and set \n",
    "it the value given by the user\n",
    "\n",
    "Now provide following methods in your class\n",
    "__init___() : This method should initialize instance members  with the parameter passed\n",
    "\n",
    "increase_sal(): This method should calculate the increment in sal and add it to the instance member sal\n",
    "\n",
    "display(): This method should display name , age and sal of the employee\n",
    "\n",
    "Finally , in the main script , create 2 Emp objects , initialize them and increase their salary . Finally display the data\n",
    "\n",
    "'''"
   ]
  },
  {
   "cell_type": "code",
   "execution_count": 18,
   "id": "ff611bc1",
   "metadata": {},
   "outputs": [
    {
     "name": "stdout",
     "output_type": "stream",
     "text": [
      "Enter the Name of Employee: aditya\n",
      "Enter the age of employee: 20\n",
      "Enter the salary of Employee: 20000000\n",
      "\n",
      "Name of Emloyee is aditya\n",
      "Age of Employee is 20\n",
      "Salary of Employee is 25000000.0\n"
     ]
    }
   ],
   "source": [
    "class emp:\n",
    "    raise_amount = 25\n",
    "    def __init__(self,name,age,salary):\n",
    "        self.name = name\n",
    "        self.age = age\n",
    "        self.sal = salary\n",
    "    \n",
    "    def increase_sal(self):\n",
    "        self.sal =  self.sal + (self.sal *(emp.raise_amount/100))\n",
    "        \n",
    "    def display(self):\n",
    "        print()\n",
    "        print(f\"Name of Emloyee is {self.name}\")\n",
    "        print(f\"Age of Employee is {self.age}\")\n",
    "        print(f\"Salary of Employee is {self.sal}\")\n",
    "\n",
    "name = input(\"Enter the Name of Employee: \")\n",
    "age = int(input(\"Enter the age of employee: \"))\n",
    "salary = int(input(\"Enter the salary of Employee: \"))\n",
    "\n",
    "obj = emp(name,age,salary)\n",
    "obj.increase_sal()\n",
    "obj.display()"
   ]
  },
  {
   "cell_type": "code",
   "execution_count": 19,
   "id": "bbcd3b6d",
   "metadata": {},
   "outputs": [
    {
     "name": "stdout",
     "output_type": "stream",
     "text": [
      "Enter the salary increment percentage: 25\n",
      "Enter the Name of Employee: aditya\n",
      "Enter the age of employee: 20\n",
      "Enter the salary of Employee: 20000000\n",
      "\n",
      "Name of Emloyee is aditya\n",
      "Age of Employee is 20\n",
      "Salary of Employee is 25000000.0\n"
     ]
    }
   ],
   "source": [
    "class emp:\n",
    "    raise_amount = float(input(\"Enter the salary increment percentage: \"))\n",
    "    def __init__(self,name,age,salary):\n",
    "        self.name = name\n",
    "        self.age = age\n",
    "        self.sal = salary\n",
    "    \n",
    "    def increase_sal(self):\n",
    "        self.sal =  self.sal + (self.sal *(emp.raise_amount/100))\n",
    "        \n",
    "    def display(self):\n",
    "        print()\n",
    "        print(f\"Name of Emloyee is {self.name}\")\n",
    "        print(f\"Age of Employee is {self.age}\")\n",
    "        print(f\"Salary of Employee is {self.sal}\")\n",
    "\n",
    "name = input(\"Enter the Name of Employee: \")\n",
    "age = int(input(\"Enter the age of employee: \"))\n",
    "salary = int(input(\"Enter the salary of Employee: \"))\n",
    "\n",
    "obj = emp(name,age,salary)\n",
    "obj.increase_sal()\n",
    "obj.display()"
   ]
  },
  {
   "cell_type": "code",
   "execution_count": 20,
   "id": "1ddbab22",
   "metadata": {},
   "outputs": [],
   "source": [
    "class emp:\n",
    "    raise_amout=0\n",
    "    \n",
    "    @classmethod\n",
    "    def set_raise_amt(cls):\n",
    "        cls.raise_amout=float(input(\"write a percent which you want to increase\"))\n",
    "    \n",
    "    \n",
    "    \n",
    "    def __init__(self,name,age,sal):\n",
    "        self.name=name\n",
    "        self.age=age\n",
    "        self.sal=sal\n",
    "    def increase_sal(self):\n",
    "        self.sal=self.sal+(self.sal*emp.raise_amout/100)\n",
    "    def display(self):\n",
    "        print(self.sal,self.name,self.age)"
   ]
  },
  {
   "cell_type": "markdown",
   "id": "c7ae4678",
   "metadata": {},
   "source": [
    "### static method"
   ]
  },
  {
   "cell_type": "code",
   "execution_count": 22,
   "id": "6074630c",
   "metadata": {},
   "outputs": [],
   "source": [
    "class math:\n",
    "    @staticmethod\n",
    "    def add_nos(a,b):\n",
    "        c=a+b\n",
    "        return c\n",
    "    @staticmethod\n",
    "    def mul_nos(a,b):\n",
    "        c=a*b\n",
    "        return c"
   ]
  },
  {
   "cell_type": "code",
   "execution_count": 23,
   "id": "0fd9a31b",
   "metadata": {},
   "outputs": [
    {
     "data": {
      "text/plain": [
       "30"
      ]
     },
     "execution_count": 23,
     "metadata": {},
     "output_type": "execute_result"
    }
   ],
   "source": [
    "math.add_nos(10,20)"
   ]
  },
  {
   "cell_type": "code",
   "execution_count": 24,
   "id": "3b74ce53",
   "metadata": {},
   "outputs": [
    {
     "data": {
      "text/plain": [
       "8"
      ]
     },
     "execution_count": 24,
     "metadata": {},
     "output_type": "execute_result"
    }
   ],
   "source": [
    "math.mul_nos(2,4)"
   ]
  },
  {
   "cell_type": "code",
   "execution_count": null,
   "id": "4d0a46ec",
   "metadata": {},
   "outputs": [],
   "source": []
  }
 ],
 "metadata": {
  "kernelspec": {
   "display_name": "Python 3 (ipykernel)",
   "language": "python",
   "name": "python3"
  },
  "language_info": {
   "codemirror_mode": {
    "name": "ipython",
    "version": 3
   },
   "file_extension": ".py",
   "mimetype": "text/x-python",
   "name": "python",
   "nbconvert_exporter": "python",
   "pygments_lexer": "ipython3",
   "version": "3.11.3"
  }
 },
 "nbformat": 4,
 "nbformat_minor": 5
}
