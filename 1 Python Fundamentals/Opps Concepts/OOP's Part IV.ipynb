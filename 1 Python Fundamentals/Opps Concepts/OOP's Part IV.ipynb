{
 "cells": [
  {
   "cell_type": "code",
   "execution_count": 1,
   "id": "2aee4687",
   "metadata": {},
   "outputs": [
    {
     "data": {
      "text/plain": [
       "'\\nToday Topics\\n1) \\n\\n'"
      ]
     },
     "execution_count": 1,
     "metadata": {},
     "output_type": "execute_result"
    }
   ],
   "source": [
    "'''\n",
    "Today Topics\n",
    "1) \n",
    "\n",
    "'''"
   ]
  },
  {
   "cell_type": "markdown",
   "id": "5b73500c",
   "metadata": {},
   "source": [
    "# Method resolution order(MRO) "
   ]
  },
  {
   "cell_type": "code",
   "execution_count": 53,
   "id": "c697da72",
   "metadata": {},
   "outputs": [],
   "source": [
    "class A:\n",
    "    pass\n",
    "class B:\n",
    "    pass\n",
    "class C(A,B):\n",
    "    pass"
   ]
  },
  {
   "cell_type": "code",
   "execution_count": 54,
   "id": "2438a482",
   "metadata": {},
   "outputs": [],
   "source": [
    "obj = C()"
   ]
  },
  {
   "cell_type": "code",
   "execution_count": 55,
   "id": "d2b0056c",
   "metadata": {},
   "outputs": [
    {
     "data": {
      "text/plain": [
       "[__main__.C, __main__.A, __main__.B, object]"
      ]
     },
     "execution_count": 55,
     "metadata": {},
     "output_type": "execute_result"
    }
   ],
   "source": [
    "C.mro()"
   ]
  },
  {
   "cell_type": "markdown",
   "id": "ded4ba54",
   "metadata": {},
   "source": [
    "# Polymorphism"
   ]
  },
  {
   "cell_type": "code",
   "execution_count": 1,
   "id": "ad9a4ae8",
   "metadata": {},
   "outputs": [],
   "source": [
    "class point:\n",
    "    def __init__(self,x,y):\n",
    "        self.x=x\n",
    "        self.y=y"
   ]
  },
  {
   "cell_type": "code",
   "execution_count": 2,
   "id": "dcf4d877",
   "metadata": {},
   "outputs": [],
   "source": [
    "p1=point(2,4)"
   ]
  },
  {
   "cell_type": "code",
   "execution_count": 3,
   "id": "76f901ea",
   "metadata": {},
   "outputs": [],
   "source": [
    "p2=point(3,6)"
   ]
  },
  {
   "cell_type": "code",
   "execution_count": 4,
   "id": "b896ba02",
   "metadata": {},
   "outputs": [
    {
     "ename": "TypeError",
     "evalue": "unsupported operand type(s) for +: 'point' and 'point'",
     "output_type": "error",
     "traceback": [
      "\u001b[1;31m---------------------------------------------------------------------------\u001b[0m",
      "\u001b[1;31mTypeError\u001b[0m                                 Traceback (most recent call last)",
      "Cell \u001b[1;32mIn[4], line 1\u001b[0m\n\u001b[1;32m----> 1\u001b[0m p1\u001b[38;5;241m+\u001b[39mp2\n",
      "\u001b[1;31mTypeError\u001b[0m: unsupported operand type(s) for +: 'point' and 'point'"
     ]
    }
   ],
   "source": [
    "p1+p2"
   ]
  },
  {
   "cell_type": "code",
   "execution_count": 5,
   "id": "3a01d6f6",
   "metadata": {},
   "outputs": [],
   "source": [
    "class point:\n",
    "    def __init__(self,x,y):\n",
    "        self.x=x\n",
    "        self.y=y\n",
    "    def __add__(self,other):\n",
    "        x=self.x + other.x\n",
    "        y=self.y + other.y\n",
    "        p=point(x,y)\n",
    "        return p\n",
    "    def __repr__(self):\n",
    "        return f\"x={self.x},y={self.y}\""
   ]
  },
  {
   "cell_type": "code",
   "execution_count": 6,
   "id": "87167ab9",
   "metadata": {},
   "outputs": [],
   "source": [
    "p1 = point(2,4)"
   ]
  },
  {
   "cell_type": "code",
   "execution_count": 7,
   "id": "3d84c040",
   "metadata": {},
   "outputs": [
    {
     "name": "stdout",
     "output_type": "stream",
     "text": [
      "x=2,y=4\n"
     ]
    }
   ],
   "source": [
    "print(p1)"
   ]
  },
  {
   "cell_type": "code",
   "execution_count": 8,
   "id": "f26be514",
   "metadata": {},
   "outputs": [],
   "source": [
    "p2 = point(4,8) "
   ]
  },
  {
   "cell_type": "code",
   "execution_count": 9,
   "id": "fe3507c3",
   "metadata": {},
   "outputs": [
    {
     "name": "stdout",
     "output_type": "stream",
     "text": [
      "x=4,y=8\n"
     ]
    }
   ],
   "source": [
    "print(p2)"
   ]
  },
  {
   "cell_type": "code",
   "execution_count": 10,
   "id": "f886400b",
   "metadata": {},
   "outputs": [
    {
     "data": {
      "text/plain": [
       "x=6,y=12"
      ]
     },
     "execution_count": 10,
     "metadata": {},
     "output_type": "execute_result"
    }
   ],
   "source": [
    "p1+p2"
   ]
  },
  {
   "cell_type": "code",
   "execution_count": 11,
   "id": "0cd47ebd",
   "metadata": {},
   "outputs": [
    {
     "data": {
      "text/plain": [
       "'\\nInternal Working : \\np1 + p2 =  __add__()\\np1.__add__(p2)\\npoint.__add__(p1,p2)\\n\\n'"
      ]
     },
     "execution_count": 11,
     "metadata": {},
     "output_type": "execute_result"
    }
   ],
   "source": [
    "'''\n",
    "Internal Working : \n",
    "p1 + p2 =  __add__()\n",
    "p1.__add__(p2)\n",
    "point.__add__(p1,p2)\n",
    "\n",
    "'''"
   ]
  },
  {
   "cell_type": "code",
   "execution_count": 12,
   "id": "c3c0e4fa",
   "metadata": {},
   "outputs": [],
   "source": [
    "class point:\n",
    "    def __init__(self,x,y):\n",
    "        self.x=x\n",
    "        self.y=y\n",
    "    def __sub__(self,other):\n",
    "        x=self.x-other.x\n",
    "        y=self.y-other.y\n",
    "        p=point(x,y)\n",
    "        return p\n",
    "    def __repr__(self):\n",
    "        return f\"x={self.x},y={self.y}\""
   ]
  },
  {
   "cell_type": "code",
   "execution_count": 13,
   "id": "cb7520d0",
   "metadata": {},
   "outputs": [],
   "source": [
    "p1=point(10,20)"
   ]
  },
  {
   "cell_type": "code",
   "execution_count": 14,
   "id": "6184b12a",
   "metadata": {},
   "outputs": [],
   "source": [
    "p2=point(5,10)"
   ]
  },
  {
   "cell_type": "code",
   "execution_count": 15,
   "id": "5d70c10e",
   "metadata": {},
   "outputs": [
    {
     "data": {
      "text/plain": [
       "x=5,y=10"
      ]
     },
     "execution_count": 15,
     "metadata": {},
     "output_type": "execute_result"
    }
   ],
   "source": [
    "p1-p2"
   ]
  },
  {
   "cell_type": "code",
   "execution_count": null,
   "id": "1be73134",
   "metadata": {},
   "outputs": [],
   "source": []
  }
 ],
 "metadata": {
  "kernelspec": {
   "display_name": "Python 3 (ipykernel)",
   "language": "python",
   "name": "python3"
  },
  "language_info": {
   "codemirror_mode": {
    "name": "ipython",
    "version": 3
   },
   "file_extension": ".py",
   "mimetype": "text/x-python",
   "name": "python",
   "nbconvert_exporter": "python",
   "pygments_lexer": "ipython3",
   "version": "3.11.3"
  }
 },
 "nbformat": 4,
 "nbformat_minor": 5
}
