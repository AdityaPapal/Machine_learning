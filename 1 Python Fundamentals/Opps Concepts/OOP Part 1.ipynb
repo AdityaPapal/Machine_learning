{
 "cells": [
  {
   "cell_type": "markdown",
   "id": "e05ad9a0",
   "metadata": {},
   "source": [
    "# Object Oriented Function "
   ]
  },
  {
   "cell_type": "code",
   "execution_count": 8,
   "id": "4b85d812",
   "metadata": {},
   "outputs": [
    {
     "data": {
      "text/plain": [
       "'\\n    1. how to define class and object in python\\n    2. variables in class\\n       instance variable or object variable(done)\\n       local veriable()\\n       class variable\\n    3. methods in class\\n       construtor(this is speical methods)(done)\\n       instnace method(done)\\n       class methods\\n       static methods\\n'"
      ]
     },
     "execution_count": 8,
     "metadata": {},
     "output_type": "execute_result"
    }
   ],
   "source": [
    "'''\n",
    "    1. how to define class and object in python\n",
    "    2. variables in class\n",
    "       instance variable or object variable(done)\n",
    "       local veriable()\n",
    "       class variable\n",
    "    3. methods in class\n",
    "       construtor(this is speical methods)(done)\n",
    "       instnace method(done)\n",
    "       class methods\n",
    "       static methods\n",
    "'''"
   ]
  },
  {
   "cell_type": "code",
   "execution_count": 9,
   "id": "0beea810",
   "metadata": {},
   "outputs": [],
   "source": [
    "class demo:\n",
    "    pass"
   ]
  },
  {
   "cell_type": "code",
   "execution_count": 10,
   "id": "fa32ab3a",
   "metadata": {},
   "outputs": [],
   "source": [
    "obj = demo"
   ]
  },
  {
   "cell_type": "code",
   "execution_count": 11,
   "id": "581d8ef6",
   "metadata": {},
   "outputs": [],
   "source": [
    "class demo:\n",
    "    def __init__(self):\n",
    "        print(\"Sepecial Method called\")\n",
    "    def display(self):\n",
    "        print(\"Class has created successfully\")\n",
    "    def test():\n",
    "        print(\"Method without self keyword\")"
   ]
  },
  {
   "cell_type": "code",
   "execution_count": 12,
   "id": "94b29371",
   "metadata": {},
   "outputs": [
    {
     "name": "stdout",
     "output_type": "stream",
     "text": [
      "Sepecial Method called\n"
     ]
    }
   ],
   "source": [
    "obj = demo()"
   ]
  },
  {
   "cell_type": "code",
   "execution_count": 13,
   "id": "6f05fdec",
   "metadata": {},
   "outputs": [
    {
     "name": "stdout",
     "output_type": "stream",
     "text": [
      "Class has created successfully\n"
     ]
    }
   ],
   "source": [
    "obj.display()"
   ]
  },
  {
   "cell_type": "code",
   "execution_count": 14,
   "id": "fb812a9e",
   "metadata": {},
   "outputs": [
    {
     "ename": "TypeError",
     "evalue": "demo.test() takes 0 positional arguments but 1 was given",
     "output_type": "error",
     "traceback": [
      "\u001b[1;31m---------------------------------------------------------------------------\u001b[0m",
      "\u001b[1;31mTypeError\u001b[0m                                 Traceback (most recent call last)",
      "Cell \u001b[1;32mIn[14], line 1\u001b[0m\n\u001b[1;32m----> 1\u001b[0m obj\u001b[38;5;241m.\u001b[39mtest()\n",
      "\u001b[1;31mTypeError\u001b[0m: demo.test() takes 0 positional arguments but 1 was given"
     ]
    }
   ],
   "source": [
    "obj.test() # we can get error without self keyword"
   ]
  },
  {
   "cell_type": "markdown",
   "id": "3f0b31a3",
   "metadata": {},
   "source": [
    "## Important point :"
   ]
  },
  {
   "cell_type": "code",
   "execution_count": 15,
   "id": "8698eb27",
   "metadata": {},
   "outputs": [],
   "source": [
    "# 1) construtor are those method which will be call immedatily(automatically) whenever we create object\n",
    "# 2) init is a spacial method in python or constructor which will be called automatically whenever we create a object"
   ]
  },
  {
   "cell_type": "code",
   "execution_count": 16,
   "id": "656e3533",
   "metadata": {},
   "outputs": [],
   "source": [
    "# EXAMPLE 2)"
   ]
  },
  {
   "cell_type": "code",
   "execution_count": 17,
   "id": "acaa7f5d",
   "metadata": {},
   "outputs": [],
   "source": [
    "class emp:\n",
    "    def __init__(self):\n",
    "        print(\"Init Method was called: \")\n",
    "    def test():\n",
    "        print(\"Method without any agrument\")\n",
    "    def demo(self):\n",
    "        print(\"Checking\")"
   ]
  },
  {
   "cell_type": "code",
   "execution_count": 18,
   "id": "0a1d203b",
   "metadata": {},
   "outputs": [
    {
     "name": "stdout",
     "output_type": "stream",
     "text": [
      "Init Method was called: \n"
     ]
    }
   ],
   "source": [
    "obj = emp() # constructor "
   ]
  },
  {
   "cell_type": "code",
   "execution_count": 19,
   "id": "67720e20",
   "metadata": {},
   "outputs": [
    {
     "ename": "TypeError",
     "evalue": "emp.test() takes 0 positional arguments but 1 was given",
     "output_type": "error",
     "traceback": [
      "\u001b[1;31m---------------------------------------------------------------------------\u001b[0m",
      "\u001b[1;31mTypeError\u001b[0m                                 Traceback (most recent call last)",
      "Cell \u001b[1;32mIn[19], line 1\u001b[0m\n\u001b[1;32m----> 1\u001b[0m obj\u001b[38;5;241m.\u001b[39mtest()\n",
      "\u001b[1;31mTypeError\u001b[0m: emp.test() takes 0 positional arguments but 1 was given"
     ]
    }
   ],
   "source": [
    "obj.test()"
   ]
  },
  {
   "cell_type": "code",
   "execution_count": 20,
   "id": "a03f8bd0",
   "metadata": {},
   "outputs": [
    {
     "name": "stdout",
     "output_type": "stream",
     "text": [
      "Checking\n"
     ]
    }
   ],
   "source": [
    "obj.demo()"
   ]
  },
  {
   "cell_type": "markdown",
   "id": "9d1cd097",
   "metadata": {},
   "source": [
    "##  Instance Method and Instance variable or object variable"
   ]
  },
  {
   "cell_type": "code",
   "execution_count": 21,
   "id": "603ee555",
   "metadata": {},
   "outputs": [],
   "source": [
    "class human:\n",
    "    def __init__(self): # Intance method\n",
    "        self.name = \"Aditya\"   #\n",
    "        self.age = 20          # } called as instance variable or object variable\n",
    "        self.salary = 2000000  #"
   ]
  },
  {
   "cell_type": "code",
   "execution_count": 22,
   "id": "b8f8d9ce",
   "metadata": {},
   "outputs": [],
   "source": [
    "person = human()"
   ]
  },
  {
   "cell_type": "code",
   "execution_count": 23,
   "id": "1834a4e0",
   "metadata": {},
   "outputs": [
    {
     "data": {
      "text/plain": [
       "'Aditya'"
      ]
     },
     "execution_count": 23,
     "metadata": {},
     "output_type": "execute_result"
    }
   ],
   "source": [
    "person.name"
   ]
  },
  {
   "cell_type": "code",
   "execution_count": 24,
   "id": "72acc314",
   "metadata": {},
   "outputs": [
    {
     "data": {
      "text/plain": [
       "20"
      ]
     },
     "execution_count": 24,
     "metadata": {},
     "output_type": "execute_result"
    }
   ],
   "source": [
    "person.age"
   ]
  },
  {
   "cell_type": "code",
   "execution_count": 25,
   "id": "6690dddd",
   "metadata": {},
   "outputs": [
    {
     "data": {
      "text/plain": [
       "2000000"
      ]
     },
     "execution_count": 25,
     "metadata": {},
     "output_type": "execute_result"
    }
   ],
   "source": [
    "person.salary"
   ]
  },
  {
   "cell_type": "code",
   "execution_count": 26,
   "id": "c218e174",
   "metadata": {},
   "outputs": [],
   "source": [
    "# we can get information of instance vairable from user, bellow is example "
   ]
  },
  {
   "cell_type": "code",
   "execution_count": 32,
   "id": "4684d82c",
   "metadata": {},
   "outputs": [],
   "source": [
    "class human:\n",
    "    def __init__(self,a,b,c):\n",
    "        self.name = a\n",
    "        self.age = b       \n",
    "        self.salary = c"
   ]
  },
  {
   "cell_type": "code",
   "execution_count": 35,
   "id": "5503b732",
   "metadata": {},
   "outputs": [
    {
     "name": "stdout",
     "output_type": "stream",
     "text": [
      "Enter the Person Name: aditya\n",
      "Enter the Person Age: 20\n",
      "Enter the Person Salary: 2000000\n"
     ]
    }
   ],
   "source": [
    "name = input(\"Enter the Person Name: \")\n",
    "age = int(input(\"Enter the Person Age: \"))\n",
    "salary = int(input(\"Enter the Person Salary: \"))\n",
    "\n",
    "person = human(name,age,salary)"
   ]
  },
  {
   "cell_type": "code",
   "execution_count": 36,
   "id": "52f6119d",
   "metadata": {},
   "outputs": [
    {
     "data": {
      "text/plain": [
       "'aditya'"
      ]
     },
     "execution_count": 36,
     "metadata": {},
     "output_type": "execute_result"
    }
   ],
   "source": [
    "person.name"
   ]
  },
  {
   "cell_type": "code",
   "execution_count": 37,
   "id": "6493d304",
   "metadata": {},
   "outputs": [
    {
     "data": {
      "text/plain": [
       "20"
      ]
     },
     "execution_count": 37,
     "metadata": {},
     "output_type": "execute_result"
    }
   ],
   "source": [
    "person.age"
   ]
  },
  {
   "cell_type": "code",
   "execution_count": 38,
   "id": "d57c5589",
   "metadata": {},
   "outputs": [
    {
     "data": {
      "text/plain": [
       "2000000"
      ]
     },
     "execution_count": 38,
     "metadata": {},
     "output_type": "execute_result"
    }
   ],
   "source": [
    "person.salary"
   ]
  },
  {
   "cell_type": "code",
   "execution_count": 39,
   "id": "94063c8a",
   "metadata": {},
   "outputs": [],
   "source": [
    "# display function for print this person information"
   ]
  },
  {
   "cell_type": "code",
   "execution_count": 40,
   "id": "91308bf4",
   "metadata": {},
   "outputs": [],
   "source": [
    "class human:\n",
    "    def __init__(self,a,b,c):\n",
    "        self.name = a\n",
    "        self.age = b       \n",
    "        self.salary = c\n",
    "    def display(self):\n",
    "        print(f\"person name is: {self.name}\")\n",
    "        print(f\"Person age is: {self.age}\")\n",
    "        print(f\"Person Salary: {self.salary}\")"
   ]
  },
  {
   "cell_type": "code",
   "execution_count": 41,
   "id": "144d404f",
   "metadata": {},
   "outputs": [
    {
     "name": "stdout",
     "output_type": "stream",
     "text": [
      "Enter the Person Name: Aditya\n",
      "Enter the Person Age: 20\n",
      "Enter the Person Salary: 5000000\n"
     ]
    }
   ],
   "source": [
    "name = input(\"Enter the Person Name: \")\n",
    "age = int(input(\"Enter the Person Age: \"))\n",
    "salary = int(input(\"Enter the Person Salary: \"))\n",
    "\n",
    "person = human(name,age,salary)"
   ]
  },
  {
   "cell_type": "code",
   "execution_count": 42,
   "id": "b51efaf7",
   "metadata": {},
   "outputs": [
    {
     "name": "stdout",
     "output_type": "stream",
     "text": [
      "person name is: Aditya\n",
      "Person age is: 20\n",
      "Person Salary: 5000000\n"
     ]
    }
   ],
   "source": [
    "person.display()"
   ]
  },
  {
   "cell_type": "code",
   "execution_count": null,
   "id": "02ddc116",
   "metadata": {},
   "outputs": [],
   "source": []
  }
 ],
 "metadata": {
  "kernelspec": {
   "display_name": "Python 3 (ipykernel)",
   "language": "python",
   "name": "python3"
  },
  "language_info": {
   "codemirror_mode": {
    "name": "ipython",
    "version": 3
   },
   "file_extension": ".py",
   "mimetype": "text/x-python",
   "name": "python",
   "nbconvert_exporter": "python",
   "pygments_lexer": "ipython3",
   "version": "3.11.3"
  }
 },
 "nbformat": 4,
 "nbformat_minor": 5
}
