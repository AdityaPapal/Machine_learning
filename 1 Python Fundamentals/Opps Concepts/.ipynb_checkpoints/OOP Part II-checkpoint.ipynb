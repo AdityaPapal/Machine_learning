{
 "cells": [
  {
   "cell_type": "markdown",
   "id": "1c9a1d85",
   "metadata": {},
   "source": [
    "# Object Oriented programing "
   ]
  },
  {
   "cell_type": "code",
   "execution_count": 1,
   "id": "24c4a562",
   "metadata": {},
   "outputs": [
    {
     "data": {
      "text/plain": [
       "'\\nque\\nWrite a program to create a class called Circle , having an instance member called radius. Provide following instance methods in your class:\\n__init___() : This method should initialize radius with the parameter passed\\n    \\ncal_area(): This method should calculate and print the radius of the Circle\\n    \\ncal_circumference(): This method should calculate and print the circumference of the Circle\\n    \\nFinally , in the main script , create a Circle object , initialize radius with user input and calculate\\nand display it’s area and circumference\\n\\n\\n'"
      ]
     },
     "execution_count": 1,
     "metadata": {},
     "output_type": "execute_result"
    }
   ],
   "source": [
    "# revision \n",
    "'''\n",
    "que\n",
    "Write a program to create a class called Circle , having an instance member called radius. Provide following instance methods in your class:\n",
    "__init___() : This method should initialize radius with the parameter passed\n",
    "    \n",
    "cal_area(): This method should calculate and print the radius of the Circle\n",
    "    \n",
    "cal_circumference(): This method should calculate and print the circumference of the Circle\n",
    "    \n",
    "Finally , in the main script , create a Circle object , initialize radius with user input and calculate\n",
    "and display it’s area and circumference\n",
    "\n",
    "\n",
    "'''"
   ]
  },
  {
   "cell_type": "code",
   "execution_count": null,
   "id": "326e0f3a",
   "metadata": {},
   "outputs": [],
   "source": [
    "import math\n",
    "class circle:\n",
    "    def __init__(self,r):\n",
    "        self.radius = r\n",
    "    def cal_area(self):\n",
    "        self.area = math.pi*(self.radius ** 2)\n",
    "    def cal_circumference(self):\n",
    "        self.cc = 2*math.pi*self.radius\n",
    "    def display(self):\n",
    "        print(f\"area is {self.area}\")\n",
    "        print(f\"Ccircumference of circle is {self.cc}\")"
   ]
  },
  {
   "cell_type": "code",
   "execution_count": null,
   "id": "8d8233dc",
   "metadata": {},
   "outputs": [],
   "source": [
    "r = int(input(\"Enter the radius for the circle: \"))\n",
    "obj = circle(r)"
   ]
  },
  {
   "cell_type": "code",
   "execution_count": null,
   "id": "b2ace789",
   "metadata": {},
   "outputs": [],
   "source": [
    "obj.cal_area()"
   ]
  },
  {
   "cell_type": "code",
   "execution_count": null,
   "id": "311ef7b2",
   "metadata": {},
   "outputs": [],
   "source": [
    "obj.cal_circumference()"
   ]
  },
  {
   "cell_type": "code",
   "execution_count": null,
   "id": "03042c25",
   "metadata": {},
   "outputs": [],
   "source": [
    "obj.display()"
   ]
  },
  {
   "cell_type": "code",
   "execution_count": null,
   "id": "952be51f",
   "metadata": {},
   "outputs": [],
   "source": [
    "# Class Vairable"
   ]
  },
  {
   "cell_type": "code",
   "execution_count": null,
   "id": "a80f6d15",
   "metadata": {},
   "outputs": [],
   "source": [
    "import math\n",
    "class circle:\n",
    "    pi = math.pi\n",
    "    def __init__(self,r):\n",
    "        self.radius = r\n",
    "    def cal_area(self):\n",
    "        self.area = circle.pi*(self.radius ** 2)\n",
    "    def cal_circumference(self):\n",
    "        self.cc = 2*circle.pi*self.radius\n",
    "    def display(self):\n",
    "        print(f\"area is {self.area}\")\n",
    "        print(f\"Ccircumference of circle is {self.cc}\")\n",
    "    def show(self):\n",
    "        print(id(self))"
   ]
  },
  {
   "cell_type": "code",
   "execution_count": null,
   "id": "1e6f5e83",
   "metadata": {},
   "outputs": [],
   "source": [
    "r = int(input(\"Enter the radius for the circle: \"))\n",
    "obj = circle(r)"
   ]
  },
  {
   "cell_type": "code",
   "execution_count": null,
   "id": "8112338f",
   "metadata": {},
   "outputs": [],
   "source": [
    "obj.cal_area()"
   ]
  },
  {
   "cell_type": "code",
   "execution_count": null,
   "id": "82f36444",
   "metadata": {},
   "outputs": [],
   "source": [
    "obj.cal_circumference()"
   ]
  },
  {
   "cell_type": "code",
   "execution_count": null,
   "id": "0ab514d8",
   "metadata": {},
   "outputs": [],
   "source": [
    "obj.display()"
   ]
  },
  {
   "cell_type": "code",
   "execution_count": null,
   "id": "953c7110",
   "metadata": {},
   "outputs": [],
   "source": [
    "obj.show()"
   ]
  },
  {
   "cell_type": "code",
   "execution_count": null,
   "id": "63dc895d",
   "metadata": {},
   "outputs": [],
   "source": [
    "print(id(obj))"
   ]
  },
  {
   "cell_type": "code",
   "execution_count": null,
   "id": "3812facd",
   "metadata": {},
   "outputs": [],
   "source": [
    "'''\n",
    "Write a program to create a class called Emp , having an instance members called name , age and sal . \n",
    "Also declare a class variable called raise_amount to store the increment percentage of sal and set \n",
    "it the value given by the user\n",
    "\n",
    "Now provide following methods in your class\n",
    "__init___() : This method should initialize instance members  with the parameter passed\n",
    "\n",
    "increase_sal(): This method should calculate the increment in sal and add it to the instance member sal\n",
    "\n",
    "display(): This method should display name , age and sal of the employee\n",
    "\n",
    "Finally , in the main script , create 2 Emp objects , initialize them and increase their salary . Finally display the data\n",
    "\n",
    "'''"
   ]
  },
  {
   "cell_type": "code",
   "execution_count": null,
   "id": "7e7f6861",
   "metadata": {},
   "outputs": [],
   "source": [
    "class emp:\n",
    "    raise_amount = 25\n",
    "    def __init__(self,name,age,salary):\n",
    "        self.name = name\n",
    "        self.age = age\n",
    "        self.salary = salary\n",
    "    \n",
    "    def increase_sal(self):\n",
    "        self.inSalary = salary * (emp.raise_amount/100)\n",
    "        \n",
    "    def display(self):\n",
    "        print(f\"Name of Emloyee is {self.name}\")\n",
    "        print(f\"Age of Employee is {self.age}\")\n",
    "        print(f\"Salary of Employee is {self.salary}\")\n",
    "\n",
    "name = input(\"Enter the Name of Employee\")\n",
    "age = int(input(\"Enter the age of employee\"))\n",
    "salary = int(input(\"Enter the salary of Employee\"))\n",
    "\n",
    "obj = emp(name,age,salary)\n",
    "obj.increase_sal()"
   ]
  },
  {
   "cell_type": "code",
   "execution_count": null,
   "id": "90346e86",
   "metadata": {},
   "outputs": [],
   "source": [
    "obj.display()"
   ]
  },
  {
   "cell_type": "code",
   "execution_count": null,
   "id": "e0d8aa23",
   "metadata": {},
   "outputs": [],
   "source": []
  }
 ],
 "metadata": {
  "kernelspec": {
   "display_name": "Python 3 (ipykernel)",
   "language": "python",
   "name": "python3"
  },
  "language_info": {
   "codemirror_mode": {
    "name": "ipython",
    "version": 3
   },
   "file_extension": ".py",
   "mimetype": "text/x-python",
   "name": "python",
   "nbconvert_exporter": "python",
   "pygments_lexer": "ipython3",
   "version": "3.11.3"
  }
 },
 "nbformat": 4,
 "nbformat_minor": 5
}
