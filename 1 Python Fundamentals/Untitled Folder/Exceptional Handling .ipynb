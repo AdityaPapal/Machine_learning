{
 "cells": [
  {
   "cell_type": "code",
   "execution_count": 1,
   "id": "e814d834",
   "metadata": {},
   "outputs": [
    {
     "name": "stdout",
     "output_type": "stream",
     "text": [
      "Enter the Multiple number's: 10 10\n",
      "10 10\n"
     ]
    }
   ],
   "source": [
    "x, y = map(int, input(\"Enter the Multiple number's: \").split())\n",
    "print(x,y)"
   ]
  },
  {
   "cell_type": "code",
   "execution_count": 2,
   "id": "2e0d0028",
   "metadata": {},
   "outputs": [],
   "source": [
    "c = x/y\n",
    "d = x+y "
   ]
  },
  {
   "cell_type": "code",
   "execution_count": 3,
   "id": "1f45d7cc",
   "metadata": {},
   "outputs": [
    {
     "data": {
      "text/plain": [
       "(1.0, 20)"
      ]
     },
     "execution_count": 3,
     "metadata": {},
     "output_type": "execute_result"
    }
   ],
   "source": [
    "c,d"
   ]
  },
  {
   "cell_type": "code",
   "execution_count": null,
   "id": "7eb3a5dd",
   "metadata": {},
   "outputs": [],
   "source": []
  },
  {
   "cell_type": "code",
   "execution_count": 4,
   "id": "209b9510",
   "metadata": {},
   "outputs": [
    {
     "name": "stdout",
     "output_type": "stream",
     "text": [
      "Enter the two numbers: 10 20\n",
      "Divsion is : 0.5\n",
      "Sum is : 30\n"
     ]
    }
   ],
   "source": [
    "a,b = map(int,input(\"Enter the two numbers: \").split())\n",
    "c = a/b\n",
    "print(f\"Divsion is : {c}\")\n",
    "d = a+b\n",
    "print(f\"Sum is : {d}\")"
   ]
  },
  {
   "cell_type": "code",
   "execution_count": 5,
   "id": "e99d43ee",
   "metadata": {},
   "outputs": [
    {
     "name": "stdout",
     "output_type": "stream",
     "text": [
      "Enter the two numbers: 20 10\n",
      "Divsion is : 2.0\n",
      "Sum is : 30\n"
     ]
    }
   ],
   "source": [
    "a,b = map(int,input(\"Enter the two numbers: \").split())\n",
    "c = a/b\n",
    "print(f\"Divsion is : {c}\")\n",
    "d = a+b\n",
    "print(f\"Sum is : {d}\")"
   ]
  },
  {
   "cell_type": "code",
   "execution_count": 6,
   "id": "a52193c2",
   "metadata": {},
   "outputs": [
    {
     "ename": "SyntaxError",
     "evalue": "expected ':' (86825006.py, line 2)",
     "output_type": "error",
     "traceback": [
      "\u001b[1;36m  Cell \u001b[1;32mIn[6], line 2\u001b[1;36m\u001b[0m\n\u001b[1;33m    try\u001b[0m\n\u001b[1;37m       ^\u001b[0m\n\u001b[1;31mSyntaxError\u001b[0m\u001b[1;31m:\u001b[0m expected ':'\n"
     ]
    }
   ],
   "source": [
    "# Exceptional handling keyword for python\n",
    "try\n",
    "except\n",
    "else \n",
    "raise \n",
    "finally\n"
   ]
  },
  {
   "cell_type": "code",
   "execution_count": 7,
   "id": "7142315f",
   "metadata": {},
   "outputs": [
    {
     "name": "stdout",
     "output_type": "stream",
     "text": [
      "Enter the two numbers: 10 30\n",
      "Divsion is : 0.3333333333333333\n",
      "Sum is : 40\n"
     ]
    }
   ],
   "source": [
    "# we handle the zerodivision error by exceptional handling\n",
    "try:\n",
    "    a,b = map(int,input(\"Enter the two numbers: \").split())\n",
    "    c = a/b\n",
    "    print(f\"Divsion is : {c}\")\n",
    "except:\n",
    "    print(\"B should not be zero\")\n",
    "d = a+b\n",
    "print(f\"Sum is : {d}\")"
   ]
  },
  {
   "cell_type": "code",
   "execution_count": 8,
   "id": "8f3d720c",
   "metadata": {},
   "outputs": [
    {
     "name": "stdout",
     "output_type": "stream",
     "text": [
      "Enter the two numbers: 10 3\n",
      "Divsion is : 3.3333333333333335\n",
      "Sum is : 13\n"
     ]
    }
   ],
   "source": [
    "try:\n",
    "    a,b = map(int,input(\"Enter the two numbers: \").split())\n",
    "    c = a/b\n",
    "    print(f\"Divsion is : {c}\")\n",
    "except:\n",
    "    print(\"B should not be zero\")\n",
    "d = a+b\n",
    "print(f\"Sum is : {d}\")"
   ]
  },
  {
   "cell_type": "code",
   "execution_count": 9,
   "id": "d4774826",
   "metadata": {},
   "outputs": [
    {
     "name": "stdout",
     "output_type": "stream",
     "text": [
      "Enter the two numbers: 10 5\n",
      "Divsion is : 2.0\n",
      "Sum is : 15\n"
     ]
    }
   ],
   "source": [
    "# a = 10 , b= 2a\n",
    "try:\n",
    "    a,b = map(int,input(\"Enter the two numbers: \").split())\n",
    "    c = a/b\n",
    "    print(f\"Divsion is : {c}\")\n",
    "except:\n",
    "    print(\"B should be Integer\")\n",
    "d = a+b\n",
    "print(f\"Sum is : {d}\")"
   ]
  },
  {
   "cell_type": "code",
   "execution_count": 13,
   "id": "d5875f1d",
   "metadata": {},
   "outputs": [
    {
     "name": "stdout",
     "output_type": "stream",
     "text": [
      "enter first number1\n",
      "enter second number2\n",
      "div is  0.5\n",
      "sum is  3\n"
     ]
    }
   ],
   "source": [
    "try:\n",
    "    a=int(input(\"enter first number\"))\n",
    "    b=int(input(\"enter second number\"))\n",
    "    c=a/b\n",
    "    print(\"div is \",c)\n",
    "except Exception:\n",
    "    print(\"b should be integer\")\n",
    "d=a+b\n",
    "print(\"sum is \",d)"
   ]
  },
  {
   "cell_type": "code",
   "execution_count": 14,
   "id": "359225c5",
   "metadata": {},
   "outputs": [
    {
     "name": "stdout",
     "output_type": "stream",
     "text": [
      "enter first number1\n",
      "enter second number2\n",
      "div is  0.5\n",
      "sum is  3\n"
     ]
    }
   ],
   "source": [
    "try:\n",
    "    a=int(input(\"enter first number\"))\n",
    "    b=int(input(\"enter second number\"))\n",
    "    c=a/b\n",
    "    print(\"div is \",c)\n",
    "except ZeroDivisionError:\n",
    "    print(\"b should be integer\")\n",
    "d=a+b\n",
    "print(\"sum is \",d)"
   ]
  },
  {
   "cell_type": "code",
   "execution_count": 16,
   "id": "31ba94a9",
   "metadata": {},
   "outputs": [
    {
     "name": "stdout",
     "output_type": "stream",
     "text": [
      "enter first number1\n",
      "enter second numbera\n",
      "b should be integer\n",
      "sum is  3\n"
     ]
    }
   ],
   "source": [
    "try:\n",
    "    a=int(input(\"enter first number\"))\n",
    "    b=int(input(\"enter second number\"))\n",
    "    c=a/b\n",
    "    print(\"div is \",c)\n",
    "except ValueError:\n",
    "    print(\"b should be integer\")\n",
    "except ZeroDivisionError:\n",
    "    print(\"b should not be zero\")\n",
    "d=a+b\n",
    "print(\"sum is \",d)"
   ]
  },
  {
   "cell_type": "code",
   "execution_count": 17,
   "id": "aa0eecdf",
   "metadata": {},
   "outputs": [
    {
     "name": "stdout",
     "output_type": "stream",
     "text": [
      "enter first number10 \n",
      "enter second numbera\n",
      "b should be integer\n",
      "sum is  12\n"
     ]
    }
   ],
   "source": [
    "try:\n",
    "    a=int(input(\"enter first number\"))\n",
    "    b=int(input(\"enter second number\"))\n",
    "    c=a/b\n",
    "    print(\"div is \",c)\n",
    "\n",
    "except ZeroDivisionError:\n",
    "    print(\"b should not be zero\")\n",
    "except ValueError:\n",
    "    print(\"b should be integer\")\n",
    "\n",
    "d=a+b\n",
    "print(\"sum is \",d)"
   ]
  },
  {
   "cell_type": "code",
   "execution_count": 18,
   "id": "5018904f",
   "metadata": {},
   "outputs": [
    {
     "name": "stdout",
     "output_type": "stream",
     "text": [
      "Numeric calculation failed!\n"
     ]
    }
   ],
   "source": [
    "import math\n",
    "try:\n",
    "\tx=10/0\n",
    "\tprint(x)\n",
    "\tans=math.exp(20000)\n",
    "\tprint(ans)\n",
    "\n",
    "except ArithmeticError:\n",
    "\tprint(\"Numeric calculation failed!\")\n",
    "except ZeroDivisionError:\n",
    "\tprint(\"Division by 0 exception occurred!\")\t\n"
   ]
  },
  {
   "cell_type": "code",
   "execution_count": 19,
   "id": "bd099c0a",
   "metadata": {},
   "outputs": [
    {
     "ename": "OverflowError",
     "evalue": "math range error",
     "output_type": "error",
     "traceback": [
      "\u001b[1;31m---------------------------------------------------------------------------\u001b[0m",
      "\u001b[1;31mOverflowError\u001b[0m                             Traceback (most recent call last)",
      "Cell \u001b[1;32mIn[19], line 2\u001b[0m\n\u001b[0;32m      1\u001b[0m \u001b[38;5;28;01mimport\u001b[39;00m \u001b[38;5;21;01mmath\u001b[39;00m\n\u001b[1;32m----> 2\u001b[0m math\u001b[38;5;241m.\u001b[39mexp(\u001b[38;5;241m20000\u001b[39m)\n",
      "\u001b[1;31mOverflowError\u001b[0m: math range error"
     ]
    }
   ],
   "source": [
    "import math\n",
    "math.exp(20000)"
   ]
  },
  {
   "cell_type": "code",
   "execution_count": 20,
   "id": "1901cca8",
   "metadata": {},
   "outputs": [
    {
     "name": "stdout",
     "output_type": "stream",
     "text": [
      "Division by 0 exception occurred!\n"
     ]
    }
   ],
   "source": [
    "import math\n",
    "try:\n",
    "\tx=10/0\n",
    "\tprint(x)\n",
    "\tans=math.exp(20000)\n",
    "\tprint(ans)\n",
    "\n",
    "except ZeroDivisionError:\n",
    "\tprint(\"Division by 0 exception occurred!\")\t\n",
    "except ArithmeticError:\n",
    "\tprint(\"Numeric calculation failed!\")"
   ]
  },
  {
   "cell_type": "code",
   "execution_count": 21,
   "id": "d65afb2c",
   "metadata": {},
   "outputs": [
    {
     "data": {
      "text/plain": [
       "'\\nWrite a program to ask the user to input 2 integers and calculate and print their division. Make sure your program behaves as follows:\\n\\nIf the user enters a non integer value then ask him to enter only integers\\nIf denominator is 0 , then ask him to input non-zero denominator\\nRepeat the process until correct input is given\\n\\nOnly if the inputs are correct then display their division and terminate the code\\n\\n'"
      ]
     },
     "execution_count": 21,
     "metadata": {},
     "output_type": "execute_result"
    }
   ],
   "source": [
    "'''\n",
    "Write a program to ask the user to input 2 integers and calculate and print their division. Make sure your program behaves as follows:\n",
    "\n",
    "If the user enters a non integer value then ask him to enter only integers\n",
    "If denominator is 0 , then ask him to input non-zero denominator\n",
    "Repeat the process until correct input is given\n",
    "\n",
    "Only if the inputs are correct then display their division and terminate the code\n",
    "\n",
    "'''"
   ]
  },
  {
   "cell_type": "code",
   "execution_count": 22,
   "id": "090275f4",
   "metadata": {},
   "outputs": [
    {
     "name": "stdout",
     "output_type": "stream",
     "text": [
      "enter first number10 \n",
      "enter second numbera\n",
      "b should be not be char or string\n",
      "enter first number10\n",
      "enter second number0\n",
      "b should not be zero\n",
      "enter first number10 230\n",
      "b should be not be char or string\n",
      "enter first number1\n",
      "enter second number2\n",
      "0.5\n"
     ]
    }
   ],
   "source": [
    "while True:\n",
    "    try:\n",
    "        a=int(input(\"enter first number\"))\n",
    "        b=int(input(\"enter second number\"))\n",
    "        c=a/b\n",
    "        print(c)\n",
    "        break\n",
    "    except ZeroDivisionError:\n",
    "        print(\"b should not be zero\")\n",
    "    except ValueError:\n",
    "        print(\"b should be not be char or string\")"
   ]
  },
  {
   "cell_type": "code",
   "execution_count": 24,
   "id": "31688d65",
   "metadata": {},
   "outputs": [
    {
     "ename": "SyntaxError",
     "evalue": "invalid syntax (106241061.py, line 3)",
     "output_type": "error",
     "traceback": [
      "\u001b[1;36m  Cell \u001b[1;32mIn[24], line 3\u001b[1;36m\u001b[0m\n\u001b[1;33m    final block\u001b[0m\n\u001b[1;37m          ^\u001b[0m\n\u001b[1;31mSyntaxError\u001b[0m\u001b[1;31m:\u001b[0m invalid syntax\n"
     ]
    }
   ],
   "source": [
    "import sys\n",
    "sys.exc_info()\n",
    "final block\n",
    "raise\n",
    "custom exception class"
   ]
  },
  {
   "cell_type": "code",
   "execution_count": 26,
   "id": "27b3d597",
   "metadata": {},
   "outputs": [
    {
     "data": {
      "text/plain": [
       "['__breakpointhook__',\n",
       " '__displayhook__',\n",
       " '__doc__',\n",
       " '__excepthook__',\n",
       " '__interactivehook__',\n",
       " '__loader__',\n",
       " '__name__',\n",
       " '__package__',\n",
       " '__spec__',\n",
       " '__stderr__',\n",
       " '__stdin__',\n",
       " '__stdout__',\n",
       " '__unraisablehook__',\n",
       " '_base_executable',\n",
       " '_clear_type_cache',\n",
       " '_current_exceptions',\n",
       " '_current_frames',\n",
       " '_debugmallocstats',\n",
       " '_enablelegacywindowsfsencoding',\n",
       " '_framework',\n",
       " '_getframe',\n",
       " '_getquickenedcount',\n",
       " '_git',\n",
       " '_home',\n",
       " '_stdlib_dir',\n",
       " '_vpath',\n",
       " '_xoptions',\n",
       " 'addaudithook',\n",
       " 'api_version',\n",
       " 'argv',\n",
       " 'audit',\n",
       " 'base_exec_prefix',\n",
       " 'base_prefix',\n",
       " 'breakpointhook',\n",
       " 'builtin_module_names',\n",
       " 'byteorder',\n",
       " 'call_tracing',\n",
       " 'copyright',\n",
       " 'displayhook',\n",
       " 'dllhandle',\n",
       " 'dont_write_bytecode',\n",
       " 'exc_info',\n",
       " 'excepthook',\n",
       " 'exception',\n",
       " 'exec_prefix',\n",
       " 'executable',\n",
       " 'exit',\n",
       " 'flags',\n",
       " 'float_info',\n",
       " 'float_repr_style',\n",
       " 'get_asyncgen_hooks',\n",
       " 'get_coroutine_origin_tracking_depth',\n",
       " 'get_int_max_str_digits',\n",
       " 'getallocatedblocks',\n",
       " 'getdefaultencoding',\n",
       " 'getfilesystemencodeerrors',\n",
       " 'getfilesystemencoding',\n",
       " 'getprofile',\n",
       " 'getrecursionlimit',\n",
       " 'getrefcount',\n",
       " 'getsizeof',\n",
       " 'getswitchinterval',\n",
       " 'gettrace',\n",
       " 'getwindowsversion',\n",
       " 'hash_info',\n",
       " 'hexversion',\n",
       " 'implementation',\n",
       " 'int_info',\n",
       " 'intern',\n",
       " 'is_finalizing',\n",
       " 'last_traceback',\n",
       " 'last_type',\n",
       " 'last_value',\n",
       " 'maxsize',\n",
       " 'maxunicode',\n",
       " 'meta_path',\n",
       " 'modules',\n",
       " 'orig_argv',\n",
       " 'path',\n",
       " 'path_hooks',\n",
       " 'path_importer_cache',\n",
       " 'platform',\n",
       " 'platlibdir',\n",
       " 'prefix',\n",
       " 'ps1',\n",
       " 'ps2',\n",
       " 'ps3',\n",
       " 'pycache_prefix',\n",
       " 'set_asyncgen_hooks',\n",
       " 'set_coroutine_origin_tracking_depth',\n",
       " 'set_int_max_str_digits',\n",
       " 'setprofile',\n",
       " 'setrecursionlimit',\n",
       " 'setswitchinterval',\n",
       " 'settrace',\n",
       " 'stderr',\n",
       " 'stdin',\n",
       " 'stdlib_module_names',\n",
       " 'stdout',\n",
       " 'thread_info',\n",
       " 'unraisablehook',\n",
       " 'version',\n",
       " 'version_info',\n",
       " 'warnoptions',\n",
       " 'winver']"
      ]
     },
     "execution_count": 26,
     "metadata": {},
     "output_type": "execute_result"
    }
   ],
   "source": [
    "import sys\n",
    "dir(sys)"
   ]
  },
  {
   "cell_type": "code",
   "execution_count": 27,
   "id": "fd049180",
   "metadata": {},
   "outputs": [],
   "source": [
    "try:\n",
    "    pass\n",
    "except:\n",
    "    pass\n",
    "finally:\n",
    "    pass"
   ]
  },
  {
   "cell_type": "code",
   "execution_count": 28,
   "id": "bd2f5280",
   "metadata": {},
   "outputs": [
    {
     "name": "stdout",
     "output_type": "stream",
     "text": [
      "Input first no:1\n",
      "Input second no:2\n",
      "Div is  0.5\n",
      "b should not be a zero\n",
      "it will be always running\n"
     ]
    }
   ],
   "source": [
    "try:\n",
    "        a=int(input(\"Input first no:\"))\n",
    "        b=int(input(\"Input second no:\"))\n",
    "        c=a/b\n",
    "        print(\"Div is \",c)\n",
    "        \n",
    "        x=int('a')\n",
    "except:\n",
    "    print(\"b should not be a zero\")\n",
    "\n",
    "finally:\n",
    "    print(\"it will be always running\")\n",
    "\n",
    "\n"
   ]
  },
  {
   "cell_type": "code",
   "execution_count": 29,
   "id": "8dfbf594",
   "metadata": {},
   "outputs": [
    {
     "name": "stdout",
     "output_type": "stream",
     "text": [
      "Input first no:10 v\n",
      "b should not be a zero\n"
     ]
    },
    {
     "ename": "ValueError",
     "evalue": "invalid literal for int() with base 10: 'a'",
     "output_type": "error",
     "traceback": [
      "\u001b[1;31m---------------------------------------------------------------------------\u001b[0m",
      "\u001b[1;31mValueError\u001b[0m                                Traceback (most recent call last)",
      "Cell \u001b[1;32mIn[29], line 12\u001b[0m\n\u001b[0;32m      9\u001b[0m     \u001b[38;5;28mprint\u001b[39m(\u001b[38;5;124m\"\u001b[39m\u001b[38;5;124mb should not be a zero\u001b[39m\u001b[38;5;124m\"\u001b[39m)\n\u001b[0;32m     11\u001b[0m \u001b[38;5;28;01mfinally\u001b[39;00m:\n\u001b[1;32m---> 12\u001b[0m     x\u001b[38;5;241m=\u001b[39m\u001b[38;5;28mint\u001b[39m(\u001b[38;5;124m'\u001b[39m\u001b[38;5;124ma\u001b[39m\u001b[38;5;124m'\u001b[39m)\n\u001b[0;32m     13\u001b[0m     \u001b[38;5;28mprint\u001b[39m(\u001b[38;5;124m\"\u001b[39m\u001b[38;5;124mit will be always running\u001b[39m\u001b[38;5;124m\"\u001b[39m)\n",
      "\u001b[1;31mValueError\u001b[0m: invalid literal for int() with base 10: 'a'"
     ]
    }
   ],
   "source": [
    "try:\n",
    "        a=int(input(\"Input first no:\"))\n",
    "        b=int(input(\"Input second no:\"))\n",
    "        c=a/b\n",
    "        print(\"Div is \",c)\n",
    "        \n",
    "        \n",
    "except:\n",
    "    print(\"b should not be a zero\")\n",
    "\n",
    "finally:\n",
    "    x=int('a')\n",
    "    print(\"it will be always running\")\n"
   ]
  },
  {
   "cell_type": "code",
   "execution_count": 30,
   "id": "be6f4fd2",
   "metadata": {},
   "outputs": [
    {
     "name": "stdout",
     "output_type": "stream",
     "text": [
      "enter first number10\n",
      "enter second number12\n",
      "0.8333333333333334\n"
     ]
    }
   ],
   "source": [
    "while True:\n",
    "    try:\n",
    "        a=int(input(\"enter first number\"))\n",
    "        b=int(input(\"enter second number\"))\n",
    "        # custom logic\n",
    "        if a<0 or b<0:\n",
    "            raise Exception(\"negative number not allowed, try again\")\n",
    "        c=a/b\n",
    "        print(c)\n",
    "        break\n",
    "    except Exception as e:\n",
    "        print(e)\n",
    "        "
   ]
  },
  {
   "cell_type": "code",
   "execution_count": null,
   "id": "f21b2e39",
   "metadata": {},
   "outputs": [],
   "source": []
  }
 ],
 "metadata": {
  "kernelspec": {
   "display_name": "Python 3 (ipykernel)",
   "language": "python",
   "name": "python3"
  },
  "language_info": {
   "codemirror_mode": {
    "name": "ipython",
    "version": 3
   },
   "file_extension": ".py",
   "mimetype": "text/x-python",
   "name": "python",
   "nbconvert_exporter": "python",
   "pygments_lexer": "ipython3",
   "version": "3.11.3"
  }
 },
 "nbformat": 4,
 "nbformat_minor": 5
}
